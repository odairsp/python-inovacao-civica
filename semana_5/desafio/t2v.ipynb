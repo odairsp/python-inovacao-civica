{
 "cells": [
  {
   "cell_type": "markdown",
   "source": [
    "# raspando dados t2v\r\n"
   ],
   "metadata": {}
  },
  {
   "cell_type": "markdown",
   "source": [
    "## Importando as bibliotecas que iremos utilizar\n",
    "\n",
    "O fluxo da nossa solução será o seguinte:\n",
    "\n",
    "1. Acessar a página inicial da consulta iniciando uma sessão com `requests_html`\n",
    "2. Realizar a consulta com os parâmetros apropriados\n",
    "3. Extrair as informações da tabela de resultados encontrada na página\n",
    "4. Salvar o conteúdo em CSV usando a biblioteca nativa do Python `csv`\n",
    "5. Salvar o conteúdo em CSV mas usando a biblioteca `pandas`\n",
    "\n",
    "Então, os `import` a seguir são os necessários para esta tarefa."
   ],
   "metadata": {}
  },
  {
   "cell_type": "code",
   "execution_count": 105,
   "source": [
    "import csv\r\n",
    "\r\n",
    "import pandas as pd\r\n",
    "from requests_html import HTMLSession"
   ],
   "outputs": [],
   "metadata": {}
  },
  {
   "cell_type": "markdown",
   "source": [
    "## Acessando a página inicial\n",
    "\n",
    "Precisaremos criar uma sessão (como se fosse uma sessão de navegação mesmo) acessando a página inicial para depois fazer a requisição que irá submeter o formulário (realizar a consulta).\n",
    "\n",
    "Primeiro, vamos guardar a nossa URL inicial em uma variável:"
   ],
   "metadata": {}
  },
  {
   "cell_type": "code",
   "execution_count": 117,
   "source": [
    "url = \"http://plataforma.t2v.com.br\"\r\n"
   ],
   "outputs": [],
   "metadata": {}
  },
  {
   "cell_type": "markdown",
   "source": [
    "E então, podemos criar uma sessão e fazer uma requisição para a página inicial:"
   ],
   "metadata": {}
  },
  {
   "cell_type": "code",
   "execution_count": 118,
   "source": [
    "session = HTMLSession()\r\n",
    "first_page = session.get(url)"
   ],
   "outputs": [],
   "metadata": {}
  },
  {
   "cell_type": "code",
   "execution_count": 119,
   "source": [
    "xpath = \"//input[@name='_token']\"\r\n",
    "row = first_page.html.xpath(xpath)\r\n",
    "first_page.text"
   ],
   "outputs": [
    {
     "output_type": "execute_result",
     "data": {
      "text/plain": [
       "'<!DOCTYPE html>\\n<html>\\n<head>\\n    <meta charset=\"utf-8\">\\n    <meta http-equiv=\"X-UA-Compatible\" content=\"IE=edge\">\\n    <title>        Acessar Sistema         | T2V</title>\\n    <!-- Tell the browser to be responsive to screen width -->\\n    <meta content=\"width=device-width, initial-scale=1, maximum-scale=1, user-scalable=no\" name=\"viewport\">\\n    <!-- Bootstrap 3.3.7 -->\\n    <link rel=\"stylesheet\" href=\"https://plataforma.t2v.com.br/vendor/bootstrap/dist/css/bootstrap.min.css\">\\n    <!-- Font Awesome -->\\n    <link rel=\"stylesheet\" href=\"https://plataforma.t2v.com.br/vendor/font-awesome/css/all.min.css\">\\n    <!-- Ionicons -->\\n    <link rel=\"stylesheet\" href=\"https://plataforma.t2v.com.br/vendor/Ionicons/css/ionicons.min.css\">\\n\\n    <link rel=\"stylesheet\" href=\"https://plataforma.t2v.com.br/assets/css/PNotifyBrightTheme.css\"/>\\n\\n    <link rel=\"stylesheet\" href=\"https://plataforma.t2v.com.br/assets/css/multi-select.css\"/>\\n\\n    <link rel=\"stylesheet\" href=\"https://plataforma.t2v.com.br/assets/css/daterangepicker.css\"/>\\n    <link rel=\"stylesheet\" href=\"https://plataforma.t2v.com.br/assets/css/dataTables.bootstrap.min.css\"/>\\n\\n<link rel=\"stylesheet\" href=\"//cdnjs.cloudflare.com/ajax/libs/select2/4.0.3/css/select2.css\">\\n                                                                                                                                                                    <link rel=\"stylesheet\" href=\"//cdnjs.cloudflare.com/ajax/libs/apexcharts/3.22.0/apexcharts.min.css\">\\n                                                                                                    \\n<!-- Theme style -->\\n    <link rel=\"stylesheet\" href=\"https://plataforma.t2v.com.br/vendor/adminlte/dist/css/AdminLTE.min.css\">\\n\\n        <link rel=\"stylesheet\" href=\"https://plataforma.t2v.com.br/vendor/icheck-bootstrap/icheck-bootstrap.min.css\">\\n    \\n    <link rel=\"stylesheet\" href=\"https://plataforma.t2v.com.br/assets/css/template.css?v=1617030834\"/>\\n\\n    <!--[if lt IE 9]>\\n    <script src=\"https://oss.maxcdn.com/html5shiv/3.7.3/html5shiv.min.js\"></script>\\n    <script src=\"https://oss.maxcdn.com/respond/1.4.2/respond.min.js\"></script>\\n    <![endif]-->\\n\\n    <!-- Google Font -->\\n    <link rel=\"stylesheet\"\\n          href=\"https://fonts.googleapis.com/css?family=Source+Sans+Pro:300,400,600,700,300italic,400italic,600italic\">\\n\\n            <script type=\"text/javascript\">\\n            (function(e,r,n,t,s){var a=[];e[s]=function(){a.push(arguments)};e[s].queue=a;  var o=[];var i=[];var c=true;var p=void 0;if(window.PerformanceObserver&&  window.PerformanceObserver.supportedEntryTypes&&(  PerformanceObserver.supportedEntryTypes.indexOf(\"longtask\")>=0||  PerformanceObserver.supportedEntryTypes.indexOf(\"element\")>=0)){  p=new PerformanceObserver(function(e){e.getEntries().forEach(function(e){  switch(e.entryType){case\"element\":i.push(e);break;case\"longtask\":o.push(e);break;  default:break}})});p.observe({entryTypes:[\"longtask\",\"element\"]})}e[s+\"lt\"]={  longTasks:o,timingElements:i,inPageLoad:c,observer:p};if(t){var u=r.createElement(n);  u.async=1;u.src=t;var f=r.getElementsByTagName(n)[0];f.parentNode.insertBefore(u,f)}})\\n            (window,document,\"script\",\"//cdn.sematext.com/experience.js\",\"strum\");\\n        </script>\\n\\n        <script type=\"text/javascript\">\\n            strum(\\'config\\', { token: \\'edb460d9-6668-4b3d-bda0-808c4932555e\\', \\'receiverUrl\\': \\'https://rum-receiver.sematext.com\\' });\\n        </script>\\n    </head>\\n<body class=\"fixed hold-transition login-page  \">\\n\\n    <div class=\"login-box\">\\n\\n        <!-- /.login-logo -->\\n        <div class=\"login-box-body\">\\n            <div class=\"login-logo\">\\n                <a href=\"https://plataforma.t2v.com.br/home\"><img src=\"https://plataforma.newtec.net.br/assets/img/logo_t2v.jpeg\" style=\"padding: 10px; max-width: 200px;\"/></a>\\n            </div>\\n            <p class=\"login-box-msg\">Entre para iniciar uma nova sessão</p>\\n            <form action=\"https://plataforma.t2v.com.br/login\" method=\"post\">\\n                <input type=\"hidden\" name=\"_token\" value=\"0ysggWYDWeNBXqzmLCu74KMREIoZMtc2DJ0YHiXw\">\\n\\n                <div class=\"form-group has-feedback \">\\n                    <input type=\"email\" name=\"email\" class=\"form-control\" value=\"\"\\n                           placeholder=\"Email\">\\n                    <span class=\"glyphicon glyphicon-envelope form-control-feedback\"></span>\\n                                    </div>\\n                <div class=\"form-group has-feedback \">\\n                    <input type=\"password\" name=\"password\" class=\"form-control\"\\n                           placeholder=\"Senha\">\\n                    <span class=\"glyphicon glyphicon-lock form-control-feedback\"></span>\\n                                    </div>\\n                <div class=\"row\">\\n                    <div class=\"col-xs-8\">\\n                        <div class=\"icheck-primary\">\\n                            <input type=\"checkbox\" name=\"remember\" id=\"remember\">\\n                            <label for=\"remember\">Lembrar-me</label>\\n                        </div>\\n                    </div>\\n                    <!-- /.col -->\\n                    <div class=\"col-xs-4\">\\n                        <button type=\"submit\" class=\"btn btn-t2v btn-block btn-flat\">\\n                            Entrar\\n                        </button>\\n                    </div>\\n                    <!-- /.col -->\\n                </div>\\n            </form>\\n            <br>\\n\\n\\n\\n\\n\\n                    </div>\\n        <!-- /.login-box-body -->\\n    </div><!-- /.login-box -->\\n\\n<script src=\"https://plataforma.t2v.com.br/vendor/jquery/dist/jquery.min.js\"></script>\\n<script src=\"https://plataforma.t2v.com.br/vendor/jquery/dist/jquery.slimscroll.min.js\"></script>\\n<script src=\"https://plataforma.t2v.com.br/vendor/bootstrap/dist/js/bootstrap.min.js\"></script>\\n<script src=\"https://plataforma.t2v.com.br/assets/js/jquery.dataTables.min.js\"></script>\\n<script src=\"https://plataforma.t2v.com.br/assets/js/dataTables.bootstrap.min.js\"></script>\\n<script src=\"https://plataforma.t2v.com.br/assets/js/moment.min.js\"></script>\\n<script src=\"https://plataforma.t2v.com.br/assets/js/daterangepicker.min.js\"></script>\\n<script type=\"text/javascript\" src=\"https://plataforma.t2v.com.br/assets/js/PNotify.js\"></script>\\n<script type=\"text/javascript\" src=\"https://plataforma.t2v.com.br/assets/js/jquery.multi-select.js\"></script>\\n\\n<script type=\"text/javascript\"\\n        src=\"https://plataforma.t2v.com.br/assets/js/lang/pt-BR.js?v=1617030834\"></script>\\n<script type=\"text/javascript\" src=\"https://plataforma.t2v.com.br/assets/js/translator.js\"></script>\\n\\n<script src=\"https://plataforma.t2v.com.br/assets/js/template.js?v=1626290114\"></script>\\n\\n<script>\\n    const HERE_MAPS_API_KEY = \\'-m-lg2sQdrlG2_nF_y3Otrx7qLRXAvrpdDDaGWiESIA\\';\\n    var userLang = \\'pt-BR\\';\\n</script>\\n\\n\\n<script src=\"//cdnjs.cloudflare.com/ajax/libs/select2/4.0.3/js/select2.min.js\"></script>\\n                                                                                                                                                                    <script src=\"//cdnjs.cloudflare.com/ajax/libs/apexcharts/3.22.0/apexcharts.min.js\"></script>\\n                                                                                                                                                                    <script src=\"//cdnjs.cloudflare.com/ajax/libs/Chart.js/2.9.3/Chart.bundle.min.js\"></script>\\n                                                                \\n    \\n</body>\\n</html>\\n'"
      ]
     },
     "metadata": {},
     "execution_count": 119
    }
   ],
   "metadata": {}
  },
  {
   "cell_type": "code",
   "execution_count": 120,
   "source": [
    "row_dict = row[0].attrs\r\n",
    "token = row_dict['value']\r\n",
    "token"
   ],
   "outputs": [
    {
     "output_type": "execute_result",
     "data": {
      "text/plain": [
       "'0ysggWYDWeNBXqzmLCu74KMREIoZMtc2DJ0YHiXw'"
      ]
     },
     "metadata": {},
     "execution_count": 120
    }
   ],
   "metadata": {}
  },
  {
   "cell_type": "markdown",
   "source": [
    "## Realizando a consulta\n",
    "\n",
    "Para realizar esta consulta, você deve ter observado que uma requisição `POST` é necessária. Normalmente submissões de formulários são assim mesmo, onde você realiza uma requisição `POST` que o resultado varia a depender dos parâmetros que você insere no _formdata_ (ou dados de formulário). Nesse caso, o _formdata_ deve ser composto pelos parâmetros da nossa consulta (imaginamos).\n",
    "\n",
    "Qual a URL você identificou nessa requisição que realiza a consulta? Guarde-a numa variável:"
   ],
   "metadata": {}
  },
  {
   "cell_type": "code",
   "execution_count": 121,
   "source": [
    "form_url = \"https://plataforma.t2v.com.br/login\""
   ],
   "outputs": [],
   "metadata": {}
  },
  {
   "cell_type": "markdown",
   "source": [
    "E o __formdata__? Conseguiu identificar os campos? Alguns são sempre necessários e outros podem não ser...\n",
    "\n",
    "Preencha aqui com os valores adequados (e se desejar, brinque um pouco com esses parâmetros):"
   ],
   "metadata": {}
  },
  {
   "cell_type": "code",
   "execution_count": 122,
   "source": [
    "formdata = {\r\n",
    "    '_token': token,\r\n",
    "    'email': 'mcp^%^40t2v.com.br',\r\n",
    "    'password': '123'\r\n",
    "}\r\n",
    "\r\n",
    "formdata['_token']"
   ],
   "outputs": [
    {
     "output_type": "execute_result",
     "data": {
      "text/plain": [
       "'0ysggWYDWeNBXqzmLCu74KMREIoZMtc2DJ0YHiXw'"
      ]
     },
     "metadata": {},
     "execution_count": 122
    }
   ],
   "metadata": {}
  },
  {
   "cell_type": "markdown",
   "source": [
    "Com isso podemos fazer nossa consulta:"
   ],
   "metadata": {}
  },
  {
   "cell_type": "code",
   "execution_count": 123,
   "source": [
    "form_response = session.post(form_url, data=formdata)\r\n",
    "form_response\r\n",
    "\r\n"
   ],
   "outputs": [
    {
     "output_type": "execute_result",
     "data": {
      "text/plain": [
       "'<!DOCTYPE html>\\n<html>\\n<head>\\n    <meta charset=\"utf-8\">\\n    <meta http-equiv=\"X-UA-Compatible\" content=\"IE=edge\">\\n    <title>        Acessar Sistema         | T2V</title>\\n    <!-- Tell the browser to be responsive to screen width -->\\n    <meta content=\"width=device-width, initial-scale=1, maximum-scale=1, user-scalable=no\" name=\"viewport\">\\n    <!-- Bootstrap 3.3.7 -->\\n    <link rel=\"stylesheet\" href=\"https://plataforma.t2v.com.br/vendor/bootstrap/dist/css/bootstrap.min.css\">\\n    <!-- Font Awesome -->\\n    <link rel=\"stylesheet\" href=\"https://plataforma.t2v.com.br/vendor/font-awesome/css/all.min.css\">\\n    <!-- Ionicons -->\\n    <link rel=\"stylesheet\" href=\"https://plataforma.t2v.com.br/vendor/Ionicons/css/ionicons.min.css\">\\n\\n    <link rel=\"stylesheet\" href=\"https://plataforma.t2v.com.br/assets/css/PNotifyBrightTheme.css\"/>\\n\\n    <link rel=\"stylesheet\" href=\"https://plataforma.t2v.com.br/assets/css/multi-select.css\"/>\\n\\n    <link rel=\"stylesheet\" href=\"https://plataforma.t2v.com.br/assets/css/daterangepicker.css\"/>\\n    <link rel=\"stylesheet\" href=\"https://plataforma.t2v.com.br/assets/css/dataTables.bootstrap.min.css\"/>\\n\\n<link rel=\"stylesheet\" href=\"//cdnjs.cloudflare.com/ajax/libs/select2/4.0.3/css/select2.css\">\\n                                                                                                                                                                    <link rel=\"stylesheet\" href=\"//cdnjs.cloudflare.com/ajax/libs/apexcharts/3.22.0/apexcharts.min.css\">\\n                                                                                                    \\n<!-- Theme style -->\\n    <link rel=\"stylesheet\" href=\"https://plataforma.t2v.com.br/vendor/adminlte/dist/css/AdminLTE.min.css\">\\n\\n        <link rel=\"stylesheet\" href=\"https://plataforma.t2v.com.br/vendor/icheck-bootstrap/icheck-bootstrap.min.css\">\\n    \\n    <link rel=\"stylesheet\" href=\"https://plataforma.t2v.com.br/assets/css/template.css?v=1617030834\"/>\\n\\n    <!--[if lt IE 9]>\\n    <script src=\"https://oss.maxcdn.com/html5shiv/3.7.3/html5shiv.min.js\"></script>\\n    <script src=\"https://oss.maxcdn.com/respond/1.4.2/respond.min.js\"></script>\\n    <![endif]-->\\n\\n    <!-- Google Font -->\\n    <link rel=\"stylesheet\"\\n          href=\"https://fonts.googleapis.com/css?family=Source+Sans+Pro:300,400,600,700,300italic,400italic,600italic\">\\n\\n            <script type=\"text/javascript\">\\n            (function(e,r,n,t,s){var a=[];e[s]=function(){a.push(arguments)};e[s].queue=a;  var o=[];var i=[];var c=true;var p=void 0;if(window.PerformanceObserver&&  window.PerformanceObserver.supportedEntryTypes&&(  PerformanceObserver.supportedEntryTypes.indexOf(\"longtask\")>=0||  PerformanceObserver.supportedEntryTypes.indexOf(\"element\")>=0)){  p=new PerformanceObserver(function(e){e.getEntries().forEach(function(e){  switch(e.entryType){case\"element\":i.push(e);break;case\"longtask\":o.push(e);break;  default:break}})});p.observe({entryTypes:[\"longtask\",\"element\"]})}e[s+\"lt\"]={  longTasks:o,timingElements:i,inPageLoad:c,observer:p};if(t){var u=r.createElement(n);  u.async=1;u.src=t;var f=r.getElementsByTagName(n)[0];f.parentNode.insertBefore(u,f)}})\\n            (window,document,\"script\",\"//cdn.sematext.com/experience.js\",\"strum\");\\n        </script>\\n\\n        <script type=\"text/javascript\">\\n            strum(\\'config\\', { token: \\'edb460d9-6668-4b3d-bda0-808c4932555e\\', \\'receiverUrl\\': \\'https://rum-receiver.sematext.com\\' });\\n        </script>\\n    </head>\\n<body class=\"fixed hold-transition login-page  \">\\n\\n    <div class=\"login-box\">\\n\\n        <!-- /.login-logo -->\\n        <div class=\"login-box-body\">\\n            <div class=\"login-logo\">\\n                <a href=\"https://plataforma.t2v.com.br/home\"><img src=\"https://plataforma.newtec.net.br/assets/img/logo_t2v.jpeg\" style=\"padding: 10px; max-width: 200px;\"/></a>\\n            </div>\\n            <p class=\"login-box-msg\">Entre para iniciar uma nova sessão</p>\\n            <form action=\"https://plataforma.t2v.com.br/login\" method=\"post\">\\n                <input type=\"hidden\" name=\"_token\" value=\"0ysggWYDWeNBXqzmLCu74KMREIoZMtc2DJ0YHiXw\">\\n\\n                <div class=\"form-group has-feedback has-error\">\\n                    <input type=\"email\" name=\"email\" class=\"form-control\" value=\"mcp^%^40t2v.com.br\"\\n                           placeholder=\"Email\">\\n                    <span class=\"glyphicon glyphicon-envelope form-control-feedback\"></span>\\n                                            <span class=\"help-block\">\\n                            <strong>O campo &quot;email&quot; deve ser um endereço de e-mail válido.</strong>\\n                        </span>\\n                                    </div>\\n                <div class=\"form-group has-feedback \">\\n                    <input type=\"password\" name=\"password\" class=\"form-control\"\\n                           placeholder=\"Senha\">\\n                    <span class=\"glyphicon glyphicon-lock form-control-feedback\"></span>\\n                                    </div>\\n                <div class=\"row\">\\n                    <div class=\"col-xs-8\">\\n                        <div class=\"icheck-primary\">\\n                            <input type=\"checkbox\" name=\"remember\" id=\"remember\">\\n                            <label for=\"remember\">Lembrar-me</label>\\n                        </div>\\n                    </div>\\n                    <!-- /.col -->\\n                    <div class=\"col-xs-4\">\\n                        <button type=\"submit\" class=\"btn btn-t2v btn-block btn-flat\">\\n                            Entrar\\n                        </button>\\n                    </div>\\n                    <!-- /.col -->\\n                </div>\\n            </form>\\n            <br>\\n\\n\\n\\n\\n\\n                    </div>\\n        <!-- /.login-box-body -->\\n    </div><!-- /.login-box -->\\n\\n<script src=\"https://plataforma.t2v.com.br/vendor/jquery/dist/jquery.min.js\"></script>\\n<script src=\"https://plataforma.t2v.com.br/vendor/jquery/dist/jquery.slimscroll.min.js\"></script>\\n<script src=\"https://plataforma.t2v.com.br/vendor/bootstrap/dist/js/bootstrap.min.js\"></script>\\n<script src=\"https://plataforma.t2v.com.br/assets/js/jquery.dataTables.min.js\"></script>\\n<script src=\"https://plataforma.t2v.com.br/assets/js/dataTables.bootstrap.min.js\"></script>\\n<script src=\"https://plataforma.t2v.com.br/assets/js/moment.min.js\"></script>\\n<script src=\"https://plataforma.t2v.com.br/assets/js/daterangepicker.min.js\"></script>\\n<script type=\"text/javascript\" src=\"https://plataforma.t2v.com.br/assets/js/PNotify.js\"></script>\\n<script type=\"text/javascript\" src=\"https://plataforma.t2v.com.br/assets/js/jquery.multi-select.js\"></script>\\n\\n<script type=\"text/javascript\"\\n        src=\"https://plataforma.t2v.com.br/assets/js/lang/pt-BR.js?v=1617030834\"></script>\\n<script type=\"text/javascript\" src=\"https://plataforma.t2v.com.br/assets/js/translator.js\"></script>\\n\\n<script src=\"https://plataforma.t2v.com.br/assets/js/template.js?v=1626290114\"></script>\\n\\n<script>\\n    const HERE_MAPS_API_KEY = \\'-m-lg2sQdrlG2_nF_y3Otrx7qLRXAvrpdDDaGWiESIA\\';\\n    var userLang = \\'pt-BR\\';\\n</script>\\n\\n\\n<script src=\"//cdnjs.cloudflare.com/ajax/libs/select2/4.0.3/js/select2.min.js\"></script>\\n                                                                                                                                                                    <script src=\"//cdnjs.cloudflare.com/ajax/libs/apexcharts/3.22.0/apexcharts.min.js\"></script>\\n                                                                                                                                                                    <script src=\"//cdnjs.cloudflare.com/ajax/libs/Chart.js/2.9.3/Chart.bundle.min.js\"></script>\\n                                                                \\n    \\n</body>\\n</html>\\n'"
      ]
     },
     "metadata": {},
     "execution_count": 123
    }
   ],
   "metadata": {}
  },
  {
   "cell_type": "code",
   "execution_count": 95,
   "source": [
    "url_abastecimento = \"https://plataforma.t2v.com.br/relatorios/abastecimento\"\r\n",
    "abastecimento_page = session.get(url_abastecimento)\r\n",
    "print(abastecimento_page)\r\n",
    "xpath_veiculos = \"//select[@name='veiculos[]']\"\r\n",
    "rows_veiculos = abastecimento_page.html.xpath(xpath_veiculos)\r\n",
    "abastecimento_page.text"
   ],
   "outputs": [
    {
     "output_type": "stream",
     "name": "stdout",
     "text": [
      "<Response [200]>\n"
     ]
    },
    {
     "output_type": "execute_result",
     "data": {
      "text/plain": [
       "'<!DOCTYPE html>\\n<html>\\n<head>\\n    <meta charset=\"utf-8\">\\n    <meta http-equiv=\"X-UA-Compatible\" content=\"IE=edge\">\\n    <title>        Acessar Sistema         | T2V</title>\\n    <!-- Tell the browser to be responsive to screen width -->\\n    <meta content=\"width=device-width, initial-scale=1, maximum-scale=1, user-scalable=no\" name=\"viewport\">\\n    <!-- Bootstrap 3.3.7 -->\\n    <link rel=\"stylesheet\" href=\"https://plataforma.t2v.com.br/vendor/bootstrap/dist/css/bootstrap.min.css\">\\n    <!-- Font Awesome -->\\n    <link rel=\"stylesheet\" href=\"https://plataforma.t2v.com.br/vendor/font-awesome/css/all.min.css\">\\n    <!-- Ionicons -->\\n    <link rel=\"stylesheet\" href=\"https://plataforma.t2v.com.br/vendor/Ionicons/css/ionicons.min.css\">\\n\\n    <link rel=\"stylesheet\" href=\"https://plataforma.t2v.com.br/assets/css/PNotifyBrightTheme.css\"/>\\n\\n    <link rel=\"stylesheet\" href=\"https://plataforma.t2v.com.br/assets/css/multi-select.css\"/>\\n\\n    <link rel=\"stylesheet\" href=\"https://plataforma.t2v.com.br/assets/css/daterangepicker.css\"/>\\n    <link rel=\"stylesheet\" href=\"https://plataforma.t2v.com.br/assets/css/dataTables.bootstrap.min.css\"/>\\n\\n<link rel=\"stylesheet\" href=\"//cdnjs.cloudflare.com/ajax/libs/select2/4.0.3/css/select2.css\">\\n                                                                                                                                                                    <link rel=\"stylesheet\" href=\"//cdnjs.cloudflare.com/ajax/libs/apexcharts/3.22.0/apexcharts.min.css\">\\n                                                                                                    \\n<!-- Theme style -->\\n    <link rel=\"stylesheet\" href=\"https://plataforma.t2v.com.br/vendor/adminlte/dist/css/AdminLTE.min.css\">\\n\\n        <link rel=\"stylesheet\" href=\"https://plataforma.t2v.com.br/vendor/icheck-bootstrap/icheck-bootstrap.min.css\">\\n    \\n    <link rel=\"stylesheet\" href=\"https://plataforma.t2v.com.br/assets/css/template.css?v=1617030834\"/>\\n\\n    <!--[if lt IE 9]>\\n    <script src=\"https://oss.maxcdn.com/html5shiv/3.7.3/html5shiv.min.js\"></script>\\n    <script src=\"https://oss.maxcdn.com/respond/1.4.2/respond.min.js\"></script>\\n    <![endif]-->\\n\\n    <!-- Google Font -->\\n    <link rel=\"stylesheet\"\\n          href=\"https://fonts.googleapis.com/css?family=Source+Sans+Pro:300,400,600,700,300italic,400italic,600italic\">\\n\\n            <script type=\"text/javascript\">\\n            (function(e,r,n,t,s){var a=[];e[s]=function(){a.push(arguments)};e[s].queue=a;  var o=[];var i=[];var c=true;var p=void 0;if(window.PerformanceObserver&&  window.PerformanceObserver.supportedEntryTypes&&(  PerformanceObserver.supportedEntryTypes.indexOf(\"longtask\")>=0||  PerformanceObserver.supportedEntryTypes.indexOf(\"element\")>=0)){  p=new PerformanceObserver(function(e){e.getEntries().forEach(function(e){  switch(e.entryType){case\"element\":i.push(e);break;case\"longtask\":o.push(e);break;  default:break}})});p.observe({entryTypes:[\"longtask\",\"element\"]})}e[s+\"lt\"]={  longTasks:o,timingElements:i,inPageLoad:c,observer:p};if(t){var u=r.createElement(n);  u.async=1;u.src=t;var f=r.getElementsByTagName(n)[0];f.parentNode.insertBefore(u,f)}})\\n            (window,document,\"script\",\"//cdn.sematext.com/experience.js\",\"strum\");\\n        </script>\\n\\n        <script type=\"text/javascript\">\\n            strum(\\'config\\', { token: \\'edb460d9-6668-4b3d-bda0-808c4932555e\\', \\'receiverUrl\\': \\'https://rum-receiver.sematext.com\\' });\\n        </script>\\n    </head>\\n<body class=\"fixed hold-transition login-page  \">\\n\\n    <div class=\"login-box\">\\n\\n        <!-- /.login-logo -->\\n        <div class=\"login-box-body\">\\n            <div class=\"login-logo\">\\n                <a href=\"https://plataforma.t2v.com.br/home\"><img src=\"https://plataforma.newtec.net.br/assets/img/logo_t2v.jpeg\" style=\"padding: 10px; max-width: 200px;\"/></a>\\n            </div>\\n            <p class=\"login-box-msg\">Entre para iniciar uma nova sessão</p>\\n            <form action=\"https://plataforma.t2v.com.br/login\" method=\"post\">\\n                <input type=\"hidden\" name=\"_token\" value=\"cnC41VsL1odKHUEzhYZOA1pb7VfIWrVpN1ILauYU\">\\n\\n                <div class=\"form-group has-feedback \">\\n                    <input type=\"email\" name=\"email\" class=\"form-control\" value=\"\"\\n                           placeholder=\"Email\">\\n                    <span class=\"glyphicon glyphicon-envelope form-control-feedback\"></span>\\n                                    </div>\\n                <div class=\"form-group has-feedback \">\\n                    <input type=\"password\" name=\"password\" class=\"form-control\"\\n                           placeholder=\"Senha\">\\n                    <span class=\"glyphicon glyphicon-lock form-control-feedback\"></span>\\n                                    </div>\\n                <div class=\"row\">\\n                    <div class=\"col-xs-8\">\\n                        <div class=\"icheck-primary\">\\n                            <input type=\"checkbox\" name=\"remember\" id=\"remember\">\\n                            <label for=\"remember\">Lembrar-me</label>\\n                        </div>\\n                    </div>\\n                    <!-- /.col -->\\n                    <div class=\"col-xs-4\">\\n                        <button type=\"submit\" class=\"btn btn-t2v btn-block btn-flat\">\\n                            Entrar\\n                        </button>\\n                    </div>\\n                    <!-- /.col -->\\n                </div>\\n            </form>\\n            <br>\\n\\n\\n\\n\\n\\n                    </div>\\n        <!-- /.login-box-body -->\\n    </div><!-- /.login-box -->\\n\\n<script src=\"https://plataforma.t2v.com.br/vendor/jquery/dist/jquery.min.js\"></script>\\n<script src=\"https://plataforma.t2v.com.br/vendor/jquery/dist/jquery.slimscroll.min.js\"></script>\\n<script src=\"https://plataforma.t2v.com.br/vendor/bootstrap/dist/js/bootstrap.min.js\"></script>\\n<script src=\"https://plataforma.t2v.com.br/assets/js/jquery.dataTables.min.js\"></script>\\n<script src=\"https://plataforma.t2v.com.br/assets/js/dataTables.bootstrap.min.js\"></script>\\n<script src=\"https://plataforma.t2v.com.br/assets/js/moment.min.js\"></script>\\n<script src=\"https://plataforma.t2v.com.br/assets/js/daterangepicker.min.js\"></script>\\n<script type=\"text/javascript\" src=\"https://plataforma.t2v.com.br/assets/js/PNotify.js\"></script>\\n<script type=\"text/javascript\" src=\"https://plataforma.t2v.com.br/assets/js/jquery.multi-select.js\"></script>\\n\\n<script type=\"text/javascript\"\\n        src=\"https://plataforma.t2v.com.br/assets/js/lang/pt-BR.js?v=1617030834\"></script>\\n<script type=\"text/javascript\" src=\"https://plataforma.t2v.com.br/assets/js/translator.js\"></script>\\n\\n<script src=\"https://plataforma.t2v.com.br/assets/js/template.js?v=1626290114\"></script>\\n\\n<script>\\n    const HERE_MAPS_API_KEY = \\'-m-lg2sQdrlG2_nF_y3Otrx7qLRXAvrpdDDaGWiESIA\\';\\n    var userLang = \\'pt-BR\\';\\n</script>\\n\\n\\n<script src=\"//cdnjs.cloudflare.com/ajax/libs/select2/4.0.3/js/select2.min.js\"></script>\\n                                                                                                                                                                    <script src=\"//cdnjs.cloudflare.com/ajax/libs/apexcharts/3.22.0/apexcharts.min.js\"></script>\\n                                                                                                                                                                    <script src=\"//cdnjs.cloudflare.com/ajax/libs/Chart.js/2.9.3/Chart.bundle.min.js\"></script>\\n                                                                \\n    \\n</body>\\n</html>\\n'"
      ]
     },
     "metadata": {},
     "execution_count": 95
    }
   ],
   "metadata": {}
  },
  {
   "cell_type": "code",
   "execution_count": 93,
   "source": [
    "rows_veiculos"
   ],
   "outputs": [
    {
     "output_type": "execute_result",
     "data": {
      "text/plain": [
       "[]"
      ]
     },
     "metadata": {},
     "execution_count": 93
    }
   ],
   "metadata": {}
  },
  {
   "cell_type": "markdown",
   "source": [
    "## Agora vamos raspar os itens da página\n",
    "\n",
    "Analise a página de resultados para encontrar o Xpath que seleciona todas as linhas da tabela de resultados, ou seja, queremos que cada linha da tabela seja um resultado dessa nossa seleção.\n",
    "\n",
    "Preencha aqui o Xpath correto para que obtenhamos os pregões da tabela de resultados (apenas as linhas que contém pregões mesmo!): "
   ],
   "metadata": {}
  },
  {
   "cell_type": "code",
   "execution_count": null,
   "source": [
    "xpath = \r\n",
    "rows = form_response.html.xpath(xpath)"
   ],
   "outputs": [],
   "metadata": {}
  },
  {
   "cell_type": "markdown",
   "source": [
    "Vamos observar o que a `requests_html` está selecionando... Na célula a seguir, vamos ver como é o HTML do primeiro elemento da lista, ou seja, a primeira linha.\n",
    "\n",
    "Cada linha deverá ser um elemento `<tr>` com o conteúdo da linha dentro de elementos mais internos. Recomendo analisar um pouco essa estrutura a seguir para entender como a extração de cada campo irá funcionar."
   ],
   "metadata": {}
  },
  {
   "cell_type": "code",
   "execution_count": null,
   "source": [
    "print(rows[0].html)"
   ],
   "outputs": [],
   "metadata": {}
  },
  {
   "cell_type": "markdown",
   "source": [
    "Vendo como a `requests_html` está enxergando este item, podemos esclarecer uma coisa sobre Xpaths relativos. Se você lembra da aula de Xpath, então talvez se confunda um pouco ao criar os Xpaths para extrair as informações de cada campo da linha.\n",
    "\n",
    "Mas de onde viria essa confusão? Bem, possivelmente você imaginaria que o elemento atual que a `requests_html` estaria \"enxergando\" seria o `<tr>` certo? E que para selecionar qualquer elemento a partir deste elemento atual precisaríamos \"descer a árvore de elementos\" relativamente a partir dele (`\"./elemento1/elemento2\"`). Porém, a `requests_html` funciona de maneira diferente, e o `<tr>` é um elemento interno do elemento atual (o único descendente imediato, de forma mais específica). Ou seja, é como se tivéssemos um novo documento HTML onde o topo da árvore seria o elemento `<tr>` e apenas ele.\n",
    "\n",
    "Por isso, aqui você irá preencher o xpath **a partir** do trecho onde está o `tr` nos Xpaths abaixo.\n",
    "\n",
    "Queremos raspar **o texto** de cada campo apresentado na tabela (exceto o campo \"Informações do Pregão\") e salvar todos os itens em formato de dicionário numa lista de pregões:"
   ],
   "metadata": {}
  },
  {
   "cell_type": "code",
   "execution_count": null,
   "source": [
    "pregoes = []\r\n",
    "for row in rows:\r\n",
    "    numero_pregao = row.xpath(\"./tr/\")[0]\r\n",
    "    codigo_uasg = row.xpath(\"./tr/\")[0]\r\n",
    "    nome_uasg = row.xpath(\"./tr/\")[0]\r\n",
    "    data_hora_inicio = row.xpath(\"./tr/\")[0]\r\n",
    "    data_hora_abertura = row.xpath(\"./tr/\")[0]\r\n",
    "    situacao = row.xpath(\"./tr/\")[0]\r\n",
    "    item = {\r\n",
    "        \"numero_pregao\": numero_pregao,\r\n",
    "        \"codigo_uasg\": codigo_uasg,\r\n",
    "        \"nome_uasg\": nome_uasg,\r\n",
    "        \"data_hora_inicio\": data_hora_inicio,\r\n",
    "        \"data_hora_abertura\": data_hora_abertura,\r\n",
    "        \"situacao\": situacao,\r\n",
    "    }\r\n",
    "    pregoes.append(item)"
   ],
   "outputs": [],
   "metadata": {}
  },
  {
   "cell_type": "markdown",
   "source": [
    "## Salvando os itens\n",
    "\n",
    "Com a nossa lista preenchida, podemos salvar. Primeiro, uma maneira de salvar itens em CSV sem precisar utilizar bibliotecas externas. Esta versão mostra que precisamos de apenas alguns comandos para escrever o CSV:\n",
    "\n",
    "1. Um comando que indique que queremos criar um arquivo em modo de escrita;\n",
    "2. Outro que informe quais são os campos que devem ser as colunas do CSV (através dos nomes dos campos do primeiro item da lista de dicionários) neste arquivo\n",
    "3. Um que escreve o cabeçalho (as colunas) do CSV\n",
    "4. Um que escreve todas as linhas no arquivo a partir da nossa lista de dicionários"
   ],
   "metadata": {}
  },
  {
   "cell_type": "code",
   "execution_count": null,
   "source": [
    "with open('pregoes.csv', 'w') as f:\n",
    "    fieldnames = pregoes[0].keys()\n",
    "    writer = csv.DictWriter(f, fieldnames=fieldnames)\n",
    "    writer.writeheader()\n",
    "    writer.writerows(pregoes)"
   ],
   "outputs": [],
   "metadata": {}
  },
  {
   "cell_type": "markdown",
   "source": [
    "Mas existe maneira mais fácil usando `pandas`, veja se você consegue criar um `DataFrame` a partir da variável `pregoes`:"
   ],
   "metadata": {}
  },
  {
   "cell_type": "code",
   "execution_count": null,
   "source": [
    "df_pregoes = "
   ],
   "outputs": [],
   "metadata": {}
  },
  {
   "cell_type": "markdown",
   "source": [
    "E agora salve o `DataFrame` em um arquivo `'pregoes_pandas.csv'` (é recomendável utilizar o parâmetro `index=False` para suprimir a coluna \"vazia\" do índice do `DataFrame`):"
   ],
   "metadata": {}
  },
  {
   "cell_type": "code",
   "execution_count": null,
   "source": [],
   "outputs": [],
   "metadata": {}
  },
  {
   "cell_type": "markdown",
   "source": [
    "## Finalizando o desafio!\n",
    "\n",
    "Pronto! Temos uma consulta! E ela pode ser modificada para selecionar pregões de outras instituições também!\n",
    "\n",
    "Se tiver curiosidade e quiser tentar fazer consultas parecidas para outras situações de pregões (que não estão em andamento) [acesse a página de consultas do Portal de Compras do Governo Federal](https://www.gov.br/compras/pt-br/assuntos/consultas-1) e na aba \"Pregões\" teremos consultas praticamente idênticas a que você acabou de fazer.\n",
    "\n",
    "Boa jornada!"
   ],
   "metadata": {}
  }
 ],
 "metadata": {
  "orig_nbformat": 4,
  "language_info": {
   "name": "python",
   "version": "3.9.6",
   "mimetype": "text/x-python",
   "codemirror_mode": {
    "name": "ipython",
    "version": 3
   },
   "pygments_lexer": "ipython3",
   "nbconvert_exporter": "python",
   "file_extension": ".py"
  },
  "kernelspec": {
   "name": "python3",
   "display_name": "Python 3.9.6 64-bit ('env': venv)"
  },
  "interpreter": {
   "hash": "95df4e442b989bf68ede8b6e02f112c5839e987b4fd221f59869a058c84f7837"
  }
 },
 "nbformat": 4,
 "nbformat_minor": 2
}
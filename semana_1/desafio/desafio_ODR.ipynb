{
 "cells": [
  {
   "cell_type": "markdown",
   "source": [
    "### Dicas\r\n",
    "\r\n",
    "*   Antes de ir pro código, leia a descrição do desafio e busque definir pequenos passos para chegar a solução.  \r\n",
    "*   Leia o código para se familiarizar com a solução que está em desenvolvimento;\r\n",
    "\r\n",
    "*  Tente entender o que o código faz ou significa. \r\n",
    "\r\n",
    "*  Busque encontrar as partes que faltam ser colocadas e erros no código que precisam ser corrigidos;\r\n",
    "\r\n",
    "*  Se aparecer erros, procure corrigir e/ou repita os passos acima.\r\n",
    "\r\n",
    "\r\n",
    "\r\n",
    "# 1. Desafio: dicionário\r\n",
    "\r\n",
    "Utilizando o conhecimento que obtivemos essa semana, utilize o Google Colab ou o Jupyter Notebook  para fazer um programa que consiga responder às seguintes perguntas:\r\n",
    "\r\n",
    "1. Quantas pessoas candidatas no estado de Pernambuco seriam mais novas do que você?\r\n",
    "2. Quantos porcentos isso representa em relação ao total de pessoas candidatas?\r\n",
    "\r\n",
    "Dica: Use como referência a coluna \"NR_IDADE_DATA_POSSE\" do conjunto de dados \"consulta_cand_2020_PE_desafio1.csv\"\r\n",
    "\r\n",
    "\r\n",
    "> Fonte: TSE. Repositório de dados eleitorais. Conjunto de dados [Candidatos - 2020](https://www.tse.jus.br/eleicoes/estatisticas/repositorio-de-dados-eleitorais-1)"
   ],
   "metadata": {}
  },
  {
   "cell_type": "markdown",
   "source": [
    "### Importe as bibliotecas que usuará no código"
   ],
   "metadata": {}
  },
  {
   "cell_type": "code",
   "execution_count": 5,
   "source": [
    "from csv import reader\r\n",
    "from datetime import date as dt\r\n"
   ],
   "outputs": [],
   "metadata": {}
  },
  {
   "cell_type": "markdown",
   "source": [
    "### Determine sua idade"
   ],
   "metadata": {}
  },
  {
   "cell_type": "code",
   "execution_count": 24,
   "source": [
    "ano_hj = dt.today().year\r\n",
    "ano_user = int(input('Digite ano de nascimento(yyyy): '))\r\n",
    "idade_user = ano_hj - ano_user\r\n",
    "idade_user\r\n"
   ],
   "outputs": [
    {
     "output_type": "execute_result",
     "data": {
      "text/plain": [
       "43"
      ]
     },
     "metadata": {},
     "execution_count": 24
    }
   ],
   "metadata": {}
  },
  {
   "cell_type": "markdown",
   "source": [
    "### Leia o csv e converta para dicionário"
   ],
   "metadata": {}
  },
  {
   "cell_type": "code",
   "execution_count": 16,
   "source": [
    "lista = []\r\n",
    "with open('consulta_cand_2020_PE_desafio.csv', 'r', encoding='latin_1') as candidatas: # abre o arquivo csv\r\n",
    "    csv_lido = reader(candidatas) # cria um objeto iterável sobre as linhas do csv\r\n",
    "    lista = list(csv_lido) # converte o objeto em uma lista\r\n",
    "    # print(lista[0]) \r\n",
    "\r\n",
    "head = lista.pop(0)\r\n",
    "lista_dicionario = []\r\n",
    "\r\n",
    "for linha in lista:\r\n",
    "    zip_temp = zip(head, linha)\r\n",
    "    lista_dicionario.append(dict(zip_temp))\r\n",
    "\r\n",
    "lista_dicionario[0]\r\n"
   ],
   "outputs": [
    {
     "output_type": "execute_result",
     "data": {
      "text/plain": [
       "{'ANO_ELEICAO': '2020',\n",
       " 'NM_UE': 'GAMELEIRA',\n",
       " 'DS_CARGO': 'VEREADOR',\n",
       " 'NM_CANDIDATO': 'ANDREIA LÚCIA DE FREITAS PEIXOTO',\n",
       " 'SG_PARTIDO': 'PP',\n",
       " 'NR_IDADE_DATA_POSSE': '52',\n",
       " 'CD_GENERO': '4',\n",
       " 'DS_GENERO': 'FEMININO',\n",
       " 'DS_COR_RACA': 'BRANCA',\n",
       " 'VR_DESPESA_MAX_CAMPANHA': '12307.75'}"
      ]
     },
     "metadata": {},
     "execution_count": 16
    }
   ],
   "metadata": {}
  },
  {
   "cell_type": "markdown",
   "source": [
    "###  Quantas pessoas candidatas no estado de Pernambuco seriam mais novas do que você "
   ],
   "metadata": {}
  },
  {
   "cell_type": "code",
   "execution_count": 25,
   "source": [
    "lista_mais_novos = []\r\n",
    "for candidatura in lista_dicionario:\r\n",
    "    if int(candidatura['NR_IDADE_DATA_POSSE']) < idade_user:\r\n",
    "        lista_mais_novos.append(candidatura)\r\n",
    "\r\n",
    "print(f'O numero de candidatos mais novos são de {len(lista_mais_novos)} candidatos.')\r\n"
   ],
   "outputs": [
    {
     "output_type": "stream",
     "name": "stdout",
     "text": [
      "O numero de candidatos mais novos são de 9222 candidatos.\n"
     ]
    }
   ],
   "metadata": {}
  },
  {
   "cell_type": "markdown",
   "source": [
    "### Quantos porcentos isso representa em relação ao total de pessoas candidatas."
   ],
   "metadata": {}
  },
  {
   "cell_type": "code",
   "execution_count": 26,
   "source": [
    "porcentagem = len(lista_mais_novos) * 100 / len(lista_dicionario)\r\n",
    "\r\n",
    "print(f'Que correspondem a {round(porcentagem,2)}% do total de candidatos.')"
   ],
   "outputs": [
    {
     "output_type": "stream",
     "name": "stdout",
     "text": [
      "Que correspondem a 43.7% do total de candidatos.\n"
     ]
    }
   ],
   "metadata": {}
  }
 ],
 "metadata": {
  "kernelspec": {
   "name": "python3",
   "display_name": "Python 3.9.6 64-bit ('env': venv)"
  },
  "language_info": {
   "codemirror_mode": {
    "name": "ipython",
    "version": 3
   },
   "file_extension": ".py",
   "mimetype": "text/x-python",
   "name": "python",
   "nbconvert_exporter": "python",
   "pygments_lexer": "ipython3",
   "version": "3.9.6"
  },
  "interpreter": {
   "hash": "95df4e442b989bf68ede8b6e02f112c5839e987b4fd221f59869a058c84f7837"
  }
 },
 "nbformat": 4,
 "nbformat_minor": 5
}
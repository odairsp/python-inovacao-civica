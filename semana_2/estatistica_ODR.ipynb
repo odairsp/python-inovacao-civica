{
 "cells": [
  {
   "cell_type": "markdown",
   "source": [
    "# Escola de Dados - Python para inovação cívica\r\n",
    "## Módulo 1: Noções básicas de estatística descritiva e pré-processamento\r\n",
    "\r\n",
    "- [Aula 8](#Aula-8:-Introdução-a-estatística)\r\n",
    "- [Aula 9](#Aula-9:-Medidas-de-tendência-central-e-dispersão)\r\n",
    "- [Aula 10](#Aula-10:-Outliers-e-valores-faltantes)\r\n",
    "- [Aula 12](#Aula-12:-Operações-básicas-com-python)\r\n",
    "- [Aula 13](#Aula-13:-Métodos-`filter`-e-`sort_values`)\r\n",
    "- [Aula 14](#Aula-14:-Operações-com-dados-e-método-`apply`)\r\n",
    "- [Aula 15](#Aula-15:-Operações-com-dados-e-método-`groupby`)\r\n",
    "\r\n",
    "\r\n",
    "### Aula 8: Introdução a estatística\r\n",
    "\r\n",
    "Os dados que usaremos nesse notebook pode ser encontrado em: [TSE. Candidaturas em 2020](https://www.tse.jus.br/eleicoes/estatisticas/repositorio-de-dados-eleitorais-1).\r\n",
    "\r\n",
    "Trabalharemos com os dados referentes as candidaturas nos estados de Pernambuco e Rio Grande do Norte.\r\n"
   ],
   "metadata": {}
  },
  {
   "cell_type": "code",
   "execution_count": 1,
   "source": [
    "import pandas as pd"
   ],
   "outputs": [],
   "metadata": {}
  },
  {
   "cell_type": "code",
   "execution_count": 7,
   "source": [
    "dados_pe_rn = ['base_dados/consulta_cand_2020_PE.csv', 'base_dados/consulta_cand_2020_RN.csv']"
   ],
   "outputs": [],
   "metadata": {}
  },
  {
   "cell_type": "code",
   "execution_count": 8,
   "source": [
    "lista_df = []\r\n",
    "\r\n",
    "for dados_estado in dados_pe_rn:\r\n",
    "    df_estado = pd.read_csv(dados_estado, sep=';', encoding='latin_1')\r\n",
    "    lista_df.append(df_estado)"
   ],
   "outputs": [],
   "metadata": {}
  },
  {
   "cell_type": "code",
   "execution_count": 9,
   "source": [
    "df_completo = pd.concat(lista_df, axis=0, ignore_index=True)"
   ],
   "outputs": [],
   "metadata": {}
  },
  {
   "cell_type": "markdown",
   "source": [
    "É possível criar um dataframe apenas com os dados de candidaturas para as Câmeras de Vereados dos estados."
   ],
   "metadata": {}
  },
  {
   "cell_type": "code",
   "execution_count": 10,
   "source": [
    "df_vereadores = df_completo[df_completo['CD_CARGO'] == 13].copy()"
   ],
   "outputs": [],
   "metadata": {}
  },
  {
   "cell_type": "code",
   "execution_count": 11,
   "source": [
    "df_vereadores.columns"
   ],
   "outputs": [
    {
     "output_type": "execute_result",
     "data": {
      "text/plain": [
       "Index(['DT_GERACAO', 'HH_GERACAO', 'ANO_ELEICAO', 'CD_TIPO_ELEICAO',\n",
       "       'NM_TIPO_ELEICAO', 'NR_TURNO', 'CD_ELEICAO', 'DS_ELEICAO', 'DT_ELEICAO',\n",
       "       'TP_ABRANGENCIA', 'SG_UF', 'SG_UE', 'NM_UE', 'CD_CARGO', 'DS_CARGO',\n",
       "       'SQ_CANDIDATO', 'NR_CANDIDATO', 'NM_CANDIDATO', 'NM_URNA_CANDIDATO',\n",
       "       'NM_SOCIAL_CANDIDATO', 'NR_CPF_CANDIDATO', 'NM_EMAIL',\n",
       "       'CD_SITUACAO_CANDIDATURA', 'DS_SITUACAO_CANDIDATURA',\n",
       "       'CD_DETALHE_SITUACAO_CAND', 'DS_DETALHE_SITUACAO_CAND', 'TP_AGREMIACAO',\n",
       "       'NR_PARTIDO', 'SG_PARTIDO', 'NM_PARTIDO', 'SQ_COLIGACAO',\n",
       "       'NM_COLIGACAO', 'DS_COMPOSICAO_COLIGACAO', 'CD_NACIONALIDADE',\n",
       "       'DS_NACIONALIDADE', 'SG_UF_NASCIMENTO', 'CD_MUNICIPIO_NASCIMENTO',\n",
       "       'NM_MUNICIPIO_NASCIMENTO', 'DT_NASCIMENTO', 'NR_IDADE_DATA_POSSE',\n",
       "       'NR_TITULO_ELEITORAL_CANDIDATO', 'CD_GENERO', 'DS_GENERO',\n",
       "       'CD_GRAU_INSTRUCAO', 'DS_GRAU_INSTRUCAO', 'CD_ESTADO_CIVIL',\n",
       "       'DS_ESTADO_CIVIL', 'CD_COR_RACA', 'DS_COR_RACA', 'CD_OCUPACAO',\n",
       "       'DS_OCUPACAO', 'VR_DESPESA_MAX_CAMPANHA', 'CD_SIT_TOT_TURNO',\n",
       "       'DS_SIT_TOT_TURNO', 'ST_REELEICAO', 'ST_DECLARAR_BENS',\n",
       "       'NR_PROTOCOLO_CANDIDATURA', 'NR_PROCESSO',\n",
       "       'CD_SITUACAO_CANDIDATO_PLEITO', 'DS_SITUACAO_CANDIDATO_PLEITO',\n",
       "       'CD_SITUACAO_CANDIDATO_URNA', 'DS_SITUACAO_CANDIDATO_URNA',\n",
       "       'ST_CANDIDATO_INSERIDO_URNA'],\n",
       "      dtype='object')"
      ]
     },
     "metadata": {},
     "execution_count": 11
    }
   ],
   "metadata": {}
  },
  {
   "cell_type": "markdown",
   "source": [
    "O método `pd.describe` traz um quadro com algumas medidas da estatística descritiva, como as medidas de tendência central, medidas de dispersão e quartis, excluindo os valores NaN (not a number)."
   ],
   "metadata": {}
  },
  {
   "cell_type": "code",
   "execution_count": 12,
   "source": [
    "df_vereadores.describe()"
   ],
   "outputs": [
    {
     "output_type": "execute_result",
     "data": {
      "text/plain": [
       "       ANO_ELEICAO  CD_TIPO_ELEICAO  NR_TURNO  CD_ELEICAO         SG_UE  \\\n",
       "count      29269.0          29269.0   29269.0     29269.0  29269.000000   \n",
       "mean        2020.0              2.0       1.0       426.0  22341.673990   \n",
       "std            0.0              0.0       0.0         0.0   3562.350455   \n",
       "min         2020.0              2.0       1.0       426.0  16004.000000   \n",
       "25%         2020.0              2.0       1.0       426.0  18031.000000   \n",
       "50%         2020.0              2.0       1.0       426.0  23833.000000   \n",
       "75%         2020.0              2.0       1.0       426.0  25135.000000   \n",
       "max         2020.0              2.0       1.0       426.0  30031.000000   \n",
       "\n",
       "       CD_CARGO  SQ_CANDIDATO  NR_CANDIDATO  NR_CPF_CANDIDATO  \\\n",
       "count   29269.0  2.926900e+04  29269.000000      2.926900e+04   \n",
       "mean       13.0  1.797434e+11  32889.886569      2.922523e+10   \n",
       "std         0.0  1.404864e+10  21536.107047      3.108040e+10   \n",
       "min        13.0  1.700006e+11  10000.000000      1.321943e+07   \n",
       "25%        13.0  1.700009e+11  15123.000000      4.714564e+09   \n",
       "50%        13.0  1.700011e+11  23600.000000      1.015996e+10   \n",
       "75%        13.0  2.000008e+11  45333.000000      5.514077e+10   \n",
       "max        13.0  2.000014e+11  90999.000000      9.997776e+10   \n",
       "\n",
       "       CD_SITUACAO_CANDIDATURA  ...  CD_GRAU_INSTRUCAO  CD_ESTADO_CIVIL  \\\n",
       "count             29269.000000  ...       29269.000000     29269.000000   \n",
       "mean                 11.559978  ...           5.627387         2.658000   \n",
       "std                   1.940800  ...           1.701545         2.056771   \n",
       "min                   3.000000  ...           1.000000         1.000000   \n",
       "25%                  12.000000  ...           4.000000         1.000000   \n",
       "50%                  12.000000  ...           6.000000         3.000000   \n",
       "75%                  12.000000  ...           6.000000         3.000000   \n",
       "max                  12.000000  ...           8.000000         9.000000   \n",
       "\n",
       "        CD_COR_RACA   CD_OCUPACAO  VR_DESPESA_MAX_CAMPANHA  CD_SIT_TOT_TURNO  \\\n",
       "count  29269.000000  29269.000000             2.926900e+04      29269.000000   \n",
       "mean       2.204243    532.344802             8.044686e+04          4.202569   \n",
       "std        1.007947    321.971818             1.798536e+05          1.316052   \n",
       "min        1.000000    101.000000             1.230775e+04         -1.000000   \n",
       "25%        1.000000    257.000000             1.230775e+04          4.000000   \n",
       "50%        3.000000    532.000000             2.461775e+04          5.000000   \n",
       "75%        3.000000    931.000000             5.226632e+04          5.000000   \n",
       "max        6.000000    999.000000             1.011150e+06          5.000000   \n",
       "\n",
       "       NR_PROTOCOLO_CANDIDATURA   NR_PROCESSO  CD_SITUACAO_CANDIDATO_PLEITO  \\\n",
       "count                   29269.0  2.926900e+04                  29269.000000   \n",
       "mean                       -1.0  6.002235e+18                      2.063275   \n",
       "std                         0.0  1.400676e+15                      1.379490   \n",
       "min                        -1.0  6.000126e+18                     -1.000000   \n",
       "25%                        -1.0  6.001217e+18                      2.000000   \n",
       "50%                        -1.0  6.001913e+18                      2.000000   \n",
       "75%                        -1.0  6.002876e+18                      2.000000   \n",
       "max                        -1.0  6.011688e+18                     17.000000   \n",
       "\n",
       "       CD_SITUACAO_CANDIDATO_URNA  \n",
       "count                29269.000000  \n",
       "mean                     2.054665  \n",
       "std                      1.379635  \n",
       "min                     -1.000000  \n",
       "25%                      2.000000  \n",
       "50%                      2.000000  \n",
       "75%                      2.000000  \n",
       "max                     20.000000  \n",
       "\n",
       "[8 rows x 28 columns]"
      ],
      "text/html": [
       "<div>\n",
       "<style scoped>\n",
       "    .dataframe tbody tr th:only-of-type {\n",
       "        vertical-align: middle;\n",
       "    }\n",
       "\n",
       "    .dataframe tbody tr th {\n",
       "        vertical-align: top;\n",
       "    }\n",
       "\n",
       "    .dataframe thead th {\n",
       "        text-align: right;\n",
       "    }\n",
       "</style>\n",
       "<table border=\"1\" class=\"dataframe\">\n",
       "  <thead>\n",
       "    <tr style=\"text-align: right;\">\n",
       "      <th></th>\n",
       "      <th>ANO_ELEICAO</th>\n",
       "      <th>CD_TIPO_ELEICAO</th>\n",
       "      <th>NR_TURNO</th>\n",
       "      <th>CD_ELEICAO</th>\n",
       "      <th>SG_UE</th>\n",
       "      <th>CD_CARGO</th>\n",
       "      <th>SQ_CANDIDATO</th>\n",
       "      <th>NR_CANDIDATO</th>\n",
       "      <th>NR_CPF_CANDIDATO</th>\n",
       "      <th>CD_SITUACAO_CANDIDATURA</th>\n",
       "      <th>...</th>\n",
       "      <th>CD_GRAU_INSTRUCAO</th>\n",
       "      <th>CD_ESTADO_CIVIL</th>\n",
       "      <th>CD_COR_RACA</th>\n",
       "      <th>CD_OCUPACAO</th>\n",
       "      <th>VR_DESPESA_MAX_CAMPANHA</th>\n",
       "      <th>CD_SIT_TOT_TURNO</th>\n",
       "      <th>NR_PROTOCOLO_CANDIDATURA</th>\n",
       "      <th>NR_PROCESSO</th>\n",
       "      <th>CD_SITUACAO_CANDIDATO_PLEITO</th>\n",
       "      <th>CD_SITUACAO_CANDIDATO_URNA</th>\n",
       "    </tr>\n",
       "  </thead>\n",
       "  <tbody>\n",
       "    <tr>\n",
       "      <th>count</th>\n",
       "      <td>29269.0</td>\n",
       "      <td>29269.0</td>\n",
       "      <td>29269.0</td>\n",
       "      <td>29269.0</td>\n",
       "      <td>29269.000000</td>\n",
       "      <td>29269.0</td>\n",
       "      <td>2.926900e+04</td>\n",
       "      <td>29269.000000</td>\n",
       "      <td>2.926900e+04</td>\n",
       "      <td>29269.000000</td>\n",
       "      <td>...</td>\n",
       "      <td>29269.000000</td>\n",
       "      <td>29269.000000</td>\n",
       "      <td>29269.000000</td>\n",
       "      <td>29269.000000</td>\n",
       "      <td>2.926900e+04</td>\n",
       "      <td>29269.000000</td>\n",
       "      <td>29269.0</td>\n",
       "      <td>2.926900e+04</td>\n",
       "      <td>29269.000000</td>\n",
       "      <td>29269.000000</td>\n",
       "    </tr>\n",
       "    <tr>\n",
       "      <th>mean</th>\n",
       "      <td>2020.0</td>\n",
       "      <td>2.0</td>\n",
       "      <td>1.0</td>\n",
       "      <td>426.0</td>\n",
       "      <td>22341.673990</td>\n",
       "      <td>13.0</td>\n",
       "      <td>1.797434e+11</td>\n",
       "      <td>32889.886569</td>\n",
       "      <td>2.922523e+10</td>\n",
       "      <td>11.559978</td>\n",
       "      <td>...</td>\n",
       "      <td>5.627387</td>\n",
       "      <td>2.658000</td>\n",
       "      <td>2.204243</td>\n",
       "      <td>532.344802</td>\n",
       "      <td>8.044686e+04</td>\n",
       "      <td>4.202569</td>\n",
       "      <td>-1.0</td>\n",
       "      <td>6.002235e+18</td>\n",
       "      <td>2.063275</td>\n",
       "      <td>2.054665</td>\n",
       "    </tr>\n",
       "    <tr>\n",
       "      <th>std</th>\n",
       "      <td>0.0</td>\n",
       "      <td>0.0</td>\n",
       "      <td>0.0</td>\n",
       "      <td>0.0</td>\n",
       "      <td>3562.350455</td>\n",
       "      <td>0.0</td>\n",
       "      <td>1.404864e+10</td>\n",
       "      <td>21536.107047</td>\n",
       "      <td>3.108040e+10</td>\n",
       "      <td>1.940800</td>\n",
       "      <td>...</td>\n",
       "      <td>1.701545</td>\n",
       "      <td>2.056771</td>\n",
       "      <td>1.007947</td>\n",
       "      <td>321.971818</td>\n",
       "      <td>1.798536e+05</td>\n",
       "      <td>1.316052</td>\n",
       "      <td>0.0</td>\n",
       "      <td>1.400676e+15</td>\n",
       "      <td>1.379490</td>\n",
       "      <td>1.379635</td>\n",
       "    </tr>\n",
       "    <tr>\n",
       "      <th>min</th>\n",
       "      <td>2020.0</td>\n",
       "      <td>2.0</td>\n",
       "      <td>1.0</td>\n",
       "      <td>426.0</td>\n",
       "      <td>16004.000000</td>\n",
       "      <td>13.0</td>\n",
       "      <td>1.700006e+11</td>\n",
       "      <td>10000.000000</td>\n",
       "      <td>1.321943e+07</td>\n",
       "      <td>3.000000</td>\n",
       "      <td>...</td>\n",
       "      <td>1.000000</td>\n",
       "      <td>1.000000</td>\n",
       "      <td>1.000000</td>\n",
       "      <td>101.000000</td>\n",
       "      <td>1.230775e+04</td>\n",
       "      <td>-1.000000</td>\n",
       "      <td>-1.0</td>\n",
       "      <td>6.000126e+18</td>\n",
       "      <td>-1.000000</td>\n",
       "      <td>-1.000000</td>\n",
       "    </tr>\n",
       "    <tr>\n",
       "      <th>25%</th>\n",
       "      <td>2020.0</td>\n",
       "      <td>2.0</td>\n",
       "      <td>1.0</td>\n",
       "      <td>426.0</td>\n",
       "      <td>18031.000000</td>\n",
       "      <td>13.0</td>\n",
       "      <td>1.700009e+11</td>\n",
       "      <td>15123.000000</td>\n",
       "      <td>4.714564e+09</td>\n",
       "      <td>12.000000</td>\n",
       "      <td>...</td>\n",
       "      <td>4.000000</td>\n",
       "      <td>1.000000</td>\n",
       "      <td>1.000000</td>\n",
       "      <td>257.000000</td>\n",
       "      <td>1.230775e+04</td>\n",
       "      <td>4.000000</td>\n",
       "      <td>-1.0</td>\n",
       "      <td>6.001217e+18</td>\n",
       "      <td>2.000000</td>\n",
       "      <td>2.000000</td>\n",
       "    </tr>\n",
       "    <tr>\n",
       "      <th>50%</th>\n",
       "      <td>2020.0</td>\n",
       "      <td>2.0</td>\n",
       "      <td>1.0</td>\n",
       "      <td>426.0</td>\n",
       "      <td>23833.000000</td>\n",
       "      <td>13.0</td>\n",
       "      <td>1.700011e+11</td>\n",
       "      <td>23600.000000</td>\n",
       "      <td>1.015996e+10</td>\n",
       "      <td>12.000000</td>\n",
       "      <td>...</td>\n",
       "      <td>6.000000</td>\n",
       "      <td>3.000000</td>\n",
       "      <td>3.000000</td>\n",
       "      <td>532.000000</td>\n",
       "      <td>2.461775e+04</td>\n",
       "      <td>5.000000</td>\n",
       "      <td>-1.0</td>\n",
       "      <td>6.001913e+18</td>\n",
       "      <td>2.000000</td>\n",
       "      <td>2.000000</td>\n",
       "    </tr>\n",
       "    <tr>\n",
       "      <th>75%</th>\n",
       "      <td>2020.0</td>\n",
       "      <td>2.0</td>\n",
       "      <td>1.0</td>\n",
       "      <td>426.0</td>\n",
       "      <td>25135.000000</td>\n",
       "      <td>13.0</td>\n",
       "      <td>2.000008e+11</td>\n",
       "      <td>45333.000000</td>\n",
       "      <td>5.514077e+10</td>\n",
       "      <td>12.000000</td>\n",
       "      <td>...</td>\n",
       "      <td>6.000000</td>\n",
       "      <td>3.000000</td>\n",
       "      <td>3.000000</td>\n",
       "      <td>931.000000</td>\n",
       "      <td>5.226632e+04</td>\n",
       "      <td>5.000000</td>\n",
       "      <td>-1.0</td>\n",
       "      <td>6.002876e+18</td>\n",
       "      <td>2.000000</td>\n",
       "      <td>2.000000</td>\n",
       "    </tr>\n",
       "    <tr>\n",
       "      <th>max</th>\n",
       "      <td>2020.0</td>\n",
       "      <td>2.0</td>\n",
       "      <td>1.0</td>\n",
       "      <td>426.0</td>\n",
       "      <td>30031.000000</td>\n",
       "      <td>13.0</td>\n",
       "      <td>2.000014e+11</td>\n",
       "      <td>90999.000000</td>\n",
       "      <td>9.997776e+10</td>\n",
       "      <td>12.000000</td>\n",
       "      <td>...</td>\n",
       "      <td>8.000000</td>\n",
       "      <td>9.000000</td>\n",
       "      <td>6.000000</td>\n",
       "      <td>999.000000</td>\n",
       "      <td>1.011150e+06</td>\n",
       "      <td>5.000000</td>\n",
       "      <td>-1.0</td>\n",
       "      <td>6.011688e+18</td>\n",
       "      <td>17.000000</td>\n",
       "      <td>20.000000</td>\n",
       "    </tr>\n",
       "  </tbody>\n",
       "</table>\n",
       "<p>8 rows × 28 columns</p>\n",
       "</div>"
      ]
     },
     "metadata": {},
     "execution_count": 12
    }
   ],
   "metadata": {}
  },
  {
   "cell_type": "markdown",
   "source": [
    "Para gerar relatórios interativos em HTML a partir de um dataframe do pandas usaremos a biblioteca Pandas Profiling, com ele para cada coluna será apresentado estatístico correspondente ao tipo de dado."
   ],
   "metadata": {}
  },
  {
   "cell_type": "code",
   "execution_count": 14,
   "source": [
    "import numpy as np\r\n",
    "from pandas_profiling import ProfileReport"
   ],
   "outputs": [],
   "metadata": {}
  },
  {
   "cell_type": "code",
   "execution_count": 19,
   "source": [
    "profile = ProfileReport(df_vereadores, title=\"Introdução - Pandas Profiling Report\")"
   ],
   "outputs": [],
   "metadata": {}
  },
  {
   "cell_type": "code",
   "execution_count": 27,
   "source": [
    "profile.to_file(output_file=\"relatorio_eleicoes_vereadores_2020_pe_rn.html\")"
   ],
   "outputs": [
    {
     "output_type": "stream",
     "name": "stderr",
     "text": [
      "Export report to file: 100%|██████████| 1/1 [00:00<00:00, 12.35it/s]\n"
     ]
    }
   ],
   "metadata": {
    "scrolled": true
   }
  },
  {
   "cell_type": "markdown",
   "source": [
    "## Em PE e RN, houveram quantas candidaturas para a prefeitura?"
   ],
   "metadata": {}
  },
  {
   "cell_type": "code",
   "execution_count": 30,
   "source": [
    "df_prefeitos = df_completo[df_completo['DS_CARGO']=='PREFEITO'].copy()\r\n",
    "print(f'Em PE e RN, houveram {df_prefeitos.shape[0]} candidaturas para prefeito.')"
   ],
   "outputs": [
    {
     "output_type": "stream",
     "name": "stdout",
     "text": [
      "Em PE e RN, houveram 1185 candidaturas para prefeito.\n"
     ]
    }
   ],
   "metadata": {}
  },
  {
   "cell_type": "markdown",
   "source": [
    "### Aula 9: medidas de tendência central e dispersão\n",
    "\n",
    "As medidas de tendência central servem para determinar o valor central de uma distribuição. Vamos explorar mais um pouco nosso dataframe e descobrir qual a moda (valor que mais se repete) da colina 'SG_PARTIDO'"
   ],
   "metadata": {}
  },
  {
   "cell_type": "code",
   "execution_count": 33,
   "source": [
    "df_vereadores['SG_PARTIDO'].mode()"
   ],
   "outputs": [
    {
     "output_type": "execute_result",
     "data": {
      "text/plain": [
       "0    PSB\n",
       "dtype: object"
      ]
     },
     "metadata": {},
     "execution_count": 33
    }
   ],
   "metadata": {}
  },
  {
   "cell_type": "markdown",
   "source": [
    "A média aritmética da coluna 'NR_IDADE_DATA_POSSE' é:"
   ],
   "metadata": {}
  },
  {
   "cell_type": "code",
   "execution_count": 34,
   "source": [
    "df_vereadores['NR_IDADE_DATA_POSSE'].mean()"
   ],
   "outputs": [
    {
     "output_type": "execute_result",
     "data": {
      "text/plain": [
       "44.09252109740681"
      ]
     },
     "metadata": {},
     "execution_count": 34
    }
   ],
   "metadata": {}
  },
  {
   "cell_type": "markdown",
   "source": [
    "Continuando a explorar a idade das pessoas candidatas na data da posse, queremos saber qual é o valor que ocupa a posição central do conjunto de dados, após a ordenação dos valores (mediana).\n"
   ],
   "metadata": {}
  },
  {
   "cell_type": "code",
   "execution_count": 35,
   "source": [
    "df_vereadores['NR_IDADE_DATA_POSSE'].median()"
   ],
   "outputs": [
    {
     "output_type": "execute_result",
     "data": {
      "text/plain": [
       "44.0"
      ]
     },
     "metadata": {},
     "execution_count": 35
    }
   ],
   "metadata": {}
  },
  {
   "cell_type": "markdown",
   "source": [
    "Qual a variância do dado 'NR_IDADE_DATA_POSSE'?"
   ],
   "metadata": {}
  },
  {
   "cell_type": "code",
   "execution_count": 36,
   "source": [
    "df_vereadores['NR_IDADE_DATA_POSSE'].var()"
   ],
   "outputs": [
    {
     "output_type": "execute_result",
     "data": {
      "text/plain": [
       "128.33037627676035"
      ]
     },
     "metadata": {},
     "execution_count": 36
    }
   ],
   "metadata": {}
  },
  {
   "cell_type": "markdown",
   "source": [
    "Qual o desvio padrão do dado 'NR_IDADE_DATA_POSSE'?"
   ],
   "metadata": {}
  },
  {
   "cell_type": "code",
   "execution_count": null,
   "source": [
    "df_vereadores['NR_IDADE_DATA_POSSE'].std()"
   ],
   "outputs": [],
   "metadata": {}
  },
  {
   "cell_type": "markdown",
   "source": [
    "## Qual a média, moda e mediana do 'VR_DESPESA_MAX_CAMPANHA'?"
   ],
   "metadata": {}
  },
  {
   "cell_type": "code",
   "execution_count": 39,
   "source": [
    "media = df_vereadores['VR_DESPESA_MAX_CAMPANHA'].mean()\r\n",
    "moda = df_vereadores['VR_DESPESA_MAX_CAMPANHA'].mode()\r\n",
    "mediana = df_vereadores['VR_DESPESA_MAX_CAMPANHA'].median()\r\n",
    "\r\n",
    "print(f'Media: {media}')\r\n",
    "print(f'Moda: {moda}')\r\n",
    "print(f'Mediana: {mediana}')\r\n"
   ],
   "outputs": [
    {
     "output_type": "stream",
     "name": "stdout",
     "text": [
      "Media: 80446.864537907\n",
      "Moda: 0    12307.75\n",
      "dtype: float64\n",
      "Mediana: 24617.75\n"
     ]
    }
   ],
   "metadata": {}
  },
  {
   "cell_type": "markdown",
   "source": [
    "### Aula 10: Outliers e valores faltantes\n",
    "\n",
    "\n",
    "De acordo com o dicionário de dados do conjunto de dados do TSE, os valores faltantes estão preenchidos com #NULO#, no entanto o Pandas não reconhece essa palavra como um missing. Faremos a substituição da string \"#NULO#\" pelo valor `None` nas colunas com valores categóricos."
   ],
   "metadata": {}
  },
  {
   "cell_type": "code",
   "execution_count": 40,
   "source": [
    "colunas_categoricas = ['NM_TIPO_ELEICAO', 'DS_ELEICAO', 'TP_ABRANGENCIA', 'SG_UF', 'NM_UE', 'DS_CARGO', \r\n",
    "                       'NM_CANDIDATO', 'NM_URNA_CANDIDATO', 'NM_SOCIAL_CANDIDATO', 'NM_EMAIL', \r\n",
    "                       'DS_SITUACAO_CANDIDATURA', 'DS_DETALHE_SITUACAO_CAND', 'TP_AGREMIACAO', 'SG_PARTIDO', \r\n",
    "                       'NM_PARTIDO', 'NM_COLIGACAO', 'DS_COMPOSICAO_COLIGACAO', 'DS_NACIONALIDADE', \r\n",
    "                       'SG_UF_NASCIMENTO', 'NM_MUNICIPIO_NASCIMENTO', 'DS_GENERO', 'DS_GRAU_INSTRUCAO', \r\n",
    "                       'DS_ESTADO_CIVIL', 'DS_COR_RACA', 'DS_OCUPACAO', 'VR_DESPESA_MAX_CAMPANHA', \r\n",
    "                       'DS_SIT_TOT_TURNO', 'ST_REELEICAO', 'ST_DECLARAR_BENS', 'DS_SITUACAO_CANDIDATO_PLEITO', \r\n",
    "                       'DS_SITUACAO_CANDIDATO_URNA', 'ST_CANDIDATO_INSERIDO_URNA'\r\n",
    "                      ]\r\n"
   ],
   "outputs": [],
   "metadata": {}
  },
  {
   "cell_type": "code",
   "execution_count": 41,
   "source": [
    "df_vereadores[colunas_categoricas] = df_vereadores.loc[:, colunas_categoricas].replace({'#NULO#': None})"
   ],
   "outputs": [],
   "metadata": {}
  },
  {
   "cell_type": "code",
   "execution_count": 42,
   "source": [
    "df_vereadores.info()"
   ],
   "outputs": [
    {
     "output_type": "stream",
     "name": "stdout",
     "text": [
      "<class 'pandas.core.frame.DataFrame'>\n",
      "Int64Index: 29269 entries, 0 to 31654\n",
      "Data columns (total 63 columns):\n",
      " #   Column                         Non-Null Count  Dtype  \n",
      "---  ------                         --------------  -----  \n",
      " 0   DT_GERACAO                     29269 non-null  object \n",
      " 1   HH_GERACAO                     29269 non-null  object \n",
      " 2   ANO_ELEICAO                    29269 non-null  int64  \n",
      " 3   CD_TIPO_ELEICAO                29269 non-null  int64  \n",
      " 4   NM_TIPO_ELEICAO                29269 non-null  object \n",
      " 5   NR_TURNO                       29269 non-null  int64  \n",
      " 6   CD_ELEICAO                     29269 non-null  int64  \n",
      " 7   DS_ELEICAO                     29269 non-null  object \n",
      " 8   DT_ELEICAO                     29269 non-null  object \n",
      " 9   TP_ABRANGENCIA                 29269 non-null  object \n",
      " 10  SG_UF                          29269 non-null  object \n",
      " 11  SG_UE                          29269 non-null  int64  \n",
      " 12  NM_UE                          29269 non-null  object \n",
      " 13  CD_CARGO                       29269 non-null  int64  \n",
      " 14  DS_CARGO                       29269 non-null  object \n",
      " 15  SQ_CANDIDATO                   29269 non-null  int64  \n",
      " 16  NR_CANDIDATO                   29269 non-null  int64  \n",
      " 17  NM_CANDIDATO                   29269 non-null  object \n",
      " 18  NM_URNA_CANDIDATO              29269 non-null  object \n",
      " 19  NM_SOCIAL_CANDIDATO            13 non-null     object \n",
      " 20  NR_CPF_CANDIDATO               29269 non-null  int64  \n",
      " 21  NM_EMAIL                       29269 non-null  object \n",
      " 22  CD_SITUACAO_CANDIDATURA        29269 non-null  int64  \n",
      " 23  DS_SITUACAO_CANDIDATURA        29269 non-null  object \n",
      " 24  CD_DETALHE_SITUACAO_CAND       29269 non-null  int64  \n",
      " 25  DS_DETALHE_SITUACAO_CAND       29269 non-null  object \n",
      " 26  TP_AGREMIACAO                  29269 non-null  object \n",
      " 27  NR_PARTIDO                     29269 non-null  int64  \n",
      " 28  SG_PARTIDO                     29269 non-null  object \n",
      " 29  NM_PARTIDO                     29269 non-null  object \n",
      " 30  SQ_COLIGACAO                   29269 non-null  int64  \n",
      " 31  NM_COLIGACAO                   29269 non-null  object \n",
      " 32  DS_COMPOSICAO_COLIGACAO        29269 non-null  object \n",
      " 33  CD_NACIONALIDADE               29269 non-null  int64  \n",
      " 34  DS_NACIONALIDADE               29269 non-null  object \n",
      " 35  SG_UF_NASCIMENTO               29269 non-null  object \n",
      " 36  CD_MUNICIPIO_NASCIMENTO        29269 non-null  int64  \n",
      " 37  NM_MUNICIPIO_NASCIMENTO        29269 non-null  object \n",
      " 38  DT_NASCIMENTO                  29269 non-null  object \n",
      " 39  NR_IDADE_DATA_POSSE            29269 non-null  int64  \n",
      " 40  NR_TITULO_ELEITORAL_CANDIDATO  29269 non-null  int64  \n",
      " 41  CD_GENERO                      29269 non-null  int64  \n",
      " 42  DS_GENERO                      29269 non-null  object \n",
      " 43  CD_GRAU_INSTRUCAO              29269 non-null  int64  \n",
      " 44  DS_GRAU_INSTRUCAO              29269 non-null  object \n",
      " 45  CD_ESTADO_CIVIL                29269 non-null  int64  \n",
      " 46  DS_ESTADO_CIVIL                29269 non-null  object \n",
      " 47  CD_COR_RACA                    29269 non-null  int64  \n",
      " 48  DS_COR_RACA                    29269 non-null  object \n",
      " 49  CD_OCUPACAO                    29269 non-null  int64  \n",
      " 50  DS_OCUPACAO                    29269 non-null  object \n",
      " 51  VR_DESPESA_MAX_CAMPANHA        29269 non-null  float64\n",
      " 52  CD_SIT_TOT_TURNO               29269 non-null  int64  \n",
      " 53  DS_SIT_TOT_TURNO               28372 non-null  object \n",
      " 54  ST_REELEICAO                   29269 non-null  object \n",
      " 55  ST_DECLARAR_BENS               29269 non-null  object \n",
      " 56  NR_PROTOCOLO_CANDIDATURA       29269 non-null  int64  \n",
      " 57  NR_PROCESSO                    29269 non-null  int64  \n",
      " 58  CD_SITUACAO_CANDIDATO_PLEITO   29269 non-null  int64  \n",
      " 59  DS_SITUACAO_CANDIDATO_PLEITO   28372 non-null  object \n",
      " 60  CD_SITUACAO_CANDIDATO_URNA     29269 non-null  int64  \n",
      " 61  DS_SITUACAO_CANDIDATO_URNA     28372 non-null  object \n",
      " 62  ST_CANDIDATO_INSERIDO_URNA     29269 non-null  object \n",
      "dtypes: float64(1), int64(27), object(35)\n",
      "memory usage: 14.3+ MB\n"
     ]
    }
   ],
   "metadata": {}
  },
  {
   "cell_type": "markdown",
   "source": [
    "Geraremos um novo relatório usando o Pandas Profiling para visualizar as mudanças."
   ],
   "metadata": {}
  },
  {
   "cell_type": "code",
   "execution_count": 43,
   "source": [
    "profile = ProfileReport(df_vereadores, title=\"Limpeza dos dados - Pandas Profiling Report\")\r\n",
    "profile.to_file(output_file=\"relatorio_eleicoes_vereadores_2020_pe_rn_limpo.html\")"
   ],
   "outputs": [
    {
     "output_type": "stream",
     "name": "stderr",
     "text": [
      "Summarize dataset:  94%|█████████▎| 72/77 [08:45<04:20, 52.11s/it, Get missing diagrams]c:\\Curso-python-inovacao-civica\\python-inovacao-civica\\env\\lib\\site-packages\\missingno\\missingno.py:250: UserWarning: FixedFormatter should only be used together with FixedLocator\n",
      "  ax1.set_xticklabels(ax1.get_xticklabels(), rotation=45, ha='right', fontsize=fontsize)\n",
      "c:\\Curso-python-inovacao-civica\\python-inovacao-civica\\env\\lib\\site-packages\\pandas_profiling\\model\\summary.py:194: UserWarning: There was an attempt to generate the bar missing values diagrams, but this failed.\n",
      "    To hide this warning, disable the calculation\n",
      "    (using `df.profile_report(missing_diagrams={\"bar\": False}`)\n",
      "    If this is problematic for your use case, please report this as an issue:\n",
      "    https://github.com/pandas-profiling/pandas-profiling/issues\n",
      "    (include the error message: 'The number of FixedLocator locations (7), usually from a call to set_ticks, does not match the number of ticklabels (64).')\n",
      "  warnings.warn(\n",
      "Summarize dataset: 100%|██████████| 77/77 [08:49<00:00,  6.88s/it, Completed]\n",
      "Generate report structure: 100%|██████████| 1/1 [00:31<00:00, 31.13s/it]\n",
      "Render HTML: 100%|██████████| 1/1 [00:15<00:00, 15.73s/it]\n",
      "Export report to file: 100%|██████████| 1/1 [00:00<00:00, 10.21it/s]\n"
     ]
    }
   ],
   "metadata": {}
  },
  {
   "cell_type": "markdown",
   "source": [
    "### Aula 12: Operações básicas com dados\n",
    "\n",
    "Costumamos construir um subdataframe apenas com as colunas que usaremos na nossa análise. Existem várias formas de filtrar as linhas e colunas. Vamos aprender como fazer isso separadamente: \n",
    "\n",
    "Filtrar as 26 colunas pertinentes para nosso estudo."
   ],
   "metadata": {}
  },
  {
   "cell_type": "code",
   "execution_count": null,
   "source": [
    "df_vereadores_pe_rn_reduzido = df_vereadores[\r\n",
    "    ['ANO_ELEICAO','TP_ABRANGENCIA', 'SG_UF', 'SG_UE', 'NM_UE', 'CD_CARGO', 'DS_CARGO',\r\n",
    "     'NR_CANDIDATO', 'NM_CANDIDATO', 'NM_URNA_CANDIDATO','NM_SOCIAL_CANDIDATO', 'NR_PARTIDO',\r\n",
    "     'SG_PARTIDO', 'NR_IDADE_DATA_POSSE','CD_GENERO', 'DS_GENERO', 'CD_COR_RACA', 'DS_COR_RACA',\r\n",
    "     'VR_DESPESA_MAX_CAMPANHA', 'CD_SIT_TOT_TURNO','DS_SIT_TOT_TURNO', 'ST_REELEICAO', 'CD_SITUACAO_CANDIDATURA',\r\n",
    "     'DS_SITUACAO_CANDIDATURA', 'CD_DETALHE_SITUACAO_CAND', 'DS_DETALHE_SITUACAO_CAND']\r\n",
    "].copy()"
   ],
   "outputs": [],
   "metadata": {}
  },
  {
   "cell_type": "code",
   "execution_count": null,
   "source": [
    "df_vereadores_pe_rn_reduzido.shape"
   ],
   "outputs": [],
   "metadata": {}
  },
  {
   "cell_type": "markdown",
   "source": [
    "Agora selecionaremos apenas as pessoas que tem sua candidaturas \"apto\", \"deferido\" e \"deferido com recurso\"."
   ],
   "metadata": {}
  },
  {
   "cell_type": "code",
   "execution_count": null,
   "source": [
    "df_vereadores_pe_rn_reduzido_aptas = df_vereadores_pe_rn_reduzido[\r\n",
    "    df_vereadores_pe_rn_reduzido['CD_SITUACAO_CANDIDATURA'] == 12\r\n",
    "]"
   ],
   "outputs": [],
   "metadata": {}
  },
  {
   "cell_type": "code",
   "execution_count": null,
   "source": [
    "df_vereadores_pe_rn_reduzido_aptas_deferidas = df_vereadores_pe_rn_reduzido_aptas[\n",
    "    (df_vereadores_pe_rn_reduzido_aptas['DS_DETALHE_SITUACAO_CAND'] == 'DEFERIDO') | \n",
    "    (df_vereadores_pe_rn_reduzido_aptas['DS_DETALHE_SITUACAO_CAND'] == 'DEFERIDO COM RECURSO')\n",
    "]"
   ],
   "outputs": [],
   "metadata": {}
  },
  {
   "cell_type": "code",
   "execution_count": null,
   "source": [
    "df_vereadores_pe_rn_reduzido_aptas_deferidas.shape"
   ],
   "outputs": [],
   "metadata": {}
  },
  {
   "cell_type": "markdown",
   "source": [
    "Agora, aprenderemos a filtrar usando a função `pd.loc`:"
   ],
   "metadata": {}
  },
  {
   "cell_type": "code",
   "execution_count": null,
   "source": [
    "colunas_desejadas = ['ANO_ELEICAO','TP_ABRANGENCIA', 'SG_UF', 'SG_UE', 'NM_UE', 'CD_CARGO', 'DS_CARGO',\n",
    "     'NR_CANDIDATO', 'NM_CANDIDATO', 'NM_URNA_CANDIDATO','NM_SOCIAL_CANDIDATO', 'NR_PARTIDO',\n",
    "     'SG_PARTIDO', 'NR_IDADE_DATA_POSSE','CD_GENERO', 'DS_GENERO', 'CD_COR_RACA', 'DS_COR_RACA',\n",
    "     'VR_DESPESA_MAX_CAMPANHA', 'CD_SIT_TOT_TURNO','DS_SIT_TOT_TURNO', 'ST_REELEICAO', 'CD_SITUACAO_CANDIDATURA',\n",
    "     'DS_SITUACAO_CANDIDATURA', 'CD_DETALHE_SITUACAO_CAND', 'DS_DETALHE_SITUACAO_CAND']"
   ],
   "outputs": [],
   "metadata": {}
  },
  {
   "cell_type": "code",
   "execution_count": null,
   "source": [
    "filtro_linhas = (df_vereadores['CD_SITUACAO_CANDIDATURA'] == 12) & (\n",
    "    (df_vereadores['DS_DETALHE_SITUACAO_CAND'] == 'DEFERIDO') | \n",
    "    (df_vereadores['DS_DETALHE_SITUACAO_CAND'] == 'DEFERIDO COM RECURSO')\n",
    ")"
   ],
   "outputs": [],
   "metadata": {}
  },
  {
   "cell_type": "code",
   "execution_count": null,
   "source": [
    "df_vereadores_pe_rn_reduzido_aptas_deferidas_2 = df_vereadores.loc[filtro_linhas, colunas_desejadas]"
   ],
   "outputs": [],
   "metadata": {}
  },
  {
   "cell_type": "code",
   "execution_count": null,
   "source": [
    "df_vereadores_pe_rn_reduzido_aptas_deferidas_2.shape"
   ],
   "outputs": [],
   "metadata": {}
  },
  {
   "cell_type": "code",
   "execution_count": null,
   "source": [
    "df_vereadores_pe_rn = df_vereadores_pe_rn_reduzido_aptas_deferidas_2.copy()"
   ],
   "outputs": [],
   "metadata": {}
  },
  {
   "cell_type": "markdown",
   "source": [
    "## Sua vez, crie um dataframe com apenas os nomes e partidos das pessoas candidatas que se autodeclararam como 'PARDA', 'PRETA' e 'INDÍGENA'"
   ],
   "metadata": {}
  },
  {
   "cell_type": "code",
   "execution_count": null,
   "source": [],
   "outputs": [],
   "metadata": {}
  },
  {
   "cell_type": "markdown",
   "source": [
    "### Aula 13: Métodos `filter` e `sort_values`\n",
    "\n",
    "Vamos filtrar todas as colunas que possuam as letras \"DIDATO\" no seu título:"
   ],
   "metadata": {}
  },
  {
   "cell_type": "code",
   "execution_count": null,
   "source": [
    "df_vereadores_pe_rn_nomes = df_vereadores_pe_rn.filter(like='DIDATO', axis=1)\n",
    "df_vereadores_pe_rn_nomes.head()"
   ],
   "outputs": [],
   "metadata": {}
  },
  {
   "cell_type": "markdown",
   "source": [
    "Para ordenar as linhas a partir das colunas 'NM_SOCIAL_CANDIDATO' e 'NM_CANDIDATO, usamos o método df.sort_values:"
   ],
   "metadata": {}
  },
  {
   "cell_type": "code",
   "execution_count": null,
   "source": [
    "df_vereadores_pe_rn_nomes.sort_values(by=['NM_SOCIAL_CANDIDATO', 'NM_CANDIDATO'], \n",
    "                                      ascending=True, \n",
    "                                      na_position='last', \n",
    "                                      ignore_index=False\n",
    ")"
   ],
   "outputs": [],
   "metadata": {}
  },
  {
   "cell_type": "markdown",
   "source": [
    "## Selecione apenas as colunas cujo o título possua \"DS\" e organize em ordem descrescente. Qual o gênero das candidaturas das 3 primeiras linhas?"
   ],
   "metadata": {}
  },
  {
   "cell_type": "code",
   "execution_count": null,
   "source": [],
   "outputs": [],
   "metadata": {}
  },
  {
   "cell_type": "markdown",
   "source": [
    "### Aula 14: Operações com dados e método `apply`\n",
    "\n",
    "Podemos criar uma nova coluna a partir de operações sobre outras colunas. No exemplo abaixo vamos descobrir o gasto médio diário declarado por cada candidatura."
   ],
   "metadata": {}
  },
  {
   "cell_type": "code",
   "execution_count": null,
   "source": [
    "total_dias_campanha = 45\n",
    "df_vereadores_pe_rn['GASTO_DIARIO'] = df_vereadores_pe_rn['VR_DESPESA_MAX_CAMPANHA'] / total_dias_campanha"
   ],
   "outputs": [],
   "metadata": {}
  },
  {
   "cell_type": "code",
   "execution_count": null,
   "source": [
    "df_vereadores_pe_rn.head()"
   ],
   "outputs": [],
   "metadata": {}
  },
  {
   "cell_type": "markdown",
   "source": [
    "Explorando mais um pouco esses dados, trabalharemos apenas com os dados das candidaturas de Pernambuco e classificaremos os gastos médios diários de acordo com os conceitos de quartil e valores discrepantes que vimos nos vídeos sobre estatística:"
   ],
   "metadata": {}
  },
  {
   "cell_type": "code",
   "execution_count": null,
   "source": [
    "df_vereadores_pe = df_vereadores_pe_rn[df_vereadores_pe_rn['SG_UF'] == 'PE'].copy()"
   ],
   "outputs": [],
   "metadata": {}
  },
  {
   "cell_type": "code",
   "execution_count": null,
   "source": [
    "primeiro_quartil = df_vereadores_pe['GASTO_DIARIO'].quantile(0.25)\n",
    "terceiro_quartil = df_vereadores_pe['GASTO_DIARIO'].quantile(0.75)"
   ],
   "outputs": [],
   "metadata": {}
  },
  {
   "cell_type": "code",
   "execution_count": null,
   "source": [
    "intervalo_interquartil = terceiro_quartil - primeiro_quartil"
   ],
   "outputs": [],
   "metadata": {}
  },
  {
   "cell_type": "code",
   "execution_count": null,
   "source": [
    "limite_inferior = primeiro_quartil - (intervalo_interquartil * 1.5)\n",
    "limite_superior = terceiro_quartil + (intervalo_interquartil * 1.5)"
   ],
   "outputs": [],
   "metadata": {}
  },
  {
   "cell_type": "code",
   "execution_count": null,
   "source": [
    "def classificacao_gasto(row):\n",
    "    if row < limite_inferior:\n",
    "        return 'muito abaixo da média'\n",
    "    elif row >= limite_inferior and row < primeiro_quartil:\n",
    "        return 'abaixo da média'\n",
    "    elif row >= primeiro_quartil and row <= terceiro_quartil:\n",
    "        return 'na média'\n",
    "    elif row > terceiro_quartil and row <= limite_superior:\n",
    "        return 'acima da média'\n",
    "    else:\n",
    "        return 'muito acima da média'"
   ],
   "outputs": [],
   "metadata": {}
  },
  {
   "cell_type": "code",
   "execution_count": null,
   "source": [
    "df_vereadores_pe['CLASSIFICACAO_GASTO_DIARIO'] = df_vereadores_pe['GASTO_DIARIO'].apply(classificacao_gasto)"
   ],
   "outputs": [],
   "metadata": {}
  },
  {
   "cell_type": "code",
   "execution_count": null,
   "source": [
    "df_vereadores_pe.head()"
   ],
   "outputs": [],
   "metadata": {}
  },
  {
   "cell_type": "markdown",
   "source": [
    "Para facilitar a visualização faremos um gráfico de barras usando a biblioteca matplotlib:"
   ],
   "metadata": {}
  },
  {
   "cell_type": "code",
   "execution_count": null,
   "source": [
    "from matplotlib import pyplot as plt"
   ],
   "outputs": [],
   "metadata": {}
  },
  {
   "cell_type": "code",
   "execution_count": null,
   "source": [
    "# guarda na variável \"classificacao\" uma lista com os rótulos usados para classificar os gastos\n",
    "classificacao = df_vereadores_pe['CLASSIFICACAO_GASTO_DIARIO'].unique().tolist()"
   ],
   "outputs": [],
   "metadata": {}
  },
  {
   "cell_type": "code",
   "execution_count": null,
   "source": [
    "#guarda na variável \"total_por_classificacao\" uma lista a quantidade de ocorrência de cada rótulo\n",
    "total_por_classificacao = df_vereadores_pe['CLASSIFICACAO_GASTO_DIARIO'].value_counts().to_list()"
   ],
   "outputs": [],
   "metadata": {}
  },
  {
   "cell_type": "code",
   "execution_count": null,
   "source": [
    "plt.bar(classificacao, total_por_classificacao)\n",
    "plt.title('Gastos diários declarados por candidatura')\n",
    "plt.ylabel('Quantitativo de municípios por classificação')\n",
    "\n",
    "plt.show()"
   ],
   "outputs": [],
   "metadata": {}
  },
  {
   "cell_type": "markdown",
   "source": [
    "### Aula 15: Operações com dados e método `groupby`\n",
    "\n",
    "Usando o método groupby podemos agrupar dados segundo informações de uma coluna e fazer operações com o agrupamento.\n",
    "\n",
    "As perguntas que queremos responder são: quantas mulheres são candidatas? Qual a distribuição de pessoas por grupo racial? Quantidade de mulheres por grupo racial? E qual partido tem mais mulheres em cada grupo racial?\n"
   ],
   "metadata": {}
  },
  {
   "cell_type": "code",
   "execution_count": null,
   "source": [
    "colunas_desejadas = ['SG_PARTIDO', 'DS_GENERO', 'DS_COR_RACA']\n",
    "filtro = df_vereadores_pe_rn['SG_UF'] == 'PE'"
   ],
   "outputs": [],
   "metadata": {}
  },
  {
   "cell_type": "code",
   "execution_count": null,
   "source": [
    "df_vereadores_pe_sexo_raca = df_vereadores_pe_rn.loc[filtro, colunas_desejadas]"
   ],
   "outputs": [],
   "metadata": {}
  },
  {
   "cell_type": "code",
   "execution_count": null,
   "source": [
    "df_vereadores_pe_sexo_raca.head()"
   ],
   "outputs": [],
   "metadata": {}
  },
  {
   "cell_type": "markdown",
   "source": [
    "Agrupando por gênero, quantas candidaturas temos em cada um?"
   ],
   "metadata": {}
  },
  {
   "cell_type": "code",
   "execution_count": null,
   "source": [
    "df_vereadores_pe_sexo_raca.groupby(['DS_GENERO']).count()"
   ],
   "outputs": [],
   "metadata": {}
  },
  {
   "cell_type": "markdown",
   "source": [
    "E por raça?"
   ],
   "metadata": {}
  },
  {
   "cell_type": "code",
   "execution_count": null,
   "source": [
    "df_vereadores_pe_sexo_raca.groupby(['DS_COR_RACA']).count()"
   ],
   "outputs": [],
   "metadata": {}
  },
  {
   "cell_type": "markdown",
   "source": [
    "Da candidaturas do gênero feminino, quantas temos em cada grupo racial?"
   ],
   "metadata": {}
  },
  {
   "cell_type": "code",
   "execution_count": null,
   "source": [
    "df_vereadores_pe_sexo_raca[df_vereadores_pe_sexo_raca['DS_GENERO'] == 'FEMININO'].groupby(\n",
    "    ['DS_GENERO', 'DS_COR_RACA']).count()"
   ],
   "outputs": [],
   "metadata": {}
  },
  {
   "cell_type": "markdown",
   "source": [
    "Entre as candidaturas do gênero feminino, quais os partidos com maior número de representação em cada grupo racial?"
   ],
   "metadata": {}
  },
  {
   "cell_type": "code",
   "execution_count": null,
   "source": [
    "df_vereadores_pe_sexo_raca[df_vereadores_pe_sexo_raca['DS_GENERO'] == 'FEMININO'].groupby(\n",
    "    ['DS_GENERO', 'DS_COR_RACA']).max()"
   ],
   "outputs": [],
   "metadata": {}
  },
  {
   "cell_type": "markdown",
   "source": [
    "## Agora é a sua vez, entre as candidaturas do sexo masculino, quais os partidos com o menor número de representantes em cada grupo racial?"
   ],
   "metadata": {}
  },
  {
   "cell_type": "code",
   "execution_count": null,
   "source": [],
   "outputs": [],
   "metadata": {}
  }
 ],
 "metadata": {
  "kernelspec": {
   "name": "python3",
   "display_name": "Python 3.9.6 64-bit ('env': venv)"
  },
  "language_info": {
   "codemirror_mode": {
    "name": "ipython",
    "version": 3
   },
   "file_extension": ".py",
   "mimetype": "text/x-python",
   "name": "python",
   "nbconvert_exporter": "python",
   "pygments_lexer": "ipython3",
   "version": "3.9.6"
  },
  "interpreter": {
   "hash": "95df4e442b989bf68ede8b6e02f112c5839e987b4fd221f59869a058c84f7837"
  }
 },
 "nbformat": 4,
 "nbformat_minor": 5
}
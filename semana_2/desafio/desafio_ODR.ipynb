{
 "cells": [
  {
   "cell_type": "markdown",
   "source": [
    "# Limpeza de dados e estatística descritiva\n",
    "\n",
    "Neste desafio, iremos revisar alguns conceitos vistos nas aulas e ver algumas novidades. Os dados originais são do [repositório de dados eleitorais do Tribunal Superior Eleitoral](https://www.tse.jus.br/eleicoes/estatisticas/repositorio-de-dados-eleitorais-1). \n",
    "\n",
    "O CSV disponibilizado é formado pela conjunção de algumas tabelas do arquivo [orgao_partidario.zip](https://cdn.tse.jus.br/estatistica/sead/odsele/orgao_partidario/orgao_partidario.zip), localizado no menu Partidos > Órgão Partidário.\n",
    "\n",
    "Preencha as lacunas abaixo para completar o desafio."
   ],
   "metadata": {}
  },
  {
   "cell_type": "markdown",
   "source": [
    "# Importe os pacotes necessários"
   ],
   "metadata": {}
  },
  {
   "cell_type": "code",
   "execution_count": 1,
   "source": [
    "import pandas as pd\r\n",
    "import numpy as np"
   ],
   "outputs": [],
   "metadata": {}
  },
  {
   "cell_type": "markdown",
   "source": [
    "# Leia o arquivo \"receitas_orgaos_partidarios_2020_NORDESTE.csv\" usando o Pandas\n",
    "\n",
    "Na aula `1.10 - Outliers e valores faltantes`, vimos como utilizar o método `replace` para substituir valores em certos colunas do nosso dataframe e trocar o texto (string) `#NULO#` pela representação padrão do Pandas para valores nulos.\n",
    "\n",
    "Aqui, vamos utilizar um outro método, onde definimos quais strings serão considerados valores nulos já na importação do arquivo.\n",
    "\n",
    "Edite as células abaixo e inclua:\n",
    "\n",
    "* O nome do arquivo que queremos importar\n",
    "* O separador utilizado\n",
    "* Insira uma lista no parâmetro `na_values` que contenha o texto a ser ignorado.\n",
    "\n",
    "Experimente rodar os comandos primeiro sem e depois com o parâmetro `na_values`, então, compare a diferença. Observe, por exemplo, o campo `CD_CNAE_DOADOR`."
   ],
   "metadata": {}
  },
  {
   "cell_type": "code",
   "execution_count": 2,
   "source": [
    "df = pd.read_csv('receitas_orgaos_partidarios_2020_NORDESTE.csv',sep=';',encoding='latin-1')\r\n",
    "\r\n",
    "df.info() # retorna nome das colunas"
   ],
   "outputs": [
    {
     "output_type": "stream",
     "name": "stdout",
     "text": [
      "<class 'pandas.core.frame.DataFrame'>\n",
      "RangeIndex: 12874 entries, 0 to 12873\n",
      "Data columns (total 48 columns):\n",
      " #   Column                       Non-Null Count  Dtype \n",
      "---  ------                       --------------  ----- \n",
      " 0   DT_GERACAO                   12874 non-null  object\n",
      " 1   HH_GERACAO                   12874 non-null  object\n",
      " 2   ANO_ELEICAO                  12874 non-null  int64 \n",
      " 3   CD_TIPO_ELEICAO              12874 non-null  int64 \n",
      " 4   NM_TIPO_ELEICAO              12874 non-null  object\n",
      " 5   TP_PRESTACAO_CONTAS          12874 non-null  object\n",
      " 6   DT_PRESTACAO_CONTAS          12874 non-null  object\n",
      " 7   SQ_PRESTADOR_CONTAS          12874 non-null  int64 \n",
      " 8   CD_ESFERA_PARTIDARIA         12874 non-null  object\n",
      " 9   DS_ESFERA_PARTIDARIA         12874 non-null  object\n",
      " 10  SG_UF                        12874 non-null  object\n",
      " 11  CD_MUNICIPIO                 12874 non-null  int64 \n",
      " 12  NM_MUNICIPIO                 12874 non-null  object\n",
      " 13  NR_CNPJ_PRESTADOR_CONTA      12874 non-null  int64 \n",
      " 14  NR_PARTIDO                   12874 non-null  int64 \n",
      " 15  SG_PARTIDO                   12874 non-null  object\n",
      " 16  NM_PARTIDO                   12874 non-null  object\n",
      " 17  CD_FONTE_RECEITA             12874 non-null  int64 \n",
      " 18  DS_FONTE_RECEITA             12874 non-null  object\n",
      " 19  CD_ORIGEM_RECEITA            12874 non-null  int64 \n",
      " 20  DS_ORIGEM_RECEITA            12874 non-null  object\n",
      " 21  CD_NATUREZA_RECEITA          12874 non-null  int64 \n",
      " 22  DS_NATUREZA_RECEITA          12874 non-null  object\n",
      " 23  CD_ESPECIE_RECEITA           12874 non-null  int64 \n",
      " 24  DS_ESPECIE_RECEITA           12874 non-null  object\n",
      " 25  CD_CNAE_DOADOR               12874 non-null  int64 \n",
      " 26  DS_CNAE_DOADOR               12874 non-null  object\n",
      " 27  NR_CPF_CNPJ_DOADOR           12874 non-null  int64 \n",
      " 28  NM_DOADOR                    12874 non-null  object\n",
      " 29  NM_DOADOR_RFB                12874 non-null  object\n",
      " 30  CD_ESFERA_PARTIDARIA_DOADOR  12874 non-null  object\n",
      " 31  DS_ESFERA_PARTIDARIA_DOADOR  12874 non-null  object\n",
      " 32  SG_UF_DOADOR                 12874 non-null  object\n",
      " 33  CD_MUNICIPIO_DOADOR          12874 non-null  int64 \n",
      " 34  NM_MUNICIPIO_DOADOR          12874 non-null  object\n",
      " 35  SQ_CANDIDATO_DOADOR          12874 non-null  int64 \n",
      " 36  NR_CANDIDATO_DOADOR          12874 non-null  int64 \n",
      " 37  CD_CARGO_CANDIDATO_DOADOR    12874 non-null  int64 \n",
      " 38  DS_CARGO_CANDIDATO_DOADOR    12874 non-null  object\n",
      " 39  NR_PARTIDO_DOADOR            12874 non-null  int64 \n",
      " 40  SG_PARTIDO_DOADOR            12874 non-null  object\n",
      " 41  NM_PARTIDO_DOADOR            12874 non-null  object\n",
      " 42  NR_RECIBO_DOACAO             12874 non-null  object\n",
      " 43  NR_DOCUMENTO_DOACAO          12874 non-null  object\n",
      " 44  SQ_RECEITA                   12874 non-null  int64 \n",
      " 45  DT_RECEITA                   12874 non-null  object\n",
      " 46  DS_RECEITA                   12874 non-null  object\n",
      " 47  VR_RECEITA                   12874 non-null  int64 \n",
      "dtypes: int64(19), object(29)\n",
      "memory usage: 4.7+ MB\n"
     ]
    }
   ],
   "metadata": {}
  },
  {
   "cell_type": "code",
   "execution_count": null,
   "source": [
    "df = pd.read_csv(______,sep=____,na_values=____)\r\n",
    "\r\n",
    "df.info()"
   ],
   "outputs": [],
   "metadata": {}
  },
  {
   "cell_type": "markdown",
   "source": [
    "# Filtre apenas os registros que sejam da prestação de contas final\n"
   ],
   "metadata": {}
  },
  {
   "cell_type": "code",
   "execution_count": null,
   "source": [
    "# Primeiro vamos ver os valores únicos da coluna TP_PRESTACAO_CONTAS\r\n",
    "\r\n",
    "df[_____].unique()"
   ],
   "outputs": [],
   "metadata": {}
  },
  {
   "cell_type": "code",
   "execution_count": null,
   "source": [
    "# O resultado deste comando nos diz que quantas linhas e colunas temos antes do filtro\r\n",
    "df.shape"
   ],
   "outputs": [],
   "metadata": {}
  },
  {
   "cell_type": "code",
   "execution_count": 7,
   "source": [
    "# Preencha o campo os espaços abaixo com o nome da coluna e o valor desejado para nosso filtro\r\n",
    "df_final = df[df[_____] == __________]"
   ],
   "outputs": [],
   "metadata": {}
  },
  {
   "cell_type": "code",
   "execution_count": null,
   "source": [
    "# Rode o comando shape no novo dataframe criado e confira se o número de linhas foi reduzido\r\n",
    "\r\n"
   ],
   "outputs": [],
   "metadata": {}
  },
  {
   "cell_type": "markdown",
   "source": [
    "## Qual foi a maior doação de pessoa física e pessoa jurídica em cada estado?\n",
    "\n",
    "Vamos usar o método `value_counts` para não só listar cada valor único da coluna `CD_CNAE_DOADOR`, como também mostrar quantos registros temos em cada um."
   ],
   "metadata": {}
  },
  {
   "cell_type": "code",
   "execution_count": null,
   "source": [
    "# Preencha o nome da coluna abaixo\r\n",
    "df_final[________].value_counts()"
   ],
   "outputs": [],
   "metadata": {}
  },
  {
   "cell_type": "code",
   "execution_count": null,
   "source": [
    "# Para ver os resultados em percentuais é fácil! Basta falarmos para o value_counts que queremos os resultados normalizados\r\n",
    "df_final[_____].value_counts(normalize=True)"
   ],
   "outputs": [],
   "metadata": {}
  },
  {
   "cell_type": "markdown",
   "source": [
    "Se o doador for pessoa jurídica, temos seu respectivo código CNAE. Se for pessoa física, então temos o valor `-1`. \n",
    "\n",
    "Qual conclusão podemos tirar a respeito dos comandos acima?\n",
    "\n",
    "Escreva um **comentário** na célula abaixo com a resposta."
   ],
   "metadata": {}
  },
  {
   "cell_type": "code",
   "execution_count": 11,
   "source": [
    "# Mais da metade dos registros são de pessoas físicas."
   ],
   "outputs": [],
   "metadata": {}
  },
  {
   "cell_type": "markdown",
   "source": [
    "Agora, vamos duplicar a coluna `CD_CNAE_DOADOR` e deixar esta nova coluna apenas com 2 categorias: física (representada pelo valor -1) ou jurídica (que vamos representar inicialmente com 1)."
   ],
   "metadata": {}
  },
  {
   "cell_type": "code",
   "execution_count": 12,
   "source": [
    "# Vamos criar uma nova coluna que seja uma cópia exata da coluna CD_CNAE_DOADOR\n",
    "df_final['TIPO_DOADOR'] = df_final['CD_CNAE_DOADOR']\n",
    "\n",
    "# O comando acima funciona, mas exibe um aviso de \"chained assignments\"\n",
    "# Para não ter o aviso, poderíamos usar o loc\n",
    "# df['TIPO_DOADOR'] = df.loc[:, 'CD_CNAE_DOADOR']"
   ],
   "outputs": [
    {
     "output_type": "stream",
     "name": "stderr",
     "text": [
      "<ipython-input-12-676aa956976d>:2: SettingWithCopyWarning: \n",
      "A value is trying to be set on a copy of a slice from a DataFrame.\n",
      "Try using .loc[row_indexer,col_indexer] = value instead\n",
      "\n",
      "See the caveats in the documentation: https://pandas.pydata.org/pandas-docs/stable/user_guide/indexing.html#returning-a-view-versus-a-copy\n",
      "  df_final['TIPO_DOADOR'] = df_final['CD_CNAE_DOADOR']\n"
     ]
    }
   ],
   "metadata": {}
  },
  {
   "cell_type": "markdown",
   "source": [
    "## Substituição condicional (conditional replacing)\n",
    "\n",
    "Agora, vamos usar o método where do pacote NumPy (carinhosamente chamado de np abaixo).\n",
    "\n",
    "Esta função recebe três parâmetros:\n",
    "\n",
    "* Uma condição: no nosso caso, queremos que filtrar as coluna do CNAE onde os valores sejam -1\n",
    "* Um valor: caso a condição acima seja verdadeira, qual valor deverá ser retornado?\n",
    "* Outro valor: se a condição for falsa, então, qual outro valor deverá ser retornado?\n"
   ],
   "metadata": {}
  },
  {
   "cell_type": "code",
   "execution_count": null,
   "source": [
    "# O comando abaixo também gera o aviso.\n",
    "\n",
    "df_final['TIPO_DOADOR'] = np.where(df_final[______]==___, 'fisica', 'juridica')"
   ],
   "outputs": [],
   "metadata": {}
  },
  {
   "cell_type": "markdown",
   "source": [
    "## Agrupando (group by)"
   ],
   "metadata": {}
  },
  {
   "cell_type": "code",
   "execution_count": null,
   "source": [
    "# Preencha abaixo primeiro uma lista com as 3 colunas que precisamos utilizar para responder à pergunta. E depois o nome das 2 colunas que precisamos agrupar.\n",
    "\n",
    "df_final[______].groupby(by=______).max()"
   ],
   "outputs": [],
   "metadata": {}
  },
  {
   "cell_type": "code",
   "execution_count": 1,
   "source": [
    "# Para repetir o valor da coluna TIPO_DOADOR nas linhas, coloque o parâmetro as_index=False no método groupby do comando acima\n",
    "\n"
   ],
   "outputs": [],
   "metadata": {}
  },
  {
   "cell_type": "markdown",
   "source": [
    "## Qual o total de doações recebidas por partido?"
   ],
   "metadata": {}
  },
  {
   "cell_type": "code",
   "execution_count": null,
   "source": [
    "df_final[__________].groupby(by=_____).___()"
   ],
   "outputs": [],
   "metadata": {}
  },
  {
   "cell_type": "markdown",
   "source": [
    "## Qual é o top 10?\n",
    "\n",
    "Crie um novo dataframe com os 10 partidos com mais doações. Você precisa primeiro ordenar os resultados e depois selecionar apenas os 10 primeiros.\n",
    "\n"
   ],
   "metadata": {}
  },
  {
   "cell_type": "code",
   "execution_count": null,
   "source": [
    "df_final[__________].groupby(by=_____).___().sort_values(by='____',ascending=______).head(___)"
   ],
   "outputs": [],
   "metadata": {}
  },
  {
   "cell_type": "markdown",
   "source": [
    "# Vamos visualizar os resultados?\n",
    "Na aula, nós vimos como usar o matplotlib para gerar gráficos. Agora, vamos descobrir uma nova forma de fazer o mesmo usando um método nativo Pandas. Experimente colocar `.plot(kind='barh')` após a consulta ou dataframe anterior.\n",
    "\n",
    "Com este comando, podemos produzir um gráfico (plot) do tipo (kind) de barras horizontais (barh)."
   ],
   "metadata": {}
  },
  {
   "cell_type": "code",
   "execution_count": null,
   "source": [
    "df_final[__________].groupby(by=_____).___().sort_values(by='____',ascending=______).head(___).plot(kind='barh')"
   ],
   "outputs": [],
   "metadata": {}
  },
  {
   "cell_type": "markdown",
   "source": [
    "## Qual o valor médio das doações por tipo de doador?\n",
    "\n",
    "Agora é sua vez! A partir dos comandos anteriores, faça uma nova consulta para descobrir a mediana de acordo com o tipo de doador."
   ],
   "metadata": {}
  },
  {
   "cell_type": "code",
   "execution_count": null,
   "source": [],
   "outputs": [],
   "metadata": {}
  },
  {
   "cell_type": "markdown",
   "source": [
    "# Entreviste você mesmo"
   ],
   "metadata": {}
  },
  {
   "cell_type": "markdown",
   "source": [
    "Escreva abaixo pelo menos outras três perguntas que podem ser feitas à base de dados. Escreva a pergunta como um comentário acima do código com a consulta em Python."
   ],
   "metadata": {}
  },
  {
   "cell_type": "markdown",
   "source": [],
   "metadata": {}
  }
 ],
 "metadata": {
  "kernelspec": {
   "name": "python3",
   "display_name": "Python 3.9.6 64-bit ('env': venv)"
  },
  "language_info": {
   "codemirror_mode": {
    "name": "ipython",
    "version": 3
   },
   "file_extension": ".py",
   "mimetype": "text/x-python",
   "name": "python",
   "nbconvert_exporter": "python",
   "pygments_lexer": "ipython3",
   "version": "3.9.6"
  },
  "interpreter": {
   "hash": "95df4e442b989bf68ede8b6e02f112c5839e987b4fd221f59869a058c84f7837"
  }
 },
 "nbformat": 4,
 "nbformat_minor": 5
}
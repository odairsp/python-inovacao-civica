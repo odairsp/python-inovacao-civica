{
 "cells": [
  {
   "cell_type": "markdown",
   "source": [
    "# Desafio"
   ],
   "metadata": {
    "id": "bFYatS11gOtN"
   }
  },
  {
   "cell_type": "markdown",
   "source": [
    "### Acesse a api da camara, e recupere os reembolsos do ano de 2018"
   ],
   "metadata": {}
  },
  {
   "cell_type": "code",
   "execution_count": 1,
   "source": [
    "import requests\r\n",
    "\r\n",
    "# fazendo o download do conteúdo do arquivo\r\n",
    "url = \"http://www.camara.leg.br/cotas/Ano-2018.csv.zip\"  # pega o arquivo .zip e na variavel r\r\n",
    "r = requests.get(url)   "
   ],
   "outputs": [],
   "metadata": {
    "id": "H-ShSuQJ5ICY"
   }
  },
  {
   "cell_type": "code",
   "execution_count": 2,
   "source": [
    "r.content\r\n",
    "r.status_code"
   ],
   "outputs": [
    {
     "output_type": "execute_result",
     "data": {
      "text/plain": [
       "200"
      ]
     },
     "metadata": {},
     "execution_count": 2
    }
   ],
   "metadata": {}
  },
  {
   "cell_type": "code",
   "execution_count": 3,
   "source": [
    "with open(\"Ano-2018.csv.zip\", \"wb\") as arquivo:  # cria um novo arquivo para escrita em binario\r\n",
    "    arquivo.write(r.content)                     # persiste o conteudo de r neste arquivo .zip\r\n"
   ],
   "outputs": [],
   "metadata": {}
  },
  {
   "cell_type": "code",
   "execution_count": 4,
   "source": [
    "from zipfile import ZipFile\r\n",
    "# descompacto todo o conteudo de .zip para nova variavel\r\n",
    "zipado = ZipFile(\"Ano-2018.csv.zip\", \"r\")\r\n",
    "# listo os arquivos descompactados   \r\n",
    "zipado.namelist()                           "
   ],
   "outputs": [
    {
     "output_type": "execute_result",
     "data": {
      "text/plain": [
       "['Ano-2018.csv']"
      ]
     },
     "metadata": {},
     "execution_count": 4
    }
   ],
   "metadata": {}
  },
  {
   "cell_type": "code",
   "execution_count": 5,
   "source": [
    "# extraio um dos arquivos para nova pasta\r\n",
    "zipado.extract(member=\"Ano-2018.csv\", path=\"reembolso-2018\") "
   ],
   "outputs": [
    {
     "output_type": "execute_result",
     "data": {
      "text/plain": [
       "'reembolso-2018\\\\Ano-2018.csv'"
      ]
     },
     "metadata": {},
     "execution_count": 5
    }
   ],
   "metadata": {}
  },
  {
   "cell_type": "code",
   "execution_count": 6,
   "source": [
    "zipado.close()"
   ],
   "outputs": [],
   "metadata": {}
  },
  {
   "cell_type": "markdown",
   "source": [
    "### Leia o Arquivo csv "
   ],
   "metadata": {
    "id": "9V6UrEjQiS4S"
   }
  },
  {
   "cell_type": "code",
   "execution_count": 7,
   "source": [
    "import pandas as pd\r\n",
    "pd.set_option('display.max_columns', None)\r\n",
    "DTYPE = {\r\n",
    "    'txNomeParlamentar': str,\r\n",
    "    'cpf' : str,\r\n",
    "    'ideCadastro': str,\r\n",
    "    'nuCarteiraParlamentar': str,\r\n",
    "    'nuLegislatura': str,\r\n",
    "    'sgUF': str,\r\n",
    "    'sgPartido': str,\r\n",
    "    'codLegislatura': str,\r\n",
    "    'numSubCota': str,\r\n",
    "    'txtDescricao': str,\r\n",
    "    'numEspecificacaoSubCota': str,\r\n",
    "    'txtDescricaoEspecificacao': str,\r\n",
    "    'txtFornecedor': str,\r\n",
    "    'txtCNPJCPF': str,\r\n",
    "    'txtNumero': str,\r\n",
    "    'indTipoDocumento': str,\r\n",
    "    'datEmissao': str,\r\n",
    "    'vlrDocumento': float,\r\n",
    "    'vlrGlosa': str,\r\n",
    "    'vlrLiquido': float,\r\n",
    "    'numMes': str,\r\n",
    "    'numAno': str,\r\n",
    "    'numParcela': str,\r\n",
    "    'txtPassageiro': str,\r\n",
    "    'txtTrecho': str,\r\n",
    "    'numLote': str,\r\n",
    "    'numRessarcimento': str,\r\n",
    "    'nuDeputadoId': str,\r\n",
    "    'ideDocumento': str\r\n",
    "}\r\n",
    "\r\n",
    "df_ano_2018 = pd.read_csv(\"reembolso-2018/Ano-2018.csv\", sep=';', dtype=DTYPE)\r\n",
    "df_ano_2018.shape"
   ],
   "outputs": [
    {
     "output_type": "execute_result",
     "data": {
      "text/plain": [
       "(292632, 31)"
      ]
     },
     "metadata": {},
     "execution_count": 7
    }
   ],
   "metadata": {
    "id": "yalZ9LW96ONR",
    "scrolled": true
   }
  },
  {
   "cell_type": "markdown",
   "source": [
    "### Visualize 10 linhas aleatórias"
   ],
   "metadata": {}
  },
  {
   "cell_type": "code",
   "execution_count": 9,
   "source": [
    "df_ano_2018.sample(1)"
   ],
   "outputs": [
    {
     "output_type": "execute_result",
     "data": {
      "text/plain": [
       "       txNomeParlamentar          cpf ideCadastro nuCarteiraParlamentar  \\\n",
       "101173  Eduardo da Fonte  53467108415      141421                   156   \n",
       "\n",
       "       nuLegislatura sgUF sgPartido codLegislatura numSubCota  \\\n",
       "101173          2015   PE        PP             55        999   \n",
       "\n",
       "                txtDescricao numEspecificacaoSubCota  \\\n",
       "101173  PASSAGEM AÉREA - RPA                       0   \n",
       "\n",
       "       txtDescricaoEspecificacao    txtFornecedor          txtCNPJCPF  \\\n",
       "101173                       NaN  Cia Aérea - GOL  075.756.510/0015-9   \n",
       "\n",
       "              txtNumero indTipoDocumento           datEmissao  vlrDocumento  \\\n",
       "101173  Bilhete: QQMQRE                0  2018-03-22T00:00:00        996.93   \n",
       "\n",
       "       vlrGlosa  vlrLiquido numMes numAno numParcela     txtPassageiro  \\\n",
       "101173        0      996.93      3   2018          0  Eduardo da Fonte   \n",
       "\n",
       "       txtTrecho numLote numRessarcimento  vlrRestituicao nuDeputadoId  \\\n",
       "101173   BSB/REC       0                0             NaN         1822   \n",
       "\n",
       "       ideDocumento urlDocumento  \n",
       "101173      1544529          NaN  "
      ],
      "text/html": [
       "<div>\n",
       "<style scoped>\n",
       "    .dataframe tbody tr th:only-of-type {\n",
       "        vertical-align: middle;\n",
       "    }\n",
       "\n",
       "    .dataframe tbody tr th {\n",
       "        vertical-align: top;\n",
       "    }\n",
       "\n",
       "    .dataframe thead th {\n",
       "        text-align: right;\n",
       "    }\n",
       "</style>\n",
       "<table border=\"1\" class=\"dataframe\">\n",
       "  <thead>\n",
       "    <tr style=\"text-align: right;\">\n",
       "      <th></th>\n",
       "      <th>txNomeParlamentar</th>\n",
       "      <th>cpf</th>\n",
       "      <th>ideCadastro</th>\n",
       "      <th>nuCarteiraParlamentar</th>\n",
       "      <th>nuLegislatura</th>\n",
       "      <th>sgUF</th>\n",
       "      <th>sgPartido</th>\n",
       "      <th>codLegislatura</th>\n",
       "      <th>numSubCota</th>\n",
       "      <th>txtDescricao</th>\n",
       "      <th>numEspecificacaoSubCota</th>\n",
       "      <th>txtDescricaoEspecificacao</th>\n",
       "      <th>txtFornecedor</th>\n",
       "      <th>txtCNPJCPF</th>\n",
       "      <th>txtNumero</th>\n",
       "      <th>indTipoDocumento</th>\n",
       "      <th>datEmissao</th>\n",
       "      <th>vlrDocumento</th>\n",
       "      <th>vlrGlosa</th>\n",
       "      <th>vlrLiquido</th>\n",
       "      <th>numMes</th>\n",
       "      <th>numAno</th>\n",
       "      <th>numParcela</th>\n",
       "      <th>txtPassageiro</th>\n",
       "      <th>txtTrecho</th>\n",
       "      <th>numLote</th>\n",
       "      <th>numRessarcimento</th>\n",
       "      <th>vlrRestituicao</th>\n",
       "      <th>nuDeputadoId</th>\n",
       "      <th>ideDocumento</th>\n",
       "      <th>urlDocumento</th>\n",
       "    </tr>\n",
       "  </thead>\n",
       "  <tbody>\n",
       "    <tr>\n",
       "      <th>101173</th>\n",
       "      <td>Eduardo da Fonte</td>\n",
       "      <td>53467108415</td>\n",
       "      <td>141421</td>\n",
       "      <td>156</td>\n",
       "      <td>2015</td>\n",
       "      <td>PE</td>\n",
       "      <td>PP</td>\n",
       "      <td>55</td>\n",
       "      <td>999</td>\n",
       "      <td>PASSAGEM AÉREA - RPA</td>\n",
       "      <td>0</td>\n",
       "      <td>NaN</td>\n",
       "      <td>Cia Aérea - GOL</td>\n",
       "      <td>075.756.510/0015-9</td>\n",
       "      <td>Bilhete: QQMQRE</td>\n",
       "      <td>0</td>\n",
       "      <td>2018-03-22T00:00:00</td>\n",
       "      <td>996.93</td>\n",
       "      <td>0</td>\n",
       "      <td>996.93</td>\n",
       "      <td>3</td>\n",
       "      <td>2018</td>\n",
       "      <td>0</td>\n",
       "      <td>Eduardo da Fonte</td>\n",
       "      <td>BSB/REC</td>\n",
       "      <td>0</td>\n",
       "      <td>0</td>\n",
       "      <td>NaN</td>\n",
       "      <td>1822</td>\n",
       "      <td>1544529</td>\n",
       "      <td>NaN</td>\n",
       "    </tr>\n",
       "  </tbody>\n",
       "</table>\n",
       "</div>"
      ]
     },
     "metadata": {},
     "execution_count": 9
    }
   ],
   "metadata": {}
  },
  {
   "cell_type": "markdown",
   "source": [
    "### Existem registros com `ideDocumento` nulo?"
   ],
   "metadata": {
    "id": "3LhB4RCUVMm7"
   }
  },
  {
   "cell_type": "code",
   "execution_count": 15,
   "source": [
    "# df_ano_2018.info()\r\n",
    "filtro = df_ano_2018.ideDocumento.isna()\r\n",
    "df_ano_2018[filtro]"
   ],
   "outputs": [
    {
     "output_type": "execute_result",
     "data": {
      "text/plain": [
       "Empty DataFrame\n",
       "Columns: [txNomeParlamentar, cpf, ideCadastro, nuCarteiraParlamentar, nuLegislatura, sgUF, sgPartido, codLegislatura, numSubCota, txtDescricao, numEspecificacaoSubCota, txtDescricaoEspecificacao, txtFornecedor, txtCNPJCPF, txtNumero, indTipoDocumento, datEmissao, vlrDocumento, vlrGlosa, vlrLiquido, numMes, numAno, numParcela, txtPassageiro, txtTrecho, numLote, numRessarcimento, vlrRestituicao, nuDeputadoId, ideDocumento, urlDocumento]\n",
       "Index: []"
      ],
      "text/html": [
       "<div>\n",
       "<style scoped>\n",
       "    .dataframe tbody tr th:only-of-type {\n",
       "        vertical-align: middle;\n",
       "    }\n",
       "\n",
       "    .dataframe tbody tr th {\n",
       "        vertical-align: top;\n",
       "    }\n",
       "\n",
       "    .dataframe thead th {\n",
       "        text-align: right;\n",
       "    }\n",
       "</style>\n",
       "<table border=\"1\" class=\"dataframe\">\n",
       "  <thead>\n",
       "    <tr style=\"text-align: right;\">\n",
       "      <th></th>\n",
       "      <th>txNomeParlamentar</th>\n",
       "      <th>cpf</th>\n",
       "      <th>ideCadastro</th>\n",
       "      <th>nuCarteiraParlamentar</th>\n",
       "      <th>nuLegislatura</th>\n",
       "      <th>sgUF</th>\n",
       "      <th>sgPartido</th>\n",
       "      <th>codLegislatura</th>\n",
       "      <th>numSubCota</th>\n",
       "      <th>txtDescricao</th>\n",
       "      <th>numEspecificacaoSubCota</th>\n",
       "      <th>txtDescricaoEspecificacao</th>\n",
       "      <th>txtFornecedor</th>\n",
       "      <th>txtCNPJCPF</th>\n",
       "      <th>txtNumero</th>\n",
       "      <th>indTipoDocumento</th>\n",
       "      <th>datEmissao</th>\n",
       "      <th>vlrDocumento</th>\n",
       "      <th>vlrGlosa</th>\n",
       "      <th>vlrLiquido</th>\n",
       "      <th>numMes</th>\n",
       "      <th>numAno</th>\n",
       "      <th>numParcela</th>\n",
       "      <th>txtPassageiro</th>\n",
       "      <th>txtTrecho</th>\n",
       "      <th>numLote</th>\n",
       "      <th>numRessarcimento</th>\n",
       "      <th>vlrRestituicao</th>\n",
       "      <th>nuDeputadoId</th>\n",
       "      <th>ideDocumento</th>\n",
       "      <th>urlDocumento</th>\n",
       "    </tr>\n",
       "  </thead>\n",
       "  <tbody>\n",
       "  </tbody>\n",
       "</table>\n",
       "</div>"
      ]
     },
     "metadata": {},
     "execution_count": 15
    }
   ],
   "metadata": {}
  },
  {
   "cell_type": "markdown",
   "source": [
    "### Converta a coluna `datEmissao` para `datetime`, e descubra quantos reembolsos aconteram no primeiro semestre"
   ],
   "metadata": {}
  },
  {
   "cell_type": "code",
   "execution_count": 16,
   "source": [
    "df_ano_2018[\"datEmissao\"] = pd.to_datetime(\r\n",
    "    df_ano_2018.datEmissao,\r\n",
    "    format=\"%Y-%m-%d\"\r\n",
    ")"
   ],
   "outputs": [],
   "metadata": {}
  },
  {
   "cell_type": "code",
   "execution_count": 17,
   "source": [
    "df_ano_2018.head(1)"
   ],
   "outputs": [
    {
     "output_type": "execute_result",
     "data": {
      "text/plain": [
       "  txNomeParlamentar  cpf ideCadastro nuCarteiraParlamentar nuLegislatura sgUF  \\\n",
       "0        LID.GOV-CD  NaN         NaN                   NaN          2015  NaN   \n",
       "\n",
       "  sgPartido codLegislatura numSubCota  \\\n",
       "0       NaN             55         13   \n",
       "\n",
       "                                 txtDescricao numEspecificacaoSubCota  \\\n",
       "0  FORNECIMENTO DE ALIMENTAÇÃO DO PARLAMENTAR                       0   \n",
       "\n",
       "  txtDescricaoEspecificacao                     txtFornecedor  \\\n",
       "0                       NaN  BISCOITOS CASEIROS HOMONNAI LTDA   \n",
       "\n",
       "           txtCNPJCPF txtNumero indTipoDocumento datEmissao  vlrDocumento  \\\n",
       "0  046.448.200/0017-7     10473                4 2018-12-20        454.41   \n",
       "\n",
       "  vlrGlosa  vlrLiquido numMes numAno numParcela txtPassageiro txtTrecho  \\\n",
       "0        0      454.41     12   2018          0           NaN       NaN   \n",
       "\n",
       "   numLote numRessarcimento  vlrRestituicao nuDeputadoId ideDocumento  \\\n",
       "0  1550817              NaN             NaN         2812      6728796   \n",
       "\n",
       "                                        urlDocumento  \n",
       "0  http://camara.leg.br/cota-parlamentar/nota-fis...  "
      ],
      "text/html": [
       "<div>\n",
       "<style scoped>\n",
       "    .dataframe tbody tr th:only-of-type {\n",
       "        vertical-align: middle;\n",
       "    }\n",
       "\n",
       "    .dataframe tbody tr th {\n",
       "        vertical-align: top;\n",
       "    }\n",
       "\n",
       "    .dataframe thead th {\n",
       "        text-align: right;\n",
       "    }\n",
       "</style>\n",
       "<table border=\"1\" class=\"dataframe\">\n",
       "  <thead>\n",
       "    <tr style=\"text-align: right;\">\n",
       "      <th></th>\n",
       "      <th>txNomeParlamentar</th>\n",
       "      <th>cpf</th>\n",
       "      <th>ideCadastro</th>\n",
       "      <th>nuCarteiraParlamentar</th>\n",
       "      <th>nuLegislatura</th>\n",
       "      <th>sgUF</th>\n",
       "      <th>sgPartido</th>\n",
       "      <th>codLegislatura</th>\n",
       "      <th>numSubCota</th>\n",
       "      <th>txtDescricao</th>\n",
       "      <th>numEspecificacaoSubCota</th>\n",
       "      <th>txtDescricaoEspecificacao</th>\n",
       "      <th>txtFornecedor</th>\n",
       "      <th>txtCNPJCPF</th>\n",
       "      <th>txtNumero</th>\n",
       "      <th>indTipoDocumento</th>\n",
       "      <th>datEmissao</th>\n",
       "      <th>vlrDocumento</th>\n",
       "      <th>vlrGlosa</th>\n",
       "      <th>vlrLiquido</th>\n",
       "      <th>numMes</th>\n",
       "      <th>numAno</th>\n",
       "      <th>numParcela</th>\n",
       "      <th>txtPassageiro</th>\n",
       "      <th>txtTrecho</th>\n",
       "      <th>numLote</th>\n",
       "      <th>numRessarcimento</th>\n",
       "      <th>vlrRestituicao</th>\n",
       "      <th>nuDeputadoId</th>\n",
       "      <th>ideDocumento</th>\n",
       "      <th>urlDocumento</th>\n",
       "    </tr>\n",
       "  </thead>\n",
       "  <tbody>\n",
       "    <tr>\n",
       "      <th>0</th>\n",
       "      <td>LID.GOV-CD</td>\n",
       "      <td>NaN</td>\n",
       "      <td>NaN</td>\n",
       "      <td>NaN</td>\n",
       "      <td>2015</td>\n",
       "      <td>NaN</td>\n",
       "      <td>NaN</td>\n",
       "      <td>55</td>\n",
       "      <td>13</td>\n",
       "      <td>FORNECIMENTO DE ALIMENTAÇÃO DO PARLAMENTAR</td>\n",
       "      <td>0</td>\n",
       "      <td>NaN</td>\n",
       "      <td>BISCOITOS CASEIROS HOMONNAI LTDA</td>\n",
       "      <td>046.448.200/0017-7</td>\n",
       "      <td>10473</td>\n",
       "      <td>4</td>\n",
       "      <td>2018-12-20</td>\n",
       "      <td>454.41</td>\n",
       "      <td>0</td>\n",
       "      <td>454.41</td>\n",
       "      <td>12</td>\n",
       "      <td>2018</td>\n",
       "      <td>0</td>\n",
       "      <td>NaN</td>\n",
       "      <td>NaN</td>\n",
       "      <td>1550817</td>\n",
       "      <td>NaN</td>\n",
       "      <td>NaN</td>\n",
       "      <td>2812</td>\n",
       "      <td>6728796</td>\n",
       "      <td>http://camara.leg.br/cota-parlamentar/nota-fis...</td>\n",
       "    </tr>\n",
       "  </tbody>\n",
       "</table>\n",
       "</div>"
      ]
     },
     "metadata": {},
     "execution_count": 17
    }
   ],
   "metadata": {}
  },
  {
   "cell_type": "code",
   "execution_count": 23,
   "source": [
    "# df_ano_2018.set_index(\"datEmissao\").loc[\"2018-01-01\":\"2018-04-30\"]\r\n",
    "df_ano_2018[\"datEmissao\"].dt.dayofweek >= 5"
   ],
   "outputs": [
    {
     "output_type": "execute_result",
     "data": {
      "text/plain": [
       "0         False\n",
       "1         False\n",
       "2         False\n",
       "3         False\n",
       "4         False\n",
       "          ...  \n",
       "292627    False\n",
       "292628    False\n",
       "292629    False\n",
       "292630    False\n",
       "292631    False\n",
       "Name: datEmissao, Length: 292632, dtype: bool"
      ]
     },
     "metadata": {},
     "execution_count": 23
    }
   ],
   "metadata": {}
  },
  {
   "cell_type": "code",
   "execution_count": 26,
   "source": [
    "df_ano_2018 = df_ano_2018.fillna(value='Não se aplica')"
   ],
   "outputs": [],
   "metadata": {}
  },
  {
   "cell_type": "code",
   "execution_count": 27,
   "source": [
    "df_ano_2018.head(1)"
   ],
   "outputs": [
    {
     "output_type": "execute_result",
     "data": {
      "text/plain": [
       "  txNomeParlamentar            cpf    ideCadastro nuCarteiraParlamentar  \\\n",
       "0        LID.GOV-CD  Não se aplica  Não se aplica         Não se aplica   \n",
       "\n",
       "  nuLegislatura           sgUF      sgPartido codLegislatura numSubCota  \\\n",
       "0          2015  Não se aplica  Não se aplica             55         13   \n",
       "\n",
       "                                 txtDescricao numEspecificacaoSubCota  \\\n",
       "0  FORNECIMENTO DE ALIMENTAÇÃO DO PARLAMENTAR                       0   \n",
       "\n",
       "  txtDescricaoEspecificacao                     txtFornecedor  \\\n",
       "0             Não se aplica  BISCOITOS CASEIROS HOMONNAI LTDA   \n",
       "\n",
       "           txtCNPJCPF txtNumero indTipoDocumento           datEmissao  \\\n",
       "0  046.448.200/0017-7     10473                4  2018-12-20 00:00:00   \n",
       "\n",
       "   vlrDocumento vlrGlosa  vlrLiquido numMes numAno numParcela  txtPassageiro  \\\n",
       "0        454.41        0      454.41     12   2018          0  Não se aplica   \n",
       "\n",
       "       txtTrecho  numLote numRessarcimento vlrRestituicao nuDeputadoId  \\\n",
       "0  Não se aplica  1550817    Não se aplica  Não se aplica         2812   \n",
       "\n",
       "  ideDocumento                                       urlDocumento  \n",
       "0      6728796  http://camara.leg.br/cota-parlamentar/nota-fis...  "
      ],
      "text/html": [
       "<div>\n",
       "<style scoped>\n",
       "    .dataframe tbody tr th:only-of-type {\n",
       "        vertical-align: middle;\n",
       "    }\n",
       "\n",
       "    .dataframe tbody tr th {\n",
       "        vertical-align: top;\n",
       "    }\n",
       "\n",
       "    .dataframe thead th {\n",
       "        text-align: right;\n",
       "    }\n",
       "</style>\n",
       "<table border=\"1\" class=\"dataframe\">\n",
       "  <thead>\n",
       "    <tr style=\"text-align: right;\">\n",
       "      <th></th>\n",
       "      <th>txNomeParlamentar</th>\n",
       "      <th>cpf</th>\n",
       "      <th>ideCadastro</th>\n",
       "      <th>nuCarteiraParlamentar</th>\n",
       "      <th>nuLegislatura</th>\n",
       "      <th>sgUF</th>\n",
       "      <th>sgPartido</th>\n",
       "      <th>codLegislatura</th>\n",
       "      <th>numSubCota</th>\n",
       "      <th>txtDescricao</th>\n",
       "      <th>numEspecificacaoSubCota</th>\n",
       "      <th>txtDescricaoEspecificacao</th>\n",
       "      <th>txtFornecedor</th>\n",
       "      <th>txtCNPJCPF</th>\n",
       "      <th>txtNumero</th>\n",
       "      <th>indTipoDocumento</th>\n",
       "      <th>datEmissao</th>\n",
       "      <th>vlrDocumento</th>\n",
       "      <th>vlrGlosa</th>\n",
       "      <th>vlrLiquido</th>\n",
       "      <th>numMes</th>\n",
       "      <th>numAno</th>\n",
       "      <th>numParcela</th>\n",
       "      <th>txtPassageiro</th>\n",
       "      <th>txtTrecho</th>\n",
       "      <th>numLote</th>\n",
       "      <th>numRessarcimento</th>\n",
       "      <th>vlrRestituicao</th>\n",
       "      <th>nuDeputadoId</th>\n",
       "      <th>ideDocumento</th>\n",
       "      <th>urlDocumento</th>\n",
       "    </tr>\n",
       "  </thead>\n",
       "  <tbody>\n",
       "    <tr>\n",
       "      <th>0</th>\n",
       "      <td>LID.GOV-CD</td>\n",
       "      <td>Não se aplica</td>\n",
       "      <td>Não se aplica</td>\n",
       "      <td>Não se aplica</td>\n",
       "      <td>2015</td>\n",
       "      <td>Não se aplica</td>\n",
       "      <td>Não se aplica</td>\n",
       "      <td>55</td>\n",
       "      <td>13</td>\n",
       "      <td>FORNECIMENTO DE ALIMENTAÇÃO DO PARLAMENTAR</td>\n",
       "      <td>0</td>\n",
       "      <td>Não se aplica</td>\n",
       "      <td>BISCOITOS CASEIROS HOMONNAI LTDA</td>\n",
       "      <td>046.448.200/0017-7</td>\n",
       "      <td>10473</td>\n",
       "      <td>4</td>\n",
       "      <td>2018-12-20 00:00:00</td>\n",
       "      <td>454.41</td>\n",
       "      <td>0</td>\n",
       "      <td>454.41</td>\n",
       "      <td>12</td>\n",
       "      <td>2018</td>\n",
       "      <td>0</td>\n",
       "      <td>Não se aplica</td>\n",
       "      <td>Não se aplica</td>\n",
       "      <td>1550817</td>\n",
       "      <td>Não se aplica</td>\n",
       "      <td>Não se aplica</td>\n",
       "      <td>2812</td>\n",
       "      <td>6728796</td>\n",
       "      <td>http://camara.leg.br/cota-parlamentar/nota-fis...</td>\n",
       "    </tr>\n",
       "  </tbody>\n",
       "</table>\n",
       "</div>"
      ]
     },
     "metadata": {},
     "execution_count": 27
    }
   ],
   "metadata": {}
  },
  {
   "cell_type": "markdown",
   "source": [
    "### Limpe a coluna `txtCNPJCPF`: ela deve conter somente dígitos numéricos"
   ],
   "metadata": {}
  },
  {
   "cell_type": "code",
   "execution_count": 28,
   "source": [
    "# vamos trocar qualquer caracter que não seja um dígito número por '', essa operação remove os dígitos\r\n",
    "df_ano_2018[\"txtCNPJCPF\"] = df_ano_2018[\"txtCNPJCPF\"].str.replace(r'\\D', '', regex=True)\r\n",
    "\r\n",
    "df_ano_2018.txtCNPJCPF"
   ],
   "outputs": [
    {
     "output_type": "execute_result",
     "data": {
      "text/plain": [
       "0         04644820000177\n",
       "1         10638597000158\n",
       "2         24882567000105\n",
       "3         24882567000105\n",
       "4         03713903000108\n",
       "               ...      \n",
       "292627    00000000000006\n",
       "292628    00982933000121\n",
       "292629    27402097000115\n",
       "292630    02214932000162\n",
       "292631    02012862000160\n",
       "Name: txtCNPJCPF, Length: 292632, dtype: object"
      ]
     },
     "metadata": {},
     "execution_count": 28
    }
   ],
   "metadata": {}
  },
  {
   "cell_type": "markdown",
   "source": [
    "### Quais são os valores únicos do campo `indTipoDocumento`? Substitua o conteúdo pela respectiva legenda\n",
    "\n",
    "*Dica*: 0 (Zero), para Nota Fiscal; 1 (um), para Recibo; e 2, para Despesa no Exterior."
   ],
   "metadata": {}
  },
  {
   "cell_type": "code",
   "execution_count": 29,
   "source": [
    "df_ano_2018.indTipoDocumento.unique()\r\n"
   ],
   "outputs": [
    {
     "output_type": "execute_result",
     "data": {
      "text/plain": [
       "array(['4', '0', '1', '2', '3'], dtype=object)"
      ]
     },
     "metadata": {},
     "execution_count": 29
    }
   ],
   "metadata": {}
  },
  {
   "cell_type": "code",
   "execution_count": null,
   "source": [],
   "outputs": [],
   "metadata": {}
  },
  {
   "cell_type": "code",
   "execution_count": 79,
   "source": [
    "df_ano_2018.indTipoDocumento.value_counts()\r\n"
   ],
   "outputs": [
    {
     "output_type": "execute_result",
     "data": {
      "text/plain": [
       "0    177181\n",
       "4     63975\n",
       "1     51313\n",
       "3       130\n",
       "2        33\n",
       "Name: indTipoDocumento, dtype: int64"
      ]
     },
     "metadata": {},
     "execution_count": 79
    }
   ],
   "metadata": {}
  },
  {
   "cell_type": "code",
   "execution_count": 36,
   "source": [
    "df_ano_2018.txtDescricao.value_counts(normalize=True).sort_values(ascending=False).to_frame().head()"
   ],
   "outputs": [
    {
     "output_type": "execute_result",
     "data": {
      "text/plain": [
       "                                                    txtDescricao\n",
       "PASSAGEM AÉREA - RPA                                    0.315157\n",
       "COMBUSTÍVEIS E LUBRIFICANTES.                           0.211399\n",
       "TELEFONIA                                               0.105358\n",
       "SERVIÇO DE TÁXI, PEDÁGIO E ESTACIONAMENTO               0.081228\n",
       "MANUTENÇÃO DE ESCRITÓRIO DE APOIO À ATIVIDADE P...      0.073492"
      ],
      "text/html": [
       "<div>\n",
       "<style scoped>\n",
       "    .dataframe tbody tr th:only-of-type {\n",
       "        vertical-align: middle;\n",
       "    }\n",
       "\n",
       "    .dataframe tbody tr th {\n",
       "        vertical-align: top;\n",
       "    }\n",
       "\n",
       "    .dataframe thead th {\n",
       "        text-align: right;\n",
       "    }\n",
       "</style>\n",
       "<table border=\"1\" class=\"dataframe\">\n",
       "  <thead>\n",
       "    <tr style=\"text-align: right;\">\n",
       "      <th></th>\n",
       "      <th>txtDescricao</th>\n",
       "    </tr>\n",
       "  </thead>\n",
       "  <tbody>\n",
       "    <tr>\n",
       "      <th>PASSAGEM AÉREA - RPA</th>\n",
       "      <td>0.315157</td>\n",
       "    </tr>\n",
       "    <tr>\n",
       "      <th>COMBUSTÍVEIS E LUBRIFICANTES.</th>\n",
       "      <td>0.211399</td>\n",
       "    </tr>\n",
       "    <tr>\n",
       "      <th>TELEFONIA</th>\n",
       "      <td>0.105358</td>\n",
       "    </tr>\n",
       "    <tr>\n",
       "      <th>SERVIÇO DE TÁXI, PEDÁGIO E ESTACIONAMENTO</th>\n",
       "      <td>0.081228</td>\n",
       "    </tr>\n",
       "    <tr>\n",
       "      <th>MANUTENÇÃO DE ESCRITÓRIO DE APOIO À ATIVIDADE PARLAMENTAR</th>\n",
       "      <td>0.073492</td>\n",
       "    </tr>\n",
       "  </tbody>\n",
       "</table>\n",
       "</div>"
      ]
     },
     "metadata": {},
     "execution_count": 36
    }
   ],
   "metadata": {}
  },
  {
   "cell_type": "code",
   "execution_count": 42,
   "source": [
    "df_ano_2018.vlrLiquido.describe()"
   ],
   "outputs": [
    {
     "output_type": "execute_result",
     "data": {
      "text/plain": [
       "count    292632.000000\n",
       "mean        736.164516\n",
       "std        2481.479508\n",
       "min       -4906.000000\n",
       "25%          50.000000\n",
       "50%         192.450000\n",
       "75%         671.730000\n",
       "max      130000.000000\n",
       "Name: vlrLiquido, dtype: float64"
      ]
     },
     "metadata": {},
     "execution_count": 42
    }
   ],
   "metadata": {}
  },
  {
   "cell_type": "code",
   "execution_count": 44,
   "source": [
    "filtro_valor_max = df_ano_2018.vlrLiquido == df_ano_2018.vlrLiquido.max()\r\n",
    "\r\n",
    "df_ano_2018[filtro_valor_max]"
   ],
   "outputs": [
    {
     "output_type": "execute_result",
     "data": {
      "text/plain": [
       "      txNomeParlamentar          cpf ideCadastro nuCarteiraParlamentar  \\\n",
       "67059  GIVALDO CARIMBÃO  10270060510       74558                   166   \n",
       "\n",
       "      nuLegislatura sgUF      sgPartido codLegislatura numSubCota  \\\n",
       "67059          2015   AL  Não se aplica             55          5   \n",
       "\n",
       "                               txtDescricao numEspecificacaoSubCota  \\\n",
       "67059  DIVULGAÇÃO DA ATIVIDADE PARLAMENTAR.                       0   \n",
       "\n",
       "      txtDescricaoEspecificacao  \\\n",
       "67059             Não se aplica   \n",
       "\n",
       "                                       txtFornecedor      txtCNPJCPF  \\\n",
       "67059  GRAFMARQUES INDUSTRIA EDITORA E SERVICOS LTDA  00887925000104   \n",
       "\n",
       "      txtNumero indTipoDocumento           datEmissao  vlrDocumento vlrGlosa  \\\n",
       "67059      1645                4  2018-12-21 00:00:00      130000.0        0   \n",
       "\n",
       "       vlrLiquido numMes numAno numParcela  txtPassageiro      txtTrecho  \\\n",
       "67059    130000.0     12   2018          0  Não se aplica  Não se aplica   \n",
       "\n",
       "       numLote numRessarcimento vlrRestituicao nuDeputadoId ideDocumento  \\\n",
       "67059  1554078    Não se aplica  Não se aplica         1332      6737727   \n",
       "\n",
       "                                            urlDocumento  \n",
       "67059  http://camara.leg.br/cota-parlamentar/nota-fis...  "
      ],
      "text/html": [
       "<div>\n",
       "<style scoped>\n",
       "    .dataframe tbody tr th:only-of-type {\n",
       "        vertical-align: middle;\n",
       "    }\n",
       "\n",
       "    .dataframe tbody tr th {\n",
       "        vertical-align: top;\n",
       "    }\n",
       "\n",
       "    .dataframe thead th {\n",
       "        text-align: right;\n",
       "    }\n",
       "</style>\n",
       "<table border=\"1\" class=\"dataframe\">\n",
       "  <thead>\n",
       "    <tr style=\"text-align: right;\">\n",
       "      <th></th>\n",
       "      <th>txNomeParlamentar</th>\n",
       "      <th>cpf</th>\n",
       "      <th>ideCadastro</th>\n",
       "      <th>nuCarteiraParlamentar</th>\n",
       "      <th>nuLegislatura</th>\n",
       "      <th>sgUF</th>\n",
       "      <th>sgPartido</th>\n",
       "      <th>codLegislatura</th>\n",
       "      <th>numSubCota</th>\n",
       "      <th>txtDescricao</th>\n",
       "      <th>numEspecificacaoSubCota</th>\n",
       "      <th>txtDescricaoEspecificacao</th>\n",
       "      <th>txtFornecedor</th>\n",
       "      <th>txtCNPJCPF</th>\n",
       "      <th>txtNumero</th>\n",
       "      <th>indTipoDocumento</th>\n",
       "      <th>datEmissao</th>\n",
       "      <th>vlrDocumento</th>\n",
       "      <th>vlrGlosa</th>\n",
       "      <th>vlrLiquido</th>\n",
       "      <th>numMes</th>\n",
       "      <th>numAno</th>\n",
       "      <th>numParcela</th>\n",
       "      <th>txtPassageiro</th>\n",
       "      <th>txtTrecho</th>\n",
       "      <th>numLote</th>\n",
       "      <th>numRessarcimento</th>\n",
       "      <th>vlrRestituicao</th>\n",
       "      <th>nuDeputadoId</th>\n",
       "      <th>ideDocumento</th>\n",
       "      <th>urlDocumento</th>\n",
       "    </tr>\n",
       "  </thead>\n",
       "  <tbody>\n",
       "    <tr>\n",
       "      <th>67059</th>\n",
       "      <td>GIVALDO CARIMBÃO</td>\n",
       "      <td>10270060510</td>\n",
       "      <td>74558</td>\n",
       "      <td>166</td>\n",
       "      <td>2015</td>\n",
       "      <td>AL</td>\n",
       "      <td>Não se aplica</td>\n",
       "      <td>55</td>\n",
       "      <td>5</td>\n",
       "      <td>DIVULGAÇÃO DA ATIVIDADE PARLAMENTAR.</td>\n",
       "      <td>0</td>\n",
       "      <td>Não se aplica</td>\n",
       "      <td>GRAFMARQUES INDUSTRIA EDITORA E SERVICOS LTDA</td>\n",
       "      <td>00887925000104</td>\n",
       "      <td>1645</td>\n",
       "      <td>4</td>\n",
       "      <td>2018-12-21 00:00:00</td>\n",
       "      <td>130000.0</td>\n",
       "      <td>0</td>\n",
       "      <td>130000.0</td>\n",
       "      <td>12</td>\n",
       "      <td>2018</td>\n",
       "      <td>0</td>\n",
       "      <td>Não se aplica</td>\n",
       "      <td>Não se aplica</td>\n",
       "      <td>1554078</td>\n",
       "      <td>Não se aplica</td>\n",
       "      <td>Não se aplica</td>\n",
       "      <td>1332</td>\n",
       "      <td>6737727</td>\n",
       "      <td>http://camara.leg.br/cota-parlamentar/nota-fis...</td>\n",
       "    </tr>\n",
       "  </tbody>\n",
       "</table>\n",
       "</div>"
      ]
     },
     "metadata": {},
     "execution_count": 44
    }
   ],
   "metadata": {}
  },
  {
   "cell_type": "markdown",
   "source": [
    "Visualizar o gastos por partido "
   ],
   "metadata": {}
  },
  {
   "cell_type": "code",
   "execution_count": 61,
   "source": [
    "df_ano_2018.groupby(['sgPartido', 'sgUF', 'txNomeParlamentar'])['vlrLiquido'].sum().sort_values(ascending=False).to_frame()"
   ],
   "outputs": [
    {
     "output_type": "execute_result",
     "data": {
      "text/plain": [
       "                                                     vlrLiquido\n",
       "sgPartido     sgUF          txNomeParlamentar                  \n",
       "Não se aplica RR            Jhonatan de Jesus         561401.20\n",
       "                            REMÍDIO MONAI             549060.53\n",
       "              AC            Jéssica Sales             547381.07\n",
       "              SP            Arlindo Chinaglia         545289.58\n",
       "              RR            CARLOS ANDRADE            544175.67\n",
       "...                                                         ...\n",
       "              Não se aplica LIDERANÇA DO DEMOCRATAS    14707.35\n",
       "                            LID.GOV-CD                 12065.54\n",
       "                            LID.GOV-CN                  3682.12\n",
       "                            LIDERANÇA DO AVANTE         1781.02\n",
       "                            LIDERANÇA DO PHS             920.83\n",
       "\n",
       "[568 rows x 1 columns]"
      ],
      "text/html": [
       "<div>\n",
       "<style scoped>\n",
       "    .dataframe tbody tr th:only-of-type {\n",
       "        vertical-align: middle;\n",
       "    }\n",
       "\n",
       "    .dataframe tbody tr th {\n",
       "        vertical-align: top;\n",
       "    }\n",
       "\n",
       "    .dataframe thead th {\n",
       "        text-align: right;\n",
       "    }\n",
       "</style>\n",
       "<table border=\"1\" class=\"dataframe\">\n",
       "  <thead>\n",
       "    <tr style=\"text-align: right;\">\n",
       "      <th></th>\n",
       "      <th></th>\n",
       "      <th></th>\n",
       "      <th>vlrLiquido</th>\n",
       "    </tr>\n",
       "    <tr>\n",
       "      <th>sgPartido</th>\n",
       "      <th>sgUF</th>\n",
       "      <th>txNomeParlamentar</th>\n",
       "      <th></th>\n",
       "    </tr>\n",
       "  </thead>\n",
       "  <tbody>\n",
       "    <tr>\n",
       "      <th rowspan=\"11\" valign=\"top\">Não se aplica</th>\n",
       "      <th rowspan=\"2\" valign=\"top\">RR</th>\n",
       "      <th>Jhonatan de Jesus</th>\n",
       "      <td>561401.20</td>\n",
       "    </tr>\n",
       "    <tr>\n",
       "      <th>REMÍDIO MONAI</th>\n",
       "      <td>549060.53</td>\n",
       "    </tr>\n",
       "    <tr>\n",
       "      <th>AC</th>\n",
       "      <th>Jéssica Sales</th>\n",
       "      <td>547381.07</td>\n",
       "    </tr>\n",
       "    <tr>\n",
       "      <th>SP</th>\n",
       "      <th>Arlindo Chinaglia</th>\n",
       "      <td>545289.58</td>\n",
       "    </tr>\n",
       "    <tr>\n",
       "      <th>RR</th>\n",
       "      <th>CARLOS ANDRADE</th>\n",
       "      <td>544175.67</td>\n",
       "    </tr>\n",
       "    <tr>\n",
       "      <th>...</th>\n",
       "      <th>...</th>\n",
       "      <td>...</td>\n",
       "    </tr>\n",
       "    <tr>\n",
       "      <th rowspan=\"5\" valign=\"top\">Não se aplica</th>\n",
       "      <th>LIDERANÇA DO DEMOCRATAS</th>\n",
       "      <td>14707.35</td>\n",
       "    </tr>\n",
       "    <tr>\n",
       "      <th>LID.GOV-CD</th>\n",
       "      <td>12065.54</td>\n",
       "    </tr>\n",
       "    <tr>\n",
       "      <th>LID.GOV-CN</th>\n",
       "      <td>3682.12</td>\n",
       "    </tr>\n",
       "    <tr>\n",
       "      <th>LIDERANÇA DO AVANTE</th>\n",
       "      <td>1781.02</td>\n",
       "    </tr>\n",
       "    <tr>\n",
       "      <th>LIDERANÇA DO PHS</th>\n",
       "      <td>920.83</td>\n",
       "    </tr>\n",
       "  </tbody>\n",
       "</table>\n",
       "<p>568 rows × 1 columns</p>\n",
       "</div>"
      ]
     },
     "metadata": {},
     "execution_count": 61
    }
   ],
   "metadata": {}
  },
  {
   "cell_type": "code",
   "execution_count": 66,
   "source": [
    "pd.options.display.float_format = '{:,.2f}'.format\r\n",
    "\r\n",
    "df_ano_2018.groupby(['txtCNPJCPF', 'txtFornecedor'])['vlrLiquido'].sum().sort_values(ascending=False).to_frame()[:10]"
   ],
   "outputs": [
    {
     "output_type": "execute_result",
     "data": {
      "text/plain": [
       "                                                                     vlrLiquido\n",
       "txtCNPJCPF     txtFornecedor                                                   \n",
       "07575651000159 Cia Aérea - GOL                                    21,161,930.40\n",
       "02012862000160 Cia Aérea - TAM                                    19,199,593.85\n",
       "09296295000160 Cia Aérea - AZUL                                    6,705,916.83\n",
       "02575829000148 Cia Aérea - AVIANCA                                 5,684,992.80\n",
       "00000000000001 CELULAR FUNCIONAL                                   1,468,850.29\n",
       "02558157000162 TELEFONICA BRASIL S.A.                              1,217,088.87\n",
       "05443449000148 VERTICE - SOCIEDADE CIVIL DE PROFISSIONAIS ASSO...    987,100.00\n",
       "07976147002295 Movida Locação de Veículos LTDA                       776,340.61\n",
       "23721017000133 T2 COMUNICACAO, VIDEO E PRODUCOES EIRELI - EPP        698,933.34\n",
       "00000000000006 RAMAL                                                 673,995.71"
      ],
      "text/html": [
       "<div>\n",
       "<style scoped>\n",
       "    .dataframe tbody tr th:only-of-type {\n",
       "        vertical-align: middle;\n",
       "    }\n",
       "\n",
       "    .dataframe tbody tr th {\n",
       "        vertical-align: top;\n",
       "    }\n",
       "\n",
       "    .dataframe thead th {\n",
       "        text-align: right;\n",
       "    }\n",
       "</style>\n",
       "<table border=\"1\" class=\"dataframe\">\n",
       "  <thead>\n",
       "    <tr style=\"text-align: right;\">\n",
       "      <th></th>\n",
       "      <th></th>\n",
       "      <th>vlrLiquido</th>\n",
       "    </tr>\n",
       "    <tr>\n",
       "      <th>txtCNPJCPF</th>\n",
       "      <th>txtFornecedor</th>\n",
       "      <th></th>\n",
       "    </tr>\n",
       "  </thead>\n",
       "  <tbody>\n",
       "    <tr>\n",
       "      <th>07575651000159</th>\n",
       "      <th>Cia Aérea - GOL</th>\n",
       "      <td>21,161,930.40</td>\n",
       "    </tr>\n",
       "    <tr>\n",
       "      <th>02012862000160</th>\n",
       "      <th>Cia Aérea - TAM</th>\n",
       "      <td>19,199,593.85</td>\n",
       "    </tr>\n",
       "    <tr>\n",
       "      <th>09296295000160</th>\n",
       "      <th>Cia Aérea - AZUL</th>\n",
       "      <td>6,705,916.83</td>\n",
       "    </tr>\n",
       "    <tr>\n",
       "      <th>02575829000148</th>\n",
       "      <th>Cia Aérea - AVIANCA</th>\n",
       "      <td>5,684,992.80</td>\n",
       "    </tr>\n",
       "    <tr>\n",
       "      <th>00000000000001</th>\n",
       "      <th>CELULAR FUNCIONAL</th>\n",
       "      <td>1,468,850.29</td>\n",
       "    </tr>\n",
       "    <tr>\n",
       "      <th>02558157000162</th>\n",
       "      <th>TELEFONICA BRASIL S.A.</th>\n",
       "      <td>1,217,088.87</td>\n",
       "    </tr>\n",
       "    <tr>\n",
       "      <th>05443449000148</th>\n",
       "      <th>VERTICE - SOCIEDADE CIVIL DE PROFISSIONAIS ASSOCIADOS</th>\n",
       "      <td>987,100.00</td>\n",
       "    </tr>\n",
       "    <tr>\n",
       "      <th>07976147002295</th>\n",
       "      <th>Movida Locação de Veículos LTDA</th>\n",
       "      <td>776,340.61</td>\n",
       "    </tr>\n",
       "    <tr>\n",
       "      <th>23721017000133</th>\n",
       "      <th>T2 COMUNICACAO, VIDEO E PRODUCOES EIRELI - EPP</th>\n",
       "      <td>698,933.34</td>\n",
       "    </tr>\n",
       "    <tr>\n",
       "      <th>00000000000006</th>\n",
       "      <th>RAMAL</th>\n",
       "      <td>673,995.71</td>\n",
       "    </tr>\n",
       "  </tbody>\n",
       "</table>\n",
       "</div>"
      ]
     },
     "metadata": {},
     "execution_count": 66
    }
   ],
   "metadata": {}
  },
  {
   "cell_type": "code",
   "execution_count": null,
   "source": [],
   "outputs": [],
   "metadata": {}
  }
 ],
 "metadata": {
  "kernelspec": {
   "name": "python3",
   "display_name": "Python 3.9.6 64-bit ('env': venv)"
  },
  "language_info": {
   "codemirror_mode": {
    "name": "ipython",
    "version": 3
   },
   "file_extension": ".py",
   "mimetype": "text/x-python",
   "name": "python",
   "nbconvert_exporter": "python",
   "pygments_lexer": "ipython3",
   "version": "3.9.6"
  },
  "toc": {
   "base_numbering": 1,
   "nav_menu": {},
   "number_sections": true,
   "sideBar": true,
   "skip_h1_title": false,
   "title_cell": "Table of Contents",
   "title_sidebar": "Contents",
   "toc_cell": false,
   "toc_position": {
    "height": "calc(100% - 180px)",
    "left": "10px",
    "top": "150px",
    "width": "165px"
   },
   "toc_section_display": true,
   "toc_window_display": true
  },
  "interpreter": {
   "hash": "95df4e442b989bf68ede8b6e02f112c5839e987b4fd221f59869a058c84f7837"
  }
 },
 "nbformat": 4,
 "nbformat_minor": 5
}
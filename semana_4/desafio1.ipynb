{
  "nbformat": 4,
  "nbformat_minor": 5,
  "metadata": {
    "kernelspec": {
      "name": "python3",
      "display_name": "Python 3.9.6 64-bit ('env': venv)"
    },
    "language_info": {
      "codemirror_mode": {
        "name": "ipython",
        "version": 3
      },
      "file_extension": ".py",
      "mimetype": "text/x-python",
      "name": "python",
      "nbconvert_exporter": "python",
      "pygments_lexer": "ipython3",
      "version": "3.9.6"
    },
    "colab": {
      "name": "desafio1.ipynb",
      "provenance": []
    },
    "interpreter": {
      "hash": "95df4e442b989bf68ede8b6e02f112c5839e987b4fd221f59869a058c84f7837"
    }
  },
  "cells": [
    {
      "cell_type": "markdown",
      "source": [
        "### Leia o arquivo dos dados da Receita Federal e cruze eles com os dados da CEAP"
      ],
      "metadata": {
        "id": "d5a29734"
      }
    },
    {
      "cell_type": "code",
      "execution_count": null,
      "source": [
        "#run script.py"
      ],
      "outputs": [],
      "metadata": {
        "id": "44e86205"
      }
    },
    {
      "cell_type": "markdown",
      "source": [
        "### Some o total da coluna `vlrLiquido` agrupando por `txtCNPJCPF` e `txtFornecedor` "
      ],
      "metadata": {
        "id": "8d638f74"
      }
    },
    {
      "cell_type": "code",
      "execution_count": null,
      "source": [],
      "outputs": [],
      "metadata": {
        "id": "8517c3e0"
      }
    },
    {
      "cell_type": "markdown",
      "source": [
        "### Ordene os dados da consulta anterior de forma decrescente"
      ],
      "metadata": {
        "id": "722d01d0"
      }
    },
    {
      "cell_type": "code",
      "execution_count": null,
      "source": [],
      "outputs": [],
      "metadata": {
        "id": "c154660e"
      }
    },
    {
      "cell_type": "markdown",
      "source": [
        "### Consulte se houveram gastos reembolsados associados a empresas que na época estavam com status `08`\n",
        "\n",
        "\n",
        "status == 8 significa `BAIXADA` (*a empresa foi extinta, seja por solicitação dos sócios ou por ação da Receita*)"
      ],
      "metadata": {
        "id": "12fc64d4"
      }
    },
    {
      "cell_type": "code",
      "execution_count": null,
      "source": [],
      "outputs": [],
      "metadata": {
        "id": "ec3b6710"
      }
    },
    {
      "cell_type": "markdown",
      "source": [
        "### Desafio extra\n",
        "\n",
        "Esse desafio traz algumas ideias de análises. Fique a vontade para tentar encontrar essas respostas :)\n",
        "\n",
        "- Qual o total gasto nos finais de semana?\n",
        "\n",
        "- Agrupando por parlamentar e filtrando por finais de semana, qual o parlamentar que mais gastou em um final de semana?\n",
        "\n",
        "- Tente filtrar os reembolsos envolvendo alimentação, agrupar por fornecedor, e verificar os fornecedores mais frequentados. Poderíamos analisar se existiram gastos com alto desvio padrão considerando os reembolsos de um restaurante em específico. Se você tem o grupo de gastos feitos em um local X, é possível encontrar a média de gasto feito por deputados nesse local X, e de repente encontrar qual teve um gasto muito acima desse valor. \n",
        "\n",
        "- Podemos tentar encontrar se houve parlamentar que teve alta frequência de reembolsos associados a empresas que já estavam com status `Baixada`."
      ],
      "metadata": {
        "id": "a9f6370a"
      }
    }
  ]
}
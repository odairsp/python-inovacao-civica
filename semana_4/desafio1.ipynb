{
  "nbformat": 4,
  "nbformat_minor": 5,
  "metadata": {
    "kernelspec": {
      "name": "python3",
      "display_name": "Python 3.9.6 64-bit ('env': venv)"
    },
    "language_info": {
      "codemirror_mode": {
        "name": "ipython",
        "version": 3
      },
      "file_extension": ".py",
      "mimetype": "text/x-python",
      "name": "python",
      "nbconvert_exporter": "python",
      "pygments_lexer": "ipython3",
      "version": "3.9.6"
    },
    "colab": {
      "name": "desafio1.ipynb",
      "provenance": []
    },
    "interpreter": {
      "hash": "95df4e442b989bf68ede8b6e02f112c5839e987b4fd221f59869a058c84f7837"
    }
  },
  "cells": [
    {
      "cell_type": "markdown",
      "source": [
        "### Leia o arquivo dos dados da Receita Federal e cruze eles com os dados da CEAP"
      ],
      "metadata": {
        "id": "d5a29734"
      }
    },
    {
      "cell_type": "code",
      "execution_count": 1,
      "source": [
        "run script.py"
      ],
      "outputs": [
        {
          "output_type": "stream",
          "name": "stdout",
          "text": [
            "lendo csv reembolso...\n",
            "converte to_datetime...\n",
            "lendo csv empresas...\n"
          ]
        }
      ],
      "metadata": {
        "id": "44e86205"
      }
    },
    {
      "cell_type": "markdown",
      "source": [
        "### Some o total da coluna `vlrLiquido` agrupando por `txtCNPJCPF` e `txtFornecedor` "
      ],
      "metadata": {
        "id": "8d638f74"
      }
    },
    {
      "cell_type": "code",
      "execution_count": 51,
      "source": [
        "import pandas as pd\r\n",
        "pd.set_option('display.max_columns', None)\r\n",
        "DTYPE = {\r\n",
        "    \"txtCNPJCPF\" : str,\r\n",
        "    \"cpf\" : str\r\n",
        "}\r\n",
        "df_reembolso_comp = pd.read_csv('reembolso-2019-completo.csv', sep=',',dtype=DTYPE)\r\n",
        "\r\n",
        "#df_reembolso_comp.columns"
      ],
      "outputs": [],
      "metadata": {
        "id": "8517c3e0"
      }
    },
    {
      "cell_type": "code",
      "execution_count": 40,
      "source": [
        "df_reembolso_comp.groupby(['txtCNPJCPF', 'txtFornecedor'])['vlrLiquido'].sum().to_frame().head(20)"
      ],
      "outputs": [
        {
          "output_type": "execute_result",
          "data": {
            "text/plain": [
              "                                                                   vlrLiquido\n",
              "txtCNPJCPF     txtFornecedor                                                 \n",
              "00000000000000 GLOBAL LUXURY SUITES AT KENDALL WEST                   4771.51\n",
              "               PREFEITURA MUNICIPAL DE FORTALEZA                        78.00\n",
              "               sheraton montevieo                                      432.93\n",
              "00000000000001 CELULAR FUNCIONAL                                    872853.43\n",
              "00000000000002 LINHA DIRETA                                            437.45\n",
              "00000000000006 RAMAL                                                341725.06\n",
              "00000000000007 CORREIOS - (EM DESUSO) DOCUMENTO PRIORITÁRIO RE...       70.00\n",
              "               CORREIOS - (EM DESUSO) EMS DOCUMENTO COM AR             602.00\n",
              "               CORREIOS - (EM DESUSO) EMS MERCADORIA COM AR           1458.25\n",
              "               CORREIOS - CAIXA DE ENCOMENDAS BÁSICA/CONVENCIONAL     5784.69\n",
              "               CORREIOS - CARTA COMERCIAL                           347471.14\n",
              "               CORREIOS - CARTA REGISTRADA                           22612.05\n",
              "               CORREIOS - CARTA REGISTRADA COM AR                    45739.90\n",
              "               CORREIOS - DOCUMENTO INTERN. EXPRESSO (EMS DOCU...     2748.00\n",
              "               CORREIOS - DOCUMENTO INTERN. PREMIUM (SEDEX MUNDI)      146.80\n",
              "               CORREIOS - DOCUMENTO INTERN. STANDARD (PRIORITÁ...       85.45\n",
              "               CORREIOS - ENCOMENDA PAC                             320068.24\n",
              "               CORREIOS - ENCOMENDA PAC COM AR                       28886.70\n",
              "               CORREIOS - ENVELOPE BÁSICO/CONVENCIONAL - PLÁST...     1624.88\n",
              "               CORREIOS - EXPORTA FÁCIL EXPRESSO (EMS MERCADORIA)     3984.00"
            ],
            "text/html": [
              "<div>\n",
              "<style scoped>\n",
              "    .dataframe tbody tr th:only-of-type {\n",
              "        vertical-align: middle;\n",
              "    }\n",
              "\n",
              "    .dataframe tbody tr th {\n",
              "        vertical-align: top;\n",
              "    }\n",
              "\n",
              "    .dataframe thead th {\n",
              "        text-align: right;\n",
              "    }\n",
              "</style>\n",
              "<table border=\"1\" class=\"dataframe\">\n",
              "  <thead>\n",
              "    <tr style=\"text-align: right;\">\n",
              "      <th></th>\n",
              "      <th></th>\n",
              "      <th>vlrLiquido</th>\n",
              "    </tr>\n",
              "    <tr>\n",
              "      <th>txtCNPJCPF</th>\n",
              "      <th>txtFornecedor</th>\n",
              "      <th></th>\n",
              "    </tr>\n",
              "  </thead>\n",
              "  <tbody>\n",
              "    <tr>\n",
              "      <th rowspan=\"3\" valign=\"top\">00000000000000</th>\n",
              "      <th>GLOBAL LUXURY SUITES AT KENDALL WEST</th>\n",
              "      <td>4771.51</td>\n",
              "    </tr>\n",
              "    <tr>\n",
              "      <th>PREFEITURA MUNICIPAL DE FORTALEZA</th>\n",
              "      <td>78.00</td>\n",
              "    </tr>\n",
              "    <tr>\n",
              "      <th>sheraton montevieo</th>\n",
              "      <td>432.93</td>\n",
              "    </tr>\n",
              "    <tr>\n",
              "      <th>00000000000001</th>\n",
              "      <th>CELULAR FUNCIONAL</th>\n",
              "      <td>872853.43</td>\n",
              "    </tr>\n",
              "    <tr>\n",
              "      <th>00000000000002</th>\n",
              "      <th>LINHA DIRETA</th>\n",
              "      <td>437.45</td>\n",
              "    </tr>\n",
              "    <tr>\n",
              "      <th>00000000000006</th>\n",
              "      <th>RAMAL</th>\n",
              "      <td>341725.06</td>\n",
              "    </tr>\n",
              "    <tr>\n",
              "      <th rowspan=\"14\" valign=\"top\">00000000000007</th>\n",
              "      <th>CORREIOS - (EM DESUSO) DOCUMENTO PRIORITÁRIO REGISTRADO COM AR</th>\n",
              "      <td>70.00</td>\n",
              "    </tr>\n",
              "    <tr>\n",
              "      <th>CORREIOS - (EM DESUSO) EMS DOCUMENTO COM AR</th>\n",
              "      <td>602.00</td>\n",
              "    </tr>\n",
              "    <tr>\n",
              "      <th>CORREIOS - (EM DESUSO) EMS MERCADORIA COM AR</th>\n",
              "      <td>1458.25</td>\n",
              "    </tr>\n",
              "    <tr>\n",
              "      <th>CORREIOS - CAIXA DE ENCOMENDAS BÁSICA/CONVENCIONAL</th>\n",
              "      <td>5784.69</td>\n",
              "    </tr>\n",
              "    <tr>\n",
              "      <th>CORREIOS - CARTA COMERCIAL</th>\n",
              "      <td>347471.14</td>\n",
              "    </tr>\n",
              "    <tr>\n",
              "      <th>CORREIOS - CARTA REGISTRADA</th>\n",
              "      <td>22612.05</td>\n",
              "    </tr>\n",
              "    <tr>\n",
              "      <th>CORREIOS - CARTA REGISTRADA COM AR</th>\n",
              "      <td>45739.90</td>\n",
              "    </tr>\n",
              "    <tr>\n",
              "      <th>CORREIOS - DOCUMENTO INTERN. EXPRESSO (EMS DOCUMENTO)</th>\n",
              "      <td>2748.00</td>\n",
              "    </tr>\n",
              "    <tr>\n",
              "      <th>CORREIOS - DOCUMENTO INTERN. PREMIUM (SEDEX MUNDI)</th>\n",
              "      <td>146.80</td>\n",
              "    </tr>\n",
              "    <tr>\n",
              "      <th>CORREIOS - DOCUMENTO INTERN. STANDARD (PRIORITÁRIO REGISTRADO)</th>\n",
              "      <td>85.45</td>\n",
              "    </tr>\n",
              "    <tr>\n",
              "      <th>CORREIOS - ENCOMENDA PAC</th>\n",
              "      <td>320068.24</td>\n",
              "    </tr>\n",
              "    <tr>\n",
              "      <th>CORREIOS - ENCOMENDA PAC COM AR</th>\n",
              "      <td>28886.70</td>\n",
              "    </tr>\n",
              "    <tr>\n",
              "      <th>CORREIOS - ENVELOPE BÁSICO/CONVENCIONAL - PLÁSTICO/BOLHA</th>\n",
              "      <td>1624.88</td>\n",
              "    </tr>\n",
              "    <tr>\n",
              "      <th>CORREIOS - EXPORTA FÁCIL EXPRESSO (EMS MERCADORIA)</th>\n",
              "      <td>3984.00</td>\n",
              "    </tr>\n",
              "  </tbody>\n",
              "</table>\n",
              "</div>"
            ]
          },
          "metadata": {},
          "execution_count": 40
        }
      ],
      "metadata": {}
    },
    {
      "cell_type": "markdown",
      "source": [
        "### Ordene os dados da consulta anterior de forma decrescente"
      ],
      "metadata": {
        "id": "722d01d0"
      }
    },
    {
      "cell_type": "code",
      "execution_count": 41,
      "source": [
        "df_reembolso_comp.groupby(['txtCNPJCPF', 'txtFornecedor'])['vlrLiquido'].sum().sort_values(ascending=False).to_frame().head(20)\r\n"
      ],
      "outputs": [
        {
          "output_type": "execute_result",
          "data": {
            "text/plain": [
              "                                                                    vlrLiquido\n",
              "txtCNPJCPF     txtFornecedor                                                  \n",
              "02012862000160 Cia Aérea - TAM                                     49742251.64\n",
              "07575651000159 Cia Aérea - GOL                                     44019081.14\n",
              "09296295000160 Cia Aérea - AZUL                                    12881535.32\n",
              "07319323000191 PANTANAL VEÍCULOS LTDA                               4362549.04\n",
              "02012862000160 TAM LINHAS AEREAS S/A.                               2344253.56\n",
              "02575829000148 Cia Aérea - AVIANCA                                  2272357.30\n",
              "23721017000133 T2 COMUNICACAO, VIDEO E PRODUCOES EIRELI - EPP       2194668.00\n",
              "02558157000162 TELEFÔNICA BRASIL S.A. VIVO                          1721626.30\n",
              "05443449000148 VERTICE - SOCIEDADE CIVIL DE PROFISSIONAIS ASSO...   1419734.00\n",
              "07575651000159 GOL LINHAS AEREAS S.A.                               1236629.60\n",
              "28800786000140 GP COBERTURA JORNALISTICA LTDA ME                    1027000.00\n",
              "12132854000100 WMS COMERCIO DE ARTIGOS DE PAPELARIA LTDA-ME          910632.40\n",
              "00512777000135 Cia Aérea - PASSAREDO                                 910194.46\n",
              "08865615000192 WORKING ASSOCIACAO DE INTEGRACAO PROFISSIONAL         890400.00\n",
              "00000000000001 CELULAR FUNCIONAL                                     872853.43\n",
              "11630318000172 LINDERLANDIO BARBOSA ME                               811700.00\n",
              "02610235000120 DMD Gestão Administrativa LTDA - ME                   805000.00\n",
              "26735227000179 GOLD CAR BRASILIA LOCADORA DE VEICULOS ME             766486.73\n",
              "13347016000117 FACEBOOK SERVIÇOS ONLINE DO BRASIL LTDA               738266.54\n",
              "06164253000187 GOL LINHAS AEREAS INTELIGENTES S.A.                   713335.88"
            ],
            "text/html": [
              "<div>\n",
              "<style scoped>\n",
              "    .dataframe tbody tr th:only-of-type {\n",
              "        vertical-align: middle;\n",
              "    }\n",
              "\n",
              "    .dataframe tbody tr th {\n",
              "        vertical-align: top;\n",
              "    }\n",
              "\n",
              "    .dataframe thead th {\n",
              "        text-align: right;\n",
              "    }\n",
              "</style>\n",
              "<table border=\"1\" class=\"dataframe\">\n",
              "  <thead>\n",
              "    <tr style=\"text-align: right;\">\n",
              "      <th></th>\n",
              "      <th></th>\n",
              "      <th>vlrLiquido</th>\n",
              "    </tr>\n",
              "    <tr>\n",
              "      <th>txtCNPJCPF</th>\n",
              "      <th>txtFornecedor</th>\n",
              "      <th></th>\n",
              "    </tr>\n",
              "  </thead>\n",
              "  <tbody>\n",
              "    <tr>\n",
              "      <th>02012862000160</th>\n",
              "      <th>Cia Aérea - TAM</th>\n",
              "      <td>49742251.64</td>\n",
              "    </tr>\n",
              "    <tr>\n",
              "      <th>07575651000159</th>\n",
              "      <th>Cia Aérea - GOL</th>\n",
              "      <td>44019081.14</td>\n",
              "    </tr>\n",
              "    <tr>\n",
              "      <th>09296295000160</th>\n",
              "      <th>Cia Aérea - AZUL</th>\n",
              "      <td>12881535.32</td>\n",
              "    </tr>\n",
              "    <tr>\n",
              "      <th>07319323000191</th>\n",
              "      <th>PANTANAL VEÍCULOS LTDA</th>\n",
              "      <td>4362549.04</td>\n",
              "    </tr>\n",
              "    <tr>\n",
              "      <th>02012862000160</th>\n",
              "      <th>TAM LINHAS AEREAS S/A.</th>\n",
              "      <td>2344253.56</td>\n",
              "    </tr>\n",
              "    <tr>\n",
              "      <th>02575829000148</th>\n",
              "      <th>Cia Aérea - AVIANCA</th>\n",
              "      <td>2272357.30</td>\n",
              "    </tr>\n",
              "    <tr>\n",
              "      <th>23721017000133</th>\n",
              "      <th>T2 COMUNICACAO, VIDEO E PRODUCOES EIRELI - EPP</th>\n",
              "      <td>2194668.00</td>\n",
              "    </tr>\n",
              "    <tr>\n",
              "      <th>02558157000162</th>\n",
              "      <th>TELEFÔNICA BRASIL S.A. VIVO</th>\n",
              "      <td>1721626.30</td>\n",
              "    </tr>\n",
              "    <tr>\n",
              "      <th>05443449000148</th>\n",
              "      <th>VERTICE - SOCIEDADE CIVIL DE PROFISSIONAIS ASSOCIADOS</th>\n",
              "      <td>1419734.00</td>\n",
              "    </tr>\n",
              "    <tr>\n",
              "      <th>07575651000159</th>\n",
              "      <th>GOL LINHAS AEREAS S.A.</th>\n",
              "      <td>1236629.60</td>\n",
              "    </tr>\n",
              "    <tr>\n",
              "      <th>28800786000140</th>\n",
              "      <th>GP COBERTURA JORNALISTICA LTDA ME</th>\n",
              "      <td>1027000.00</td>\n",
              "    </tr>\n",
              "    <tr>\n",
              "      <th>12132854000100</th>\n",
              "      <th>WMS COMERCIO DE ARTIGOS DE PAPELARIA LTDA-ME</th>\n",
              "      <td>910632.40</td>\n",
              "    </tr>\n",
              "    <tr>\n",
              "      <th>00512777000135</th>\n",
              "      <th>Cia Aérea - PASSAREDO</th>\n",
              "      <td>910194.46</td>\n",
              "    </tr>\n",
              "    <tr>\n",
              "      <th>08865615000192</th>\n",
              "      <th>WORKING ASSOCIACAO DE INTEGRACAO PROFISSIONAL</th>\n",
              "      <td>890400.00</td>\n",
              "    </tr>\n",
              "    <tr>\n",
              "      <th>00000000000001</th>\n",
              "      <th>CELULAR FUNCIONAL</th>\n",
              "      <td>872853.43</td>\n",
              "    </tr>\n",
              "    <tr>\n",
              "      <th>11630318000172</th>\n",
              "      <th>LINDERLANDIO BARBOSA ME</th>\n",
              "      <td>811700.00</td>\n",
              "    </tr>\n",
              "    <tr>\n",
              "      <th>02610235000120</th>\n",
              "      <th>DMD Gestão Administrativa LTDA - ME</th>\n",
              "      <td>805000.00</td>\n",
              "    </tr>\n",
              "    <tr>\n",
              "      <th>26735227000179</th>\n",
              "      <th>GOLD CAR BRASILIA LOCADORA DE VEICULOS ME</th>\n",
              "      <td>766486.73</td>\n",
              "    </tr>\n",
              "    <tr>\n",
              "      <th>13347016000117</th>\n",
              "      <th>FACEBOOK SERVIÇOS ONLINE DO BRASIL LTDA</th>\n",
              "      <td>738266.54</td>\n",
              "    </tr>\n",
              "    <tr>\n",
              "      <th>06164253000187</th>\n",
              "      <th>GOL LINHAS AEREAS INTELIGENTES S.A.</th>\n",
              "      <td>713335.88</td>\n",
              "    </tr>\n",
              "  </tbody>\n",
              "</table>\n",
              "</div>"
            ]
          },
          "metadata": {},
          "execution_count": 41
        }
      ],
      "metadata": {
        "id": "c154660e"
      }
    },
    {
      "cell_type": "code",
      "execution_count": 44,
      "source": [
        "df_reembolso_comp.columns"
      ],
      "outputs": [
        {
          "output_type": "execute_result",
          "data": {
            "text/plain": [
              "Index(['Unnamed: 0', 'txNomeParlamentar', 'cpf', 'ideCadastro',\n",
              "       'nuCarteiraParlamentar', 'nuLegislatura', 'sgUF', 'sgPartido',\n",
              "       'codLegislatura', 'numSubCota', 'txtDescricao',\n",
              "       'numEspecificacaoSubCota', 'txtDescricaoEspecificacao', 'txtFornecedor',\n",
              "       'txtCNPJCPF', 'txtNumero', 'indTipoDocumento', 'datEmissao',\n",
              "       'vlrDocumento', 'vlrGlosa', 'vlrLiquido', 'numMes', 'numAno',\n",
              "       'numParcela', 'txtPassageiro', 'txtTrecho', 'numLote',\n",
              "       'numRessarcimento', 'vlrRestituicao', 'nuDeputadoId', 'ideDocumento',\n",
              "       'urlDocumento', 'cnpj', 'partners', 'secondary_activities', 'latitude',\n",
              "       'longitude', 'opening', 'main_activity', 'neighborhood',\n",
              "       'share_capital', 'zip_code', 'main_activity_code', 'city_code',\n",
              "       'judicial_nature_code', 'additional_address_details',\n",
              "       'removed_from_simples_since', 'opened_in', 'opted_for_comples_in',\n",
              "       'situation_date', 'special_situation_date', 'fax_area_code',\n",
              "       'phone1_area_code', 'phone2_area_code', 'address_type',\n",
              "       'responsible_federative_entity', 'hq_or_subsidiary_code', 'address',\n",
              "       'situation_reason', 'city', 'legal_entity', 'city_abroad_name',\n",
              "       'trade_name', 'number', 'mei', 'simples', 'size',\n",
              "       'administrative_person_category', 'name', 'situation',\n",
              "       'special_situation', 'phone', 'type', 'state', 'last_updated'],\n",
              "      dtype='object')"
            ]
          },
          "metadata": {},
          "execution_count": 44
        }
      ],
      "metadata": {}
    },
    {
      "cell_type": "markdown",
      "source": [
        "### Consulte se houveram gastos reembolsados associados a empresas que na época estavam com status `08`\n",
        "\n",
        "\n",
        "status == 8 significa `BAIXADA` (*a empresa foi extinta, seja por solicitação dos sócios ou por ação da Receita*)"
      ],
      "metadata": {
        "id": "12fc64d4"
      }
    },
    {
      "cell_type": "code",
      "execution_count": 69,
      "source": [
        "empresas_baixadas = (df_reembolso_comp.situation == 8) & (df_reembolso_comp.situation_date <= df_reembolso_comp.datEmissao)\r\n",
        "df_baixadas = df_reembolso_comp[empresas_baixadas].copy()\r\n",
        "\r\n",
        "df_baixadas.groupby(['txNomeParlamentar','situation_date','datEmissao'])['vlrDocumento'].max().head(20)"
      ],
      "outputs": [
        {
          "output_type": "execute_result",
          "data": {
            "text/plain": [
              "txNomeParlamentar      situation_date  datEmissao         \n",
              "Abou Anni              2019-07-01      2019-07-06 00:00:00       5.20\n",
              "                                       2019-07-07 00:00:00       5.20\n",
              "Alencar Santana Braga  2016-05-10      2019-08-05 00:00:00      16.65\n",
              "Alexandre Padilha      2016-05-10      2019-02-13 00:00:00      10.54\n",
              "                                       2019-02-27 00:00:00       8.53\n",
              "                                       2019-11-18 23:00:00      26.73\n",
              "André de Paula         2018-06-08      2019-05-06 00:00:00      47.94\n",
              "CELSO JACOB            2018-02-01      2018-12-17 00:00:00     280.00\n",
              "Capitão Augusto        2019-07-01      2019-10-03 00:00:00       7.80\n",
              "                                       2019-12-11 00:00:00       5.20\n",
              "                                       2019-12-14 00:00:00       5.20\n",
              "                                       2019-12-15 00:00:00       5.20\n",
              "Carla Zambelli         2003-02-20      2019-02-14 00:00:00    7289.65\n",
              "Carlos Chiodini        2018-06-08      2019-12-03 23:00:00      27.90\n",
              "                       2019-06-30      2019-08-30 00:00:00      34.90\n",
              "Carlos Gomes           2019-07-07      2019-08-02 00:00:00    1560.00\n",
              "Carlos Veras           2008-09-30      2019-02-13 00:00:00    1927.02\n",
              "                                       2019-02-22 00:00:00     961.78\n",
              "                                       2019-03-12 00:00:00     930.22\n",
              "                                       2019-03-22 00:00:00     870.04\n",
              "Name: vlrDocumento, dtype: float64"
            ]
          },
          "metadata": {},
          "execution_count": 69
        }
      ],
      "metadata": {
        "id": "ec3b6710"
      }
    },
    {
      "cell_type": "code",
      "execution_count": null,
      "source": [],
      "outputs": [],
      "metadata": {}
    },
    {
      "cell_type": "markdown",
      "source": [
        "### Desafio extra\n",
        "\n",
        "Esse desafio traz algumas ideias de análises. Fique a vontade para tentar encontrar essas respostas :)\n",
        "\n",
        "- Qual o total gasto nos finais de semana?\n",
        "\n",
        "- Agrupando por parlamentar e filtrando por finais de semana, qual o parlamentar que mais gastou em um final de semana?\n",
        "\n",
        "- Tente filtrar os reembolsos envolvendo alimentação, agrupar por fornecedor, e verificar os fornecedores mais frequentados. Poderíamos analisar se existiram gastos com alto desvio padrão considerando os reembolsos de um restaurante em específico. Se você tem o grupo de gastos feitos em um local X, é possível encontrar a média de gasto feito por deputados nesse local X, e de repente encontrar qual teve um gasto muito acima desse valor. \n",
        "\n",
        "- Podemos tentar encontrar se houve parlamentar que teve alta frequência de reembolsos associados a empresas que já estavam com status `Baixada`."
      ],
      "metadata": {
        "id": "a9f6370a"
      }
    }
  ]
}
{
 "cells": [
  {
   "cell_type": "markdown",
   "source": [
    "# requests-html"
   ],
   "metadata": {}
  },
  {
   "cell_type": "code",
   "execution_count": 60,
   "source": [
    "# !pip install requests-html "
   ],
   "outputs": [],
   "metadata": {}
  },
  {
   "cell_type": "code",
   "execution_count": 105,
   "source": [
    "url = (\r\n",
    "  \"https://pt.wikipedia.org/wiki/Lista_de_parlamentares_de_S%C3%A3o_Paulo\"\r\n",
    ")"
   ],
   "outputs": [],
   "metadata": {}
  },
  {
   "cell_type": "code",
   "execution_count": 106,
   "source": [
    "# requests_html: This library intends to make parsing HTML \r\n",
    "# (e.g. scraping the web) as simple and intuitive as possible.\r\n",
    "from requests_html import HTMLSession\r\n",
    "session = HTMLSession()"
   ],
   "outputs": [],
   "metadata": {}
  },
  {
   "cell_type": "code",
   "execution_count": 107,
   "source": [
    "r = session.get(url)"
   ],
   "outputs": [],
   "metadata": {}
  },
  {
   "cell_type": "code",
   "execution_count": 111,
   "source": [
    "r.html"
   ],
   "outputs": [
    {
     "output_type": "execute_result",
     "data": {
      "text/plain": [
       "<HTML url='https://pt.wikipedia.org/wiki/Lista_de_parlamentares_de_S%C3%A3o_Paulo'>"
      ]
     },
     "metadata": {},
     "execution_count": 111
    }
   ],
   "metadata": {}
  },
  {
   "cell_type": "code",
   "execution_count": 115,
   "source": [
    "# Select Elements within Elements\r\n",
    "r.html.find(\"table\")\r\n",
    "#r.html.find(\"table\", first=True).text\r\n",
    "#r.html.find('a', containing='kenneth')"
   ],
   "outputs": [
    {
     "output_type": "execute_result",
     "data": {
      "text/plain": [
       "[<Element 'table' class=('wikitable',) style='font-size: 85%;'>,\n",
       " <Element 'table' class=('wikitable',) style='font-size: 85%;'>,\n",
       " <Element 'table' class=('nowraplinks', 'collapsible', 'autocollapse', 'navbox-inner') style='border-spacing:0;background:transparent;color:inherit'>,\n",
       " <Element 'table' class=('nowraplinks', 'collapsible', 'show', 'navbox-inner') style='border-spacing:0;background:transparent;color:inherit'>]"
      ]
     },
     "metadata": {},
     "execution_count": 115
    }
   ],
   "metadata": {}
  },
  {
   "cell_type": "code",
   "execution_count": 117,
   "source": [
    "r.html.find(\"table\", containing=\"Deputado\")"
   ],
   "outputs": [
    {
     "output_type": "execute_result",
     "data": {
      "text/plain": [
       "[<Element 'table' class=('wikitable',) style='font-size: 85%;'>]"
      ]
     },
     "metadata": {},
     "execution_count": 117
    }
   ],
   "metadata": {}
  },
  {
   "cell_type": "code",
   "execution_count": 120,
   "source": [
    "# Search for text on the page:\r\n",
    "r.html.search('({})')\r\n",
    "#r.html.search('({ano})')"
   ],
   "outputs": [
    {
     "output_type": "execute_result",
     "data": {
      "text/plain": [
       "<Result ('RLQ=window.RLQ||[]',) {}>"
      ]
     },
     "metadata": {},
     "execution_count": 120
    }
   ],
   "metadata": {}
  },
  {
   "cell_type": "markdown",
   "source": [],
   "metadata": {}
  },
  {
   "cell_type": "code",
   "execution_count": 121,
   "source": [
    "# Select an Element with a CSS Selector\r\n",
    "r.html.find('#mw-content-text')\r\n",
    "# r.html.find('.mw-content-text')"
   ],
   "outputs": [
    {
     "output_type": "execute_result",
     "data": {
      "text/plain": [
       "[<Element 'div' id='mw-content-text' class=('mw-body-content', 'mw-content-ltr') lang='pt' dir='ltr'>]"
      ]
     },
     "metadata": {},
     "execution_count": 121
    }
   ],
   "metadata": {}
  },
  {
   "cell_type": "code",
   "execution_count": 67,
   "source": [
    "tables = r.html.find(\"table\")\r\n",
    "\r\n",
    "table_df = tables[1]\r\n",
    "table_df"
   ],
   "outputs": [
    {
     "output_type": "execute_result",
     "data": {
      "text/plain": [
       "<Element 'table' class=('wikitable',) style='font-size: 85%;'>"
      ]
     },
     "metadata": {},
     "execution_count": 67
    }
   ],
   "metadata": {}
  },
  {
   "cell_type": "code",
   "execution_count": 68,
   "source": [
    "rows = table_df.find(\"tr\")\r\n",
    "rows"
   ],
   "outputs": [
    {
     "output_type": "execute_result",
     "data": {
      "text/plain": [
       "[<Element 'tr' >,\n",
       " <Element 'tr' >,\n",
       " <Element 'tr' >,\n",
       " <Element 'tr' >,\n",
       " <Element 'tr' >,\n",
       " <Element 'tr' >,\n",
       " <Element 'tr' >]"
      ]
     },
     "metadata": {},
     "execution_count": 68
    }
   ],
   "metadata": {}
  },
  {
   "cell_type": "code",
   "execution_count": 69,
   "source": [
    "headers = rows[0].find(\"th\")\r\n",
    "headers[0].text"
   ],
   "outputs": [
    {
     "output_type": "execute_result",
     "data": {
      "text/plain": [
       "'Senadores eleitos'"
      ]
     },
     "metadata": {},
     "execution_count": 69
    }
   ],
   "metadata": {}
  },
  {
   "cell_type": "code",
   "execution_count": 70,
   "source": [
    "headers_list = []\r\n",
    "\r\n",
    "for header in headers:\r\n",
    "    headers_list.append(header.text)"
   ],
   "outputs": [],
   "metadata": {}
  },
  {
   "cell_type": "code",
   "execution_count": 71,
   "source": [
    "dados = []\r\n",
    "\r\n",
    "for row in rows[1:]:\r\n",
    "    itens = row.find(\"td\")\r\n",
    "\r\n",
    "    r = []\r\n",
    "    \r\n",
    "    for item in itens:\r\n",
    "        r.append(item.text)\r\n",
    "\r\n",
    "        dados.append(r)"
   ],
   "outputs": [],
   "metadata": {}
  },
  {
   "cell_type": "code",
   "execution_count": 72,
   "source": [
    "import pandas as pd"
   ],
   "outputs": [],
   "metadata": {}
  },
  {
   "cell_type": "code",
   "execution_count": 73,
   "source": [
    "pd.DataFrame(dados, columns=headers)"
   ],
   "outputs": [
    {
     "output_type": "execute_result",
     "data": {
      "text/html": [
       "<div>\n",
       "<style scoped>\n",
       "    .dataframe tbody tr th:only-of-type {\n",
       "        vertical-align: middle;\n",
       "    }\n",
       "\n",
       "    .dataframe tbody tr th {\n",
       "        vertical-align: top;\n",
       "    }\n",
       "\n",
       "    .dataframe thead th {\n",
       "        text-align: right;\n",
       "    }\n",
       "</style>\n",
       "<table border=\"1\" class=\"dataframe\">\n",
       "  <thead>\n",
       "    <tr style=\"text-align: right;\">\n",
       "      <th></th>\n",
       "      <th>&lt;Element 'th' width='190' style='background-color:#CCCCCC'&gt;</th>\n",
       "      <th>&lt;Element 'th' width='190' style='background-color:#CCCCCC'&gt;</th>\n",
       "      <th>&lt;Element 'th' width='80' style='background-color:#CCCCCC'&gt;</th>\n",
       "      <th>&lt;Element 'th' width='470' style='background-color:#CCCCCC'&gt;</th>\n",
       "    </tr>\n",
       "  </thead>\n",
       "  <tbody>\n",
       "    <tr>\n",
       "      <th>0</th>\n",
       "      <td>Danton Jobim[nota 5][nota 6]</td>\n",
       "      <td>Avaré, SP</td>\n",
       "      <td>2</td>\n",
       "      <td>1970, 1974</td>\n",
       "    </tr>\n",
       "    <tr>\n",
       "      <th>1</th>\n",
       "      <td>Danton Jobim[nota 5][nota 6]</td>\n",
       "      <td>Avaré, SP</td>\n",
       "      <td>2</td>\n",
       "      <td>1970, 1974</td>\n",
       "    </tr>\n",
       "    <tr>\n",
       "      <th>2</th>\n",
       "      <td>Danton Jobim[nota 5][nota 6]</td>\n",
       "      <td>Avaré, SP</td>\n",
       "      <td>2</td>\n",
       "      <td>1970, 1974</td>\n",
       "    </tr>\n",
       "    <tr>\n",
       "      <th>3</th>\n",
       "      <td>Danton Jobim[nota 5][nota 6]</td>\n",
       "      <td>Avaré, SP</td>\n",
       "      <td>2</td>\n",
       "      <td>1970, 1974</td>\n",
       "    </tr>\n",
       "    <tr>\n",
       "      <th>4</th>\n",
       "      <td>Gilberto Marinho</td>\n",
       "      <td>Pelotas, RS</td>\n",
       "      <td>1</td>\n",
       "      <td>1962</td>\n",
       "    </tr>\n",
       "    <tr>\n",
       "      <th>5</th>\n",
       "      <td>Gilberto Marinho</td>\n",
       "      <td>Pelotas, RS</td>\n",
       "      <td>1</td>\n",
       "      <td>1962</td>\n",
       "    </tr>\n",
       "    <tr>\n",
       "      <th>6</th>\n",
       "      <td>Gilberto Marinho</td>\n",
       "      <td>Pelotas, RS</td>\n",
       "      <td>1</td>\n",
       "      <td>1962</td>\n",
       "    </tr>\n",
       "    <tr>\n",
       "      <th>7</th>\n",
       "      <td>Gilberto Marinho</td>\n",
       "      <td>Pelotas, RS</td>\n",
       "      <td>1</td>\n",
       "      <td>1962</td>\n",
       "    </tr>\n",
       "    <tr>\n",
       "      <th>8</th>\n",
       "      <td>Aurélio Viana</td>\n",
       "      <td>Maceió, AL</td>\n",
       "      <td>1</td>\n",
       "      <td>1962</td>\n",
       "    </tr>\n",
       "    <tr>\n",
       "      <th>9</th>\n",
       "      <td>Aurélio Viana</td>\n",
       "      <td>Maceió, AL</td>\n",
       "      <td>1</td>\n",
       "      <td>1962</td>\n",
       "    </tr>\n",
       "    <tr>\n",
       "      <th>10</th>\n",
       "      <td>Aurélio Viana</td>\n",
       "      <td>Maceió, AL</td>\n",
       "      <td>1</td>\n",
       "      <td>1962</td>\n",
       "    </tr>\n",
       "    <tr>\n",
       "      <th>11</th>\n",
       "      <td>Aurélio Viana</td>\n",
       "      <td>Maceió, AL</td>\n",
       "      <td>1</td>\n",
       "      <td>1962</td>\n",
       "    </tr>\n",
       "    <tr>\n",
       "      <th>12</th>\n",
       "      <td>Mário Martins[nota 5]</td>\n",
       "      <td>Petrópolis, RJ</td>\n",
       "      <td>1</td>\n",
       "      <td>1966</td>\n",
       "    </tr>\n",
       "    <tr>\n",
       "      <th>13</th>\n",
       "      <td>Mário Martins[nota 5]</td>\n",
       "      <td>Petrópolis, RJ</td>\n",
       "      <td>1</td>\n",
       "      <td>1966</td>\n",
       "    </tr>\n",
       "    <tr>\n",
       "      <th>14</th>\n",
       "      <td>Mário Martins[nota 5]</td>\n",
       "      <td>Petrópolis, RJ</td>\n",
       "      <td>1</td>\n",
       "      <td>1966</td>\n",
       "    </tr>\n",
       "    <tr>\n",
       "      <th>15</th>\n",
       "      <td>Mário Martins[nota 5]</td>\n",
       "      <td>Petrópolis, RJ</td>\n",
       "      <td>1</td>\n",
       "      <td>1966</td>\n",
       "    </tr>\n",
       "    <tr>\n",
       "      <th>16</th>\n",
       "      <td>Benjamin Farah[nota 6]</td>\n",
       "      <td>Corumbá, MS</td>\n",
       "      <td>1</td>\n",
       "      <td>1970</td>\n",
       "    </tr>\n",
       "    <tr>\n",
       "      <th>17</th>\n",
       "      <td>Benjamin Farah[nota 6]</td>\n",
       "      <td>Corumbá, MS</td>\n",
       "      <td>1</td>\n",
       "      <td>1970</td>\n",
       "    </tr>\n",
       "    <tr>\n",
       "      <th>18</th>\n",
       "      <td>Benjamin Farah[nota 6]</td>\n",
       "      <td>Corumbá, MS</td>\n",
       "      <td>1</td>\n",
       "      <td>1970</td>\n",
       "    </tr>\n",
       "    <tr>\n",
       "      <th>19</th>\n",
       "      <td>Benjamin Farah[nota 6]</td>\n",
       "      <td>Corumbá, MS</td>\n",
       "      <td>1</td>\n",
       "      <td>1970</td>\n",
       "    </tr>\n",
       "    <tr>\n",
       "      <th>20</th>\n",
       "      <td>Nelson Carneiro[nota 6]</td>\n",
       "      <td>Salvador, BA</td>\n",
       "      <td>1</td>\n",
       "      <td>1970</td>\n",
       "    </tr>\n",
       "    <tr>\n",
       "      <th>21</th>\n",
       "      <td>Nelson Carneiro[nota 6]</td>\n",
       "      <td>Salvador, BA</td>\n",
       "      <td>1</td>\n",
       "      <td>1970</td>\n",
       "    </tr>\n",
       "    <tr>\n",
       "      <th>22</th>\n",
       "      <td>Nelson Carneiro[nota 6]</td>\n",
       "      <td>Salvador, BA</td>\n",
       "      <td>1</td>\n",
       "      <td>1970</td>\n",
       "    </tr>\n",
       "    <tr>\n",
       "      <th>23</th>\n",
       "      <td>Nelson Carneiro[nota 6]</td>\n",
       "      <td>Salvador, BA</td>\n",
       "      <td>1</td>\n",
       "      <td>1970</td>\n",
       "    </tr>\n",
       "  </tbody>\n",
       "</table>\n",
       "</div>"
      ],
      "text/plain": [
       "   <Element 'th' width='190' style='background-color:#CCCCCC'>  \\\n",
       "0                        Danton Jobim[nota 5][nota 6]            \n",
       "1                        Danton Jobim[nota 5][nota 6]            \n",
       "2                        Danton Jobim[nota 5][nota 6]            \n",
       "3                        Danton Jobim[nota 5][nota 6]            \n",
       "4                                    Gilberto Marinho            \n",
       "5                                    Gilberto Marinho            \n",
       "6                                    Gilberto Marinho            \n",
       "7                                    Gilberto Marinho            \n",
       "8                                       Aurélio Viana            \n",
       "9                                       Aurélio Viana            \n",
       "10                                      Aurélio Viana            \n",
       "11                                      Aurélio Viana            \n",
       "12                              Mário Martins[nota 5]            \n",
       "13                              Mário Martins[nota 5]            \n",
       "14                              Mário Martins[nota 5]            \n",
       "15                              Mário Martins[nota 5]            \n",
       "16                             Benjamin Farah[nota 6]            \n",
       "17                             Benjamin Farah[nota 6]            \n",
       "18                             Benjamin Farah[nota 6]            \n",
       "19                             Benjamin Farah[nota 6]            \n",
       "20                            Nelson Carneiro[nota 6]            \n",
       "21                            Nelson Carneiro[nota 6]            \n",
       "22                            Nelson Carneiro[nota 6]            \n",
       "23                            Nelson Carneiro[nota 6]            \n",
       "\n",
       "   <Element 'th' width='190' style='background-color:#CCCCCC'>  \\\n",
       "0                                           Avaré, SP            \n",
       "1                                           Avaré, SP            \n",
       "2                                           Avaré, SP            \n",
       "3                                           Avaré, SP            \n",
       "4                                         Pelotas, RS            \n",
       "5                                         Pelotas, RS            \n",
       "6                                         Pelotas, RS            \n",
       "7                                         Pelotas, RS            \n",
       "8                                          Maceió, AL            \n",
       "9                                          Maceió, AL            \n",
       "10                                         Maceió, AL            \n",
       "11                                         Maceió, AL            \n",
       "12                                     Petrópolis, RJ            \n",
       "13                                     Petrópolis, RJ            \n",
       "14                                     Petrópolis, RJ            \n",
       "15                                     Petrópolis, RJ            \n",
       "16                                        Corumbá, MS            \n",
       "17                                        Corumbá, MS            \n",
       "18                                        Corumbá, MS            \n",
       "19                                        Corumbá, MS            \n",
       "20                                       Salvador, BA            \n",
       "21                                       Salvador, BA            \n",
       "22                                       Salvador, BA            \n",
       "23                                       Salvador, BA            \n",
       "\n",
       "   <Element 'th' width='80' style='background-color:#CCCCCC'>  \\\n",
       "0                                                   2           \n",
       "1                                                   2           \n",
       "2                                                   2           \n",
       "3                                                   2           \n",
       "4                                                   1           \n",
       "5                                                   1           \n",
       "6                                                   1           \n",
       "7                                                   1           \n",
       "8                                                   1           \n",
       "9                                                   1           \n",
       "10                                                  1           \n",
       "11                                                  1           \n",
       "12                                                  1           \n",
       "13                                                  1           \n",
       "14                                                  1           \n",
       "15                                                  1           \n",
       "16                                                  1           \n",
       "17                                                  1           \n",
       "18                                                  1           \n",
       "19                                                  1           \n",
       "20                                                  1           \n",
       "21                                                  1           \n",
       "22                                                  1           \n",
       "23                                                  1           \n",
       "\n",
       "   <Element 'th' width='470' style='background-color:#CCCCCC'>  \n",
       "0                                          1970, 1974           \n",
       "1                                          1970, 1974           \n",
       "2                                          1970, 1974           \n",
       "3                                          1970, 1974           \n",
       "4                                                1962           \n",
       "5                                                1962           \n",
       "6                                                1962           \n",
       "7                                                1962           \n",
       "8                                                1962           \n",
       "9                                                1962           \n",
       "10                                               1962           \n",
       "11                                               1962           \n",
       "12                                               1966           \n",
       "13                                               1966           \n",
       "14                                               1966           \n",
       "15                                               1966           \n",
       "16                                               1970           \n",
       "17                                               1970           \n",
       "18                                               1970           \n",
       "19                                               1970           \n",
       "20                                               1970           \n",
       "21                                               1970           \n",
       "22                                               1970           \n",
       "23                                               1970           "
      ]
     },
     "metadata": {},
     "execution_count": 73
    }
   ],
   "metadata": {}
  },
  {
   "cell_type": "markdown",
   "source": [
    "# pandas"
   ],
   "metadata": {}
  },
  {
   "cell_type": "code",
   "execution_count": 74,
   "source": [
    "import pandas as pd\r\n",
    "\r\n",
    "url = (\r\n",
    "  \"https://pt.wikipedia.org/wiki/Lista_de_parlamentares_de_S%C3%A3o_Paulo\"\r\n",
    ")\r\n",
    "\r\n",
    "tables = pd.read_html(url)"
   ],
   "outputs": [],
   "metadata": {
    "scrolled": false
   }
  },
  {
   "cell_type": "code",
   "execution_count": 82,
   "source": [
    "print(f'Total tables: {len(tables)}')"
   ],
   "outputs": [
    {
     "output_type": "stream",
     "name": "stdout",
     "text": [
      "Total tables: 4\n"
     ]
    }
   ],
   "metadata": {}
  },
  {
   "cell_type": "code",
   "execution_count": 116,
   "source": [
    "tables[0].info()"
   ],
   "outputs": [
    {
     "output_type": "stream",
     "name": "stdout",
     "text": [
      "<class 'pandas.core.frame.DataFrame'>\n",
      "RangeIndex: 23 entries, 0 to 22\n",
      "Data columns (total 4 columns):\n",
      " #   Column             Non-Null Count  Dtype \n",
      "---  ------             --------------  ----- \n",
      " 0   Senadores eleitos  23 non-null     object\n",
      " 1   Naturalidade       23 non-null     object\n",
      " 2   Mandatos           23 non-null     int64 \n",
      " 3   Ano da eleição     23 non-null     object\n",
      "dtypes: int64(1), object(3)\n",
      "memory usage: 864.0+ bytes\n"
     ]
    }
   ],
   "metadata": {}
  },
  {
   "cell_type": "code",
   "execution_count": 114,
   "source": [
    "tables[0].head()"
   ],
   "outputs": [
    {
     "output_type": "execute_result",
     "data": {
      "text/html": [
       "<div>\n",
       "<style scoped>\n",
       "    .dataframe tbody tr th:only-of-type {\n",
       "        vertical-align: middle;\n",
       "    }\n",
       "\n",
       "    .dataframe tbody tr th {\n",
       "        vertical-align: top;\n",
       "    }\n",
       "\n",
       "    .dataframe thead th {\n",
       "        text-align: right;\n",
       "    }\n",
       "</style>\n",
       "<table border=\"1\" class=\"dataframe\">\n",
       "  <thead>\n",
       "    <tr style=\"text-align: right;\">\n",
       "      <th></th>\n",
       "      <th>Senadores eleitos</th>\n",
       "      <th>Naturalidade</th>\n",
       "      <th>Mandatos</th>\n",
       "      <th>Ano da eleição</th>\n",
       "    </tr>\n",
       "  </thead>\n",
       "  <tbody>\n",
       "    <tr>\n",
       "      <th>0</th>\n",
       "      <td>Eduardo Suplicy</td>\n",
       "      <td>São Paulo, SP</td>\n",
       "      <td>3</td>\n",
       "      <td>1990, 1998, 2006</td>\n",
       "    </tr>\n",
       "    <tr>\n",
       "      <th>1</th>\n",
       "      <td>Auro de Moura Andrade</td>\n",
       "      <td>Barretos, SP</td>\n",
       "      <td>2</td>\n",
       "      <td>1954, 1962</td>\n",
       "    </tr>\n",
       "    <tr>\n",
       "      <th>2</th>\n",
       "      <td>Lino de Matos[nota 1]</td>\n",
       "      <td>Ipaussu, SP</td>\n",
       "      <td>2</td>\n",
       "      <td>1954, 1962</td>\n",
       "    </tr>\n",
       "    <tr>\n",
       "      <th>3</th>\n",
       "      <td>Franco Montoro[nota 2]</td>\n",
       "      <td>São Paulo, SP</td>\n",
       "      <td>2</td>\n",
       "      <td>1970, 1978</td>\n",
       "    </tr>\n",
       "    <tr>\n",
       "      <th>4</th>\n",
       "      <td>Romeu Tuma[nota 3]</td>\n",
       "      <td>São Paulo, SP</td>\n",
       "      <td>2</td>\n",
       "      <td>1994, 2002</td>\n",
       "    </tr>\n",
       "  </tbody>\n",
       "</table>\n",
       "</div>"
      ],
      "text/plain": [
       "        Senadores eleitos   Naturalidade  Mandatos    Ano da eleição\n",
       "0         Eduardo Suplicy  São Paulo, SP         3  1990, 1998, 2006\n",
       "1   Auro de Moura Andrade   Barretos, SP         2        1954, 1962\n",
       "2   Lino de Matos[nota 1]    Ipaussu, SP         2        1954, 1962\n",
       "3  Franco Montoro[nota 2]  São Paulo, SP         2        1970, 1978\n",
       "4      Romeu Tuma[nota 3]  São Paulo, SP         2        1994, 2002"
      ]
     },
     "metadata": {},
     "execution_count": 114
    }
   ],
   "metadata": {}
  },
  {
   "cell_type": "code",
   "execution_count": 103,
   "source": [
    "tables[1].sort_values(by=\"Mandatos\").tail(20).query(\"Mandatos >= 7\")"
   ],
   "outputs": [
    {
     "output_type": "execute_result",
     "data": {
      "text/html": [
       "<div>\n",
       "<style scoped>\n",
       "    .dataframe tbody tr th:only-of-type {\n",
       "        vertical-align: middle;\n",
       "    }\n",
       "\n",
       "    .dataframe tbody tr th {\n",
       "        vertical-align: top;\n",
       "    }\n",
       "\n",
       "    .dataframe thead th {\n",
       "        text-align: right;\n",
       "    }\n",
       "</style>\n",
       "<table border=\"1\" class=\"dataframe\">\n",
       "  <thead>\n",
       "    <tr style=\"text-align: right;\">\n",
       "      <th></th>\n",
       "      <th>Deputados federais eleitos</th>\n",
       "      <th>Naturalidade ou base</th>\n",
       "      <th>Mandatos</th>\n",
       "      <th>Ano da eleição</th>\n",
       "    </tr>\n",
       "  </thead>\n",
       "  <tbody>\n",
       "    <tr>\n",
       "      <th>6</th>\n",
       "      <td>Arlindo Chinaglia</td>\n",
       "      <td>Serra Azul, SP</td>\n",
       "      <td>7</td>\n",
       "      <td>1994, 1998, 2002, 2006, 2010, 2014, 2018</td>\n",
       "    </tr>\n",
       "    <tr>\n",
       "      <th>5</th>\n",
       "      <td>Nelson Marquezelli</td>\n",
       "      <td>Pirassununga, SP</td>\n",
       "      <td>7</td>\n",
       "      <td>1990, 1994, 1998, 2002, 2006, 2010, 2014</td>\n",
       "    </tr>\n",
       "    <tr>\n",
       "      <th>4</th>\n",
       "      <td>Cunha Bueno</td>\n",
       "      <td>São Paulo, SP</td>\n",
       "      <td>7</td>\n",
       "      <td>1974, 1978, 1982, 1986, 1990, 1994, 1998</td>\n",
       "    </tr>\n",
       "    <tr>\n",
       "      <th>3</th>\n",
       "      <td>Pacheco Chaves</td>\n",
       "      <td>São Paulo, SP</td>\n",
       "      <td>7</td>\n",
       "      <td>1954, 1958, 1962, 1970, 1974, 1978, 1982</td>\n",
       "    </tr>\n",
       "    <tr>\n",
       "      <th>2</th>\n",
       "      <td>Arnaldo Faria de Sá</td>\n",
       "      <td>São Paulo, SP</td>\n",
       "      <td>8</td>\n",
       "      <td>1986, 1990, 1994, 1998, 2002, 2006, 2010, 2014</td>\n",
       "    </tr>\n",
       "    <tr>\n",
       "      <th>1</th>\n",
       "      <td>Herbert Levy</td>\n",
       "      <td>São Paulo, SP</td>\n",
       "      <td>9</td>\n",
       "      <td>1950, 1954, 1958, 1962, 1966, 1970, 1974, 1978...</td>\n",
       "    </tr>\n",
       "    <tr>\n",
       "      <th>0</th>\n",
       "      <td>Ulysses Guimarães</td>\n",
       "      <td>Itirapina, SP</td>\n",
       "      <td>11</td>\n",
       "      <td>1950, 1954, 1958, 1962, 1966, 1970, 1974, 1978...</td>\n",
       "    </tr>\n",
       "  </tbody>\n",
       "</table>\n",
       "</div>"
      ],
      "text/plain": [
       "  Deputados federais eleitos Naturalidade ou base  Mandatos  \\\n",
       "6          Arlindo Chinaglia       Serra Azul, SP         7   \n",
       "5         Nelson Marquezelli     Pirassununga, SP         7   \n",
       "4                Cunha Bueno        São Paulo, SP         7   \n",
       "3             Pacheco Chaves        São Paulo, SP         7   \n",
       "2        Arnaldo Faria de Sá        São Paulo, SP         8   \n",
       "1               Herbert Levy        São Paulo, SP         9   \n",
       "0          Ulysses Guimarães        Itirapina, SP        11   \n",
       "\n",
       "                                      Ano da eleição  \n",
       "6           1994, 1998, 2002, 2006, 2010, 2014, 2018  \n",
       "5           1990, 1994, 1998, 2002, 2006, 2010, 2014  \n",
       "4           1974, 1978, 1982, 1986, 1990, 1994, 1998  \n",
       "3           1954, 1958, 1962, 1970, 1974, 1978, 1982  \n",
       "2     1986, 1990, 1994, 1998, 2002, 2006, 2010, 2014  \n",
       "1  1950, 1954, 1958, 1962, 1966, 1970, 1974, 1978...  \n",
       "0  1950, 1954, 1958, 1962, 1966, 1970, 1974, 1978...  "
      ]
     },
     "metadata": {},
     "execution_count": 103
    }
   ],
   "metadata": {}
  },
  {
   "cell_type": "code",
   "execution_count": 104,
   "source": [
    "tables[1].groupby('Naturalidade ou base')['Ano da eleição'].count().sort_values(ascending=False)"
   ],
   "outputs": [
    {
     "output_type": "execute_result",
     "data": {
      "text/plain": [
       "Naturalidade ou base\n",
       "São Paulo, SP         123\n",
       "Santos, SP             23\n",
       "Rio de Janeiro, RJ     18\n",
       "Campinas, SP           17\n",
       "Ribeirão Preto, SP     13\n",
       "                     ... \n",
       "Itainópolis, PI         1\n",
       "Itajobi, SP             1\n",
       "Itajubá, MG             1\n",
       "Itamarandiba, MG        1\n",
       "Óbidos, PA              1\n",
       "Name: Ano da eleição, Length: 241, dtype: int64"
      ]
     },
     "metadata": {},
     "execution_count": 104
    }
   ],
   "metadata": {}
  },
  {
   "cell_type": "code",
   "execution_count": 79,
   "source": [
    "# !pip install html5lib\r\n",
    "import html5lib"
   ],
   "outputs": [],
   "metadata": {}
  },
  {
   "cell_type": "code",
   "execution_count": 80,
   "source": [
    "tables_match = pd.read_html(url, match='Estado da Guanabara')\r\n",
    "len(tables_match)"
   ],
   "outputs": [
    {
     "output_type": "error",
     "ename": "ValueError",
     "evalue": "No tables found matching pattern 'Estado da Guanabara'",
     "traceback": [
      "\u001b[1;31m---------------------------------------------------------------------------\u001b[0m",
      "\u001b[1;31mValueError\u001b[0m                                Traceback (most recent call last)",
      "\u001b[1;32m~\\AppData\\Local\\Temp/ipykernel_4288/3258921310.py\u001b[0m in \u001b[0;36m<module>\u001b[1;34m\u001b[0m\n\u001b[1;32m----> 1\u001b[1;33m \u001b[0mtables_match\u001b[0m \u001b[1;33m=\u001b[0m \u001b[0mpd\u001b[0m\u001b[1;33m.\u001b[0m\u001b[0mread_html\u001b[0m\u001b[1;33m(\u001b[0m\u001b[0murl\u001b[0m\u001b[1;33m,\u001b[0m \u001b[0mmatch\u001b[0m\u001b[1;33m=\u001b[0m\u001b[1;34m'Estado da Guanabara'\u001b[0m\u001b[1;33m)\u001b[0m\u001b[1;33m\u001b[0m\u001b[1;33m\u001b[0m\u001b[0m\n\u001b[0m\u001b[0;32m      2\u001b[0m \u001b[0mlen\u001b[0m\u001b[1;33m(\u001b[0m\u001b[0mtables_match\u001b[0m\u001b[1;33m)\u001b[0m\u001b[1;33m\u001b[0m\u001b[1;33m\u001b[0m\u001b[0m\n",
      "\u001b[1;32mc:\\Curso-python-inovacao-civica\\python-inovacao-civica\\env\\lib\\site-packages\\pandas\\util\\_decorators.py\u001b[0m in \u001b[0;36mwrapper\u001b[1;34m(*args, **kwargs)\u001b[0m\n\u001b[0;32m    309\u001b[0m                     \u001b[0mstacklevel\u001b[0m\u001b[1;33m=\u001b[0m\u001b[0mstacklevel\u001b[0m\u001b[1;33m,\u001b[0m\u001b[1;33m\u001b[0m\u001b[1;33m\u001b[0m\u001b[0m\n\u001b[0;32m    310\u001b[0m                 )\n\u001b[1;32m--> 311\u001b[1;33m             \u001b[1;32mreturn\u001b[0m \u001b[0mfunc\u001b[0m\u001b[1;33m(\u001b[0m\u001b[1;33m*\u001b[0m\u001b[0margs\u001b[0m\u001b[1;33m,\u001b[0m \u001b[1;33m**\u001b[0m\u001b[0mkwargs\u001b[0m\u001b[1;33m)\u001b[0m\u001b[1;33m\u001b[0m\u001b[1;33m\u001b[0m\u001b[0m\n\u001b[0m\u001b[0;32m    312\u001b[0m \u001b[1;33m\u001b[0m\u001b[0m\n\u001b[0;32m    313\u001b[0m         \u001b[1;32mreturn\u001b[0m \u001b[0mwrapper\u001b[0m\u001b[1;33m\u001b[0m\u001b[1;33m\u001b[0m\u001b[0m\n",
      "\u001b[1;32mc:\\Curso-python-inovacao-civica\\python-inovacao-civica\\env\\lib\\site-packages\\pandas\\io\\html.py\u001b[0m in \u001b[0;36mread_html\u001b[1;34m(io, match, flavor, header, index_col, skiprows, attrs, parse_dates, thousands, encoding, decimal, converters, na_values, keep_default_na, displayed_only)\u001b[0m\n\u001b[0;32m   1096\u001b[0m     \u001b[0mio\u001b[0m \u001b[1;33m=\u001b[0m \u001b[0mstringify_path\u001b[0m\u001b[1;33m(\u001b[0m\u001b[0mio\u001b[0m\u001b[1;33m)\u001b[0m\u001b[1;33m\u001b[0m\u001b[1;33m\u001b[0m\u001b[0m\n\u001b[0;32m   1097\u001b[0m \u001b[1;33m\u001b[0m\u001b[0m\n\u001b[1;32m-> 1098\u001b[1;33m     return _parse(\n\u001b[0m\u001b[0;32m   1099\u001b[0m         \u001b[0mflavor\u001b[0m\u001b[1;33m=\u001b[0m\u001b[0mflavor\u001b[0m\u001b[1;33m,\u001b[0m\u001b[1;33m\u001b[0m\u001b[1;33m\u001b[0m\u001b[0m\n\u001b[0;32m   1100\u001b[0m         \u001b[0mio\u001b[0m\u001b[1;33m=\u001b[0m\u001b[0mio\u001b[0m\u001b[1;33m,\u001b[0m\u001b[1;33m\u001b[0m\u001b[1;33m\u001b[0m\u001b[0m\n",
      "\u001b[1;32mc:\\Curso-python-inovacao-civica\\python-inovacao-civica\\env\\lib\\site-packages\\pandas\\io\\html.py\u001b[0m in \u001b[0;36m_parse\u001b[1;34m(flavor, io, match, attrs, encoding, displayed_only, **kwargs)\u001b[0m\n\u001b[0;32m    924\u001b[0m     \u001b[1;32melse\u001b[0m\u001b[1;33m:\u001b[0m\u001b[1;33m\u001b[0m\u001b[1;33m\u001b[0m\u001b[0m\n\u001b[0;32m    925\u001b[0m         \u001b[1;32massert\u001b[0m \u001b[0mretained\u001b[0m \u001b[1;32mis\u001b[0m \u001b[1;32mnot\u001b[0m \u001b[1;32mNone\u001b[0m  \u001b[1;31m# for mypy\u001b[0m\u001b[1;33m\u001b[0m\u001b[1;33m\u001b[0m\u001b[0m\n\u001b[1;32m--> 926\u001b[1;33m         \u001b[1;32mraise\u001b[0m \u001b[0mretained\u001b[0m\u001b[1;33m\u001b[0m\u001b[1;33m\u001b[0m\u001b[0m\n\u001b[0m\u001b[0;32m    927\u001b[0m \u001b[1;33m\u001b[0m\u001b[0m\n\u001b[0;32m    928\u001b[0m     \u001b[0mret\u001b[0m \u001b[1;33m=\u001b[0m \u001b[1;33m[\u001b[0m\u001b[1;33m]\u001b[0m\u001b[1;33m\u001b[0m\u001b[1;33m\u001b[0m\u001b[0m\n",
      "\u001b[1;32mc:\\Curso-python-inovacao-civica\\python-inovacao-civica\\env\\lib\\site-packages\\pandas\\io\\html.py\u001b[0m in \u001b[0;36m_parse\u001b[1;34m(flavor, io, match, attrs, encoding, displayed_only, **kwargs)\u001b[0m\n\u001b[0;32m    904\u001b[0m \u001b[1;33m\u001b[0m\u001b[0m\n\u001b[0;32m    905\u001b[0m         \u001b[1;32mtry\u001b[0m\u001b[1;33m:\u001b[0m\u001b[1;33m\u001b[0m\u001b[1;33m\u001b[0m\u001b[0m\n\u001b[1;32m--> 906\u001b[1;33m             \u001b[0mtables\u001b[0m \u001b[1;33m=\u001b[0m \u001b[0mp\u001b[0m\u001b[1;33m.\u001b[0m\u001b[0mparse_tables\u001b[0m\u001b[1;33m(\u001b[0m\u001b[1;33m)\u001b[0m\u001b[1;33m\u001b[0m\u001b[1;33m\u001b[0m\u001b[0m\n\u001b[0m\u001b[0;32m    907\u001b[0m         \u001b[1;32mexcept\u001b[0m \u001b[0mValueError\u001b[0m \u001b[1;32mas\u001b[0m \u001b[0mcaught\u001b[0m\u001b[1;33m:\u001b[0m\u001b[1;33m\u001b[0m\u001b[1;33m\u001b[0m\u001b[0m\n\u001b[0;32m    908\u001b[0m             \u001b[1;31m# if `io` is an io-like object, check if it's seekable\u001b[0m\u001b[1;33m\u001b[0m\u001b[1;33m\u001b[0m\u001b[1;33m\u001b[0m\u001b[0m\n",
      "\u001b[1;32mc:\\Curso-python-inovacao-civica\\python-inovacao-civica\\env\\lib\\site-packages\\pandas\\io\\html.py\u001b[0m in \u001b[0;36mparse_tables\u001b[1;34m(self)\u001b[0m\n\u001b[0;32m    220\u001b[0m         \u001b[0mlist\u001b[0m \u001b[0mof\u001b[0m \u001b[0mparsed\u001b[0m \u001b[1;33m(\u001b[0m\u001b[0mheader\u001b[0m\u001b[1;33m,\u001b[0m \u001b[0mbody\u001b[0m\u001b[1;33m,\u001b[0m \u001b[0mfooter\u001b[0m\u001b[1;33m)\u001b[0m \u001b[0mtuples\u001b[0m \u001b[1;32mfrom\u001b[0m \u001b[0mtables\u001b[0m\u001b[1;33m.\u001b[0m\u001b[1;33m\u001b[0m\u001b[1;33m\u001b[0m\u001b[0m\n\u001b[0;32m    221\u001b[0m         \"\"\"\n\u001b[1;32m--> 222\u001b[1;33m         \u001b[0mtables\u001b[0m \u001b[1;33m=\u001b[0m \u001b[0mself\u001b[0m\u001b[1;33m.\u001b[0m\u001b[0m_parse_tables\u001b[0m\u001b[1;33m(\u001b[0m\u001b[0mself\u001b[0m\u001b[1;33m.\u001b[0m\u001b[0m_build_doc\u001b[0m\u001b[1;33m(\u001b[0m\u001b[1;33m)\u001b[0m\u001b[1;33m,\u001b[0m \u001b[0mself\u001b[0m\u001b[1;33m.\u001b[0m\u001b[0mmatch\u001b[0m\u001b[1;33m,\u001b[0m \u001b[0mself\u001b[0m\u001b[1;33m.\u001b[0m\u001b[0mattrs\u001b[0m\u001b[1;33m)\u001b[0m\u001b[1;33m\u001b[0m\u001b[1;33m\u001b[0m\u001b[0m\n\u001b[0m\u001b[0;32m    223\u001b[0m         \u001b[1;32mreturn\u001b[0m \u001b[1;33m(\u001b[0m\u001b[0mself\u001b[0m\u001b[1;33m.\u001b[0m\u001b[0m_parse_thead_tbody_tfoot\u001b[0m\u001b[1;33m(\u001b[0m\u001b[0mtable\u001b[0m\u001b[1;33m)\u001b[0m \u001b[1;32mfor\u001b[0m \u001b[0mtable\u001b[0m \u001b[1;32min\u001b[0m \u001b[0mtables\u001b[0m\u001b[1;33m)\u001b[0m\u001b[1;33m\u001b[0m\u001b[1;33m\u001b[0m\u001b[0m\n\u001b[0;32m    224\u001b[0m \u001b[1;33m\u001b[0m\u001b[0m\n",
      "\u001b[1;32mc:\\Curso-python-inovacao-civica\\python-inovacao-civica\\env\\lib\\site-packages\\pandas\\io\\html.py\u001b[0m in \u001b[0;36m_parse_tables\u001b[1;34m(self, doc, match, attrs)\u001b[0m\n\u001b[0;32m    566\u001b[0m \u001b[1;33m\u001b[0m\u001b[0m\n\u001b[0;32m    567\u001b[0m         \u001b[1;32mif\u001b[0m \u001b[1;32mnot\u001b[0m \u001b[0mresult\u001b[0m\u001b[1;33m:\u001b[0m\u001b[1;33m\u001b[0m\u001b[1;33m\u001b[0m\u001b[0m\n\u001b[1;32m--> 568\u001b[1;33m             \u001b[1;32mraise\u001b[0m \u001b[0mValueError\u001b[0m\u001b[1;33m(\u001b[0m\u001b[1;34mf\"No tables found matching pattern {repr(match.pattern)}\"\u001b[0m\u001b[1;33m)\u001b[0m\u001b[1;33m\u001b[0m\u001b[1;33m\u001b[0m\u001b[0m\n\u001b[0m\u001b[0;32m    569\u001b[0m         \u001b[1;32mreturn\u001b[0m \u001b[0mresult\u001b[0m\u001b[1;33m\u001b[0m\u001b[1;33m\u001b[0m\u001b[0m\n\u001b[0;32m    570\u001b[0m \u001b[1;33m\u001b[0m\u001b[0m\n",
      "\u001b[1;31mValueError\u001b[0m: No tables found matching pattern 'Estado da Guanabara'"
     ]
    }
   ],
   "metadata": {}
  }
 ],
 "metadata": {
  "kernelspec": {
   "name": "python3",
   "display_name": "Python 3.9.6 64-bit ('env': venv)"
  },
  "language_info": {
   "codemirror_mode": {
    "name": "ipython",
    "version": 3
   },
   "file_extension": ".py",
   "mimetype": "text/x-python",
   "name": "python",
   "nbconvert_exporter": "python",
   "pygments_lexer": "ipython3",
   "version": "3.9.6"
  },
  "interpreter": {
   "hash": "95df4e442b989bf68ede8b6e02f112c5839e987b4fd221f59869a058c84f7837"
  }
 },
 "nbformat": 4,
 "nbformat_minor": 5
}